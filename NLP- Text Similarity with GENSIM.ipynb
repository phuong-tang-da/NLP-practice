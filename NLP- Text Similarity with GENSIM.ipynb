{
 "cells": [
  {
   "cell_type": "code",
   "execution_count": 1,
   "id": "9582c731",
   "metadata": {},
   "outputs": [],
   "source": [
    "from gensim import corpora, models, similarities\n",
    "import jieba\n",
    "import re"
   ]
  },
  {
   "cell_type": "markdown",
   "id": "e2d68120",
   "metadata": {},
   "source": [
    "# A. find similarity"
   ]
  },
  {
   "cell_type": "markdown",
   "id": "687ca78e",
   "metadata": {},
   "source": [
    "### Read data"
   ]
  },
  {
   "cell_type": "code",
   "execution_count": 2,
   "id": "ca95314d",
   "metadata": {},
   "outputs": [],
   "source": [
    "# all documents\n",
    "docs= ['Dove Body Wash with Pump with skin natural nourishers Deep Moisture shower gel for instantly soft skin and lasting nourishment 1 L',\n",
    "      'Aveeno Daily Moisturizing Body Wash with Soothing Oat Creamy Shower Gel (Soap Free and Dye Free/Light Fragrance), 33 Fl Oz',\n",
    "      'Aveeno Skin Relief Body Wash gently cleanses while leaving itchy, dry skin feeling soothed and moisturized',\n",
    "      'jason natural body wash & shower gel calming lavender 30 oz',\n",
    "      'nivea nourishing care body wash with nourishing serum 20 fl oz',\n",
    "      'aveeno protect + hydrate moisturizing sunscreen lotion with broad spectrum spf 30']"
   ]
  },
  {
   "cell_type": "code",
   "execution_count": 3,
   "id": "0be95588",
   "metadata": {},
   "outputs": [],
   "source": [
    "# selected document (to find similarity vs. all docs above)\n",
    "doc_sim= \"NIVEA MEN Active Clean Shower Gel (500mL)\""
   ]
  },
  {
   "cell_type": "markdown",
   "id": "a3fe9778",
   "metadata": {},
   "source": [
    "### Data preparation"
   ]
  },
  {
   "cell_type": "markdown",
   "id": "402e51b5",
   "metadata": {},
   "source": [
    "**1. Remove Punctuation & Nomalization**"
   ]
  },
  {
   "cell_type": "code",
   "execution_count": 4,
   "id": "f9845e45",
   "metadata": {},
   "outputs": [],
   "source": [
    "# remove special characters & number\n",
    "docs= [re.sub(\"[^a-z ]\",\"\",doc.lower()) for doc in docs]"
   ]
  },
  {
   "cell_type": "code",
   "execution_count": 5,
   "id": "decdb8be",
   "metadata": {},
   "outputs": [
    {
     "data": {
      "text/plain": [
       "['dove body wash with pump with skin natural nourishers deep moisture shower gel for instantly soft skin and lasting nourishment  l',\n",
       " 'aveeno daily moisturizing body wash with soothing oat creamy shower gel soap free and dye freelight fragrance  fl oz',\n",
       " 'aveeno skin relief body wash gently cleanses while leaving itchy dry skin feeling soothed and moisturized',\n",
       " 'jason natural body wash  shower gel calming lavender  oz',\n",
       " 'nivea nourishing care body wash with nourishing serum  fl oz',\n",
       " 'aveeno protect  hydrate moisturizing sunscreen lotion with broad spectrum spf ']"
      ]
     },
     "execution_count": 5,
     "metadata": {},
     "output_type": "execute_result"
    }
   ],
   "source": [
    "docs"
   ]
  },
  {
   "cell_type": "code",
   "execution_count": 6,
   "id": "1f176563",
   "metadata": {},
   "outputs": [],
   "source": [
    "# remove special characters & number\n",
    "doc_sim= re.sub(\"[^a-z ]\",\"\",doc_sim.lower())"
   ]
  },
  {
   "cell_type": "markdown",
   "id": "cda0618f",
   "metadata": {},
   "source": [
    "**2.Tokenization**"
   ]
  },
  {
   "cell_type": "code",
   "execution_count": 7,
   "id": "fbbd9689",
   "metadata": {},
   "outputs": [
    {
     "name": "stderr",
     "output_type": "stream",
     "text": [
      "Building prefix dict from the default dictionary ...\n",
      "Loading model from cache C:\\Users\\tangh\\AppData\\Local\\Temp\\jieba.cache\n",
      "Loading model cost 0.805 seconds.\n",
      "Prefix dict has been built successfully.\n"
     ]
    }
   ],
   "source": [
    "# Split into words\n",
    "texts= [jieba.lcut(text) for text in docs]"
   ]
  },
  {
   "cell_type": "code",
   "execution_count": 8,
   "id": "26192570",
   "metadata": {},
   "outputs": [
    {
     "name": "stdout",
     "output_type": "stream",
     "text": [
      "[['dove', ' ', 'body', ' ', 'wash', ' ', 'with', ' ', 'pump', ' ', 'with', ' ', 'skin', ' ', 'natural', ' ', 'nourishers', ' ', 'deep', ' ', 'moisture', ' ', 'shower', ' ', 'gel', ' ', 'for', ' ', 'instantly', ' ', 'soft', ' ', 'skin', ' ', 'and', ' ', 'lasting', ' ', 'nourishment', ' ', ' ', 'l'], ['aveeno', ' ', 'daily', ' ', 'moisturizing', ' ', 'body', ' ', 'wash', ' ', 'with', ' ', 'soothing', ' ', 'oat', ' ', 'creamy', ' ', 'shower', ' ', 'gel', ' ', 'soap', ' ', 'free', ' ', 'and', ' ', 'dye', ' ', 'freelight', ' ', 'fragrance', ' ', ' ', 'fl', ' ', 'oz'], ['aveeno', ' ', 'skin', ' ', 'relief', ' ', 'body', ' ', 'wash', ' ', 'gently', ' ', 'cleanses', ' ', 'while', ' ', 'leaving', ' ', 'itchy', ' ', 'dry', ' ', 'skin', ' ', 'feeling', ' ', 'soothed', ' ', 'and', ' ', 'moisturized']]\n"
     ]
    }
   ],
   "source": [
    "print(texts[:3])"
   ]
  },
  {
   "cell_type": "code",
   "execution_count": 9,
   "id": "bbe03d20",
   "metadata": {},
   "outputs": [],
   "source": [
    "# remove \" \"\n",
    "texts= [[t for t in text if not t in [\" \"]] for text in texts]"
   ]
  },
  {
   "cell_type": "code",
   "execution_count": 10,
   "id": "b41f1a53",
   "metadata": {},
   "outputs": [
    {
     "name": "stdout",
     "output_type": "stream",
     "text": [
      "[['dove', 'body', 'wash', 'with', 'pump', 'with', 'skin', 'natural', 'nourishers', 'deep', 'moisture', 'shower', 'gel', 'for', 'instantly', 'soft', 'skin', 'and', 'lasting', 'nourishment', 'l'], ['aveeno', 'daily', 'moisturizing', 'body', 'wash', 'with', 'soothing', 'oat', 'creamy', 'shower', 'gel', 'soap', 'free', 'and', 'dye', 'freelight', 'fragrance', 'fl', 'oz'], ['aveeno', 'skin', 'relief', 'body', 'wash', 'gently', 'cleanses', 'while', 'leaving', 'itchy', 'dry', 'skin', 'feeling', 'soothed', 'and', 'moisturized']]\n"
     ]
    }
   ],
   "source": [
    "print(texts[:3])"
   ]
  },
  {
   "cell_type": "markdown",
   "id": "205162e5",
   "metadata": {},
   "source": [
    "**3. Optain a dictionary of unique words**"
   ]
  },
  {
   "cell_type": "code",
   "execution_count": 11,
   "id": "f7cbfbb3",
   "metadata": {},
   "outputs": [
    {
     "data": {
      "text/plain": [
       "<gensim.corpora.dictionary.Dictionary at 0x23e3c5385e0>"
      ]
     },
     "execution_count": 11,
     "metadata": {},
     "output_type": "execute_result"
    }
   ],
   "source": [
    "# obtain number of features based on dictionary\n",
    "dictionary= corpora.Dictionary(texts)\n",
    "dictionary"
   ]
  },
  {
   "cell_type": "code",
   "execution_count": 12,
   "id": "3479650e",
   "metadata": {},
   "outputs": [
    {
     "name": "stdout",
     "output_type": "stream",
     "text": [
      "Dictionary(56 unique tokens: ['and', 'body', 'deep', 'dove', 'for']...)\n",
      "56\n"
     ]
    }
   ],
   "source": [
    "print(dictionary)\n",
    "print(len(dictionary.token2id))\n",
    "# 56 unique words in the documents"
   ]
  },
  {
   "cell_type": "code",
   "execution_count": 13,
   "id": "b461dd29",
   "metadata": {},
   "outputs": [
    {
     "name": "stdout",
     "output_type": "stream",
     "text": [
      "{'and': 0, 'body': 1, 'deep': 2, 'dove': 3, 'for': 4, 'gel': 5, 'instantly': 6, 'l': 7, 'lasting': 8, 'moisture': 9, 'natural': 10, 'nourishers': 11, 'nourishment': 12, 'pump': 13, 'shower': 14, 'skin': 15, 'soft': 16, 'wash': 17, 'with': 18, 'aveeno': 19, 'creamy': 20, 'daily': 21, 'dye': 22, 'fl': 23, 'fragrance': 24, 'free': 25, 'freelight': 26, 'moisturizing': 27, 'oat': 28, 'oz': 29, 'soap': 30, 'soothing': 31, 'cleanses': 32, 'dry': 33, 'feeling': 34, 'gently': 35, 'itchy': 36, 'leaving': 37, 'moisturized': 38, 'relief': 39, 'soothed': 40, 'while': 41, 'calming': 42, 'jason': 43, 'lavender': 44, 'care': 45, 'nivea': 46, 'nourishing': 47, 'serum': 48, 'broad': 49, 'hydrate': 50, 'lotion': 51, 'protect': 52, 'spectrum': 53, 'spf': 54, 'sunscreen': 55}\n"
     ]
    }
   ],
   "source": [
    "# list of features: key is words\n",
    "print(dictionary.token2id)"
   ]
  },
  {
   "cell_type": "markdown",
   "id": "67f9a0fc",
   "metadata": {},
   "source": [
    "**4. Obtain corpus**"
   ]
  },
  {
   "cell_type": "code",
   "execution_count": 14,
   "id": "1a36670d",
   "metadata": {},
   "outputs": [],
   "source": [
    "corpus= [dictionary.doc2bow(text) for text in texts]"
   ]
  },
  {
   "cell_type": "code",
   "execution_count": 15,
   "id": "fe813e12",
   "metadata": {},
   "outputs": [
    {
     "name": "stdout",
     "output_type": "stream",
     "text": [
      "[[(0, 1), (1, 1), (2, 1), (3, 1), (4, 1), (5, 1), (6, 1), (7, 1), (8, 1), (9, 1), (10, 1), (11, 1), (12, 1), (13, 1), (14, 1), (15, 2), (16, 1), (17, 1), (18, 2)], [(0, 1), (1, 1), (5, 1), (14, 1), (17, 1), (18, 1), (19, 1), (20, 1), (21, 1), (22, 1), (23, 1), (24, 1), (25, 1), (26, 1), (27, 1), (28, 1), (29, 1), (30, 1), (31, 1)], [(0, 1), (1, 1), (15, 2), (17, 1), (19, 1), (32, 1), (33, 1), (34, 1), (35, 1), (36, 1), (37, 1), (38, 1), (39, 1), (40, 1), (41, 1)], [(1, 1), (5, 1), (10, 1), (14, 1), (17, 1), (29, 1), (42, 1), (43, 1), (44, 1)], [(1, 1), (17, 1), (18, 1), (23, 1), (29, 1), (45, 1), (46, 1), (47, 2), (48, 1)], [(18, 1), (19, 1), (27, 1), (49, 1), (50, 1), (51, 1), (52, 1), (53, 1), (54, 1), (55, 1)]]\n"
     ]
    }
   ],
   "source": [
    "print(corpus) # feature: number of occurence"
   ]
  },
  {
   "cell_type": "markdown",
   "id": "954dcdaa",
   "metadata": {},
   "source": [
    "**5. Find similarity**"
   ]
  },
  {
   "cell_type": "code",
   "execution_count": 16,
   "id": "96d9f09f",
   "metadata": {},
   "outputs": [],
   "source": [
    "# Use TF-IDF model to process corpus\n",
    "tfidf= models.TfidfModel(corpus)"
   ]
  },
  {
   "cell_type": "code",
   "execution_count": 17,
   "id": "6a230100",
   "metadata": {},
   "outputs": [
    {
     "data": {
      "text/plain": [
       "<gensim.similarities.docsim.SparseMatrixSimilarity at 0x23e409f2c40>"
      ]
     },
     "execution_count": 17,
     "metadata": {},
     "output_type": "execute_result"
    }
   ],
   "source": [
    "index= similarities.SparseMatrixSimilarity(tfidf[corpus],num_features= 56)\n",
    "index"
   ]
  },
  {
   "cell_type": "code",
   "execution_count": 18,
   "id": "77060a4a",
   "metadata": {},
   "outputs": [],
   "source": [
    "# convert search words into Spare Vectors\n",
    "doc_sim_vector= dictionary.doc2bow(jieba.lcut(doc_sim))"
   ]
  },
  {
   "cell_type": "code",
   "execution_count": 19,
   "id": "bf8d606c",
   "metadata": {},
   "outputs": [],
   "source": [
    "# similarity calculation\n",
    "sim= index[tfidf[doc_sim_vector]]"
   ]
  },
  {
   "cell_type": "code",
   "execution_count": 20,
   "id": "bb9854ff",
   "metadata": {},
   "outputs": [
    {
     "data": {
      "text/plain": [
       "array([0.07132261, 0.08075783, 0.        , 0.13390036, 0.3182787 ,\n",
       "       0.        ], dtype=float32)"
      ]
     },
     "execution_count": 20,
     "metadata": {},
     "output_type": "execute_result"
    }
   ],
   "source": [
    "sim"
   ]
  },
  {
   "cell_type": "code",
   "execution_count": 21,
   "id": "f213ec2d",
   "metadata": {},
   "outputs": [
    {
     "name": "stdout",
     "output_type": "stream",
     "text": [
      "doc_sim is similar to docs [1] : 0.07132260501384735\n",
      "doc_sim is similar to docs [2] : 0.08075782656669617\n",
      "doc_sim is similar to docs [3] : 0.0\n",
      "doc_sim is similar to docs [4] : 0.13390035927295685\n",
      "doc_sim is similar to docs [5] : 0.3182787001132965\n",
      "doc_sim is similar to docs [6] : 0.0\n"
     ]
    }
   ],
   "source": [
    "# print result\n",
    "for i in range(len(sim)):\n",
    "    print(f'doc_sim is similar to docs {[i+1]} : {sim[i]}')"
   ]
  },
  {
   "cell_type": "markdown",
   "id": "5db701ee",
   "metadata": {},
   "source": [
    "# B.Implement Word2Vec model"
   ]
  },
  {
   "cell_type": "markdown",
   "id": "e996901f",
   "metadata": {},
   "source": [
    "- In real-life applications, Word2Vec models are created using billions of documents. For instance Google's Word2Vec model is trained using 3 million words and phrases.\n",
    "- for the sake of simplicity, we will create a Word2Vec model using a Single Wikipedia article"
   ]
  },
  {
   "cell_type": "markdown",
   "id": "b7d186f0",
   "metadata": {},
   "source": [
    "### Read data"
   ]
  },
  {
   "cell_type": "code",
   "execution_count": 22,
   "id": "2b987bc1",
   "metadata": {},
   "outputs": [],
   "source": [
    "import bs4 as bs\n",
    "import urllib.request\n",
    "import re\n",
    "import nltk"
   ]
  },
  {
   "cell_type": "code",
   "execution_count": 23,
   "id": "982b2106",
   "metadata": {},
   "outputs": [],
   "source": [
    "scrapped_data = urllib.request.urlopen('https://en.wikipedia.org/wiki/Artificial_intelligence')\n",
    "article = scrapped_data .read()\n",
    "\n",
    "parsed_article = bs.BeautifulSoup(article,'lxml')\n",
    "\n",
    "paragraphs = parsed_article.find_all('p')\n",
    "\n",
    "article_text = \"\"\n",
    "\n",
    "for p in paragraphs:\n",
    "    article_text += p.text"
   ]
  },
  {
   "cell_type": "code",
   "execution_count": 24,
   "id": "0d57d823",
   "metadata": {},
   "outputs": [
    {
     "name": "stdout",
     "output_type": "stream",
     "text": [
      "\n",
      "\n",
      "Artificial intelligence (AI) is intelligence demonstrated by machines, as opposed to natural intelligence displayed by animals including humans.\n",
      "Leading AI textbooks define the field as the study of \"intelligent agents\": any system that perceives its environment and takes actions that maximize its chance of achieving its goals.[a]\n",
      "Some popular accounts use the term \"artificial intelligence\" to describe machines that mimic \"cognitive\" functions that humans associate with the human mind, such as \"learning\" and \"problem solving\", however, this definition is rejected by major AI researchers.[b]\n",
      "AI applications include advanced web search engines (e.g., Google), recommendation systems (used by YouTube, Amazon and Netflix), understanding human speech (such as Siri and Alexa), self-driving cars (e.g., Tesla), automated decision-making and competing at the highest level in strategic game systems (such as chess and Go).[2][citation needed]\n",
      "As machines become increasingly capable, tasks considered to require \"intelligence\" are often removed from the definition of AI, a phenomenon known as the AI effect.[3]  For instance, optical character recognition is frequently excluded from things considered to be AI,[4] having become a routine technology.[5]\n",
      "Artificial intelligence was founded as an academic discipline in 1956, and in the years since has experienced several waves of optimism,[6][7] followed by disappointment and the loss of funding (known as an \"AI winter\"),[8][9] followed by new approaches, success and renewed funding.[7][10] AI research has tried and discarded many different approaches since its founding, including simulating the brain, modeling human problem solving, formal logic, large databases of knowledge and imitating animal behavior. In the first decades of the 21st century, highly mathematical statistical machine learning has dominated the field, and this technique has proved highly successful, helping to solve many challenging problems throughout industry and academia.[11][10]\n",
      "The various sub-fields of AI research are centered around particular goals and the use of particular tools. The traditional goals of AI research include reasoning, knowledge representation, planning, learning, natural language processing, perception, and the ability to move and manipulate objects.[c] General intelligence (the ability to solve an arbitrary problem) is among the field's long-term goals.[12] To solve these problems, AI researchers have adapted and integrated a wide range of problem-solving techniques—including search and mathematical optimization, formal logic, artificial neural networks, and methods based on statistics, probability and economics. AI also draws upon computer science, psychology, linguistics, philosophy, and many other fields.\n",
      "The field was founded on the assumption that human intelligence \"can be so precisely described that a machine can be made to simulate it\".[d]\n",
      "This raises philosophical arguments about the mind and the ethics of creating artificial beings endowed with human-like intelligence. These issues have been explored by myth, fiction, and philosophy since antiquity.[14]\n",
      "Science fiction and futurology have also suggested that, with its enormous potential and power, AI may become an existential risk to humanity.[15][16]\n",
      "Artificial beings with intelligence appeared as storytelling devices in antiquity,[17]\n",
      "and have been common in fiction, as in Mary Shelley's Frankenstein or Karel Čapek's R.U.R.[18] These characters and their fates raised many of the same issues now discussed in the ethics of artificial intelligence.[19]\n",
      "The study of mechanical or \"formal\" reasoning began with philosophers and mathematicians in antiquity. The study of mathematical logic led directly to Alan Turing's theory of computation, which suggested that a machine, by shuffling symbols as simple as \"0\" and \"1\", could simulate any conceivable act of mathematical deduction. This insight that digital computers can simulate any process of formal reasoning is known as the Church–Turing thesis.[20]\n",
      "The Church-Turing thesis, along with concurrent discoveries in neurobiology, information theory and cybernetics, led researchers to consider the possibility of building an electronic brain.[21]\n",
      "The first work that is now generally recognized as AI was McCullouch and Pitts' 1943 formal design for Turing-complete \"artificial neurons\".[22]\n",
      "When access to digital computers became possible in the mid-1950s, AI research began to explore the possibility that human intelligence could be reduced to step-by-step symbol manipulation, known as Symbolic AI or GOFAI. Approaches based on cybernetics or artificial neural networks were abandoned or pushed into the background.\n",
      "The field of AI research was born at a workshop at Dartmouth College in 1956.[e][25]\n",
      "The attendees became the founders and leaders of AI research.[f]\n",
      "They and their students produced programs that the press described as \"astonishing\":[g]\n",
      "computers were learning checkers strategies, solving word problems in algebra, proving logical theorems and speaking English.[h][27]\n",
      "By the middle of the 1960s, research in the U.S. was heavily funded by the Department of Defense[28]\n",
      "and laboratories had been established around the world.[29]\n",
      "Researchers in the 1960s and the 1970s were convinced that symbolic approaches would eventually succeed in creating a machine with artificial general intelligence and considered this the goal of their field.[30]\n",
      "Herbert Simon predicted, \"machines will be capable, within twenty years, of doing any work a man can do\".[31]\n",
      "Marvin Minsky agreed, writing, \"within a generation ... the problem of creating 'artificial intelligence' will substantially be solved\".[32]\n",
      "They failed to recognize the difficulty of some of the remaining tasks. Progress slowed and in 1974, in response to the criticism of Sir James Lighthill[33]\n",
      "and ongoing pressure from the US Congress to fund more productive projects, both the U.S. and British governments cut off exploratory research in AI. The next few years would later be called an \"AI winter\", a period when obtaining funding for AI projects was difficult.\n",
      "[8]\n",
      "In the early 1980s, AI research was revived by the commercial success of expert systems,[34]\n",
      "a form of AI program that simulated the knowledge and analytical skills of human experts. By 1985, the market for AI had reached over a billion dollars. At the same time, Japan's fifth generation computer project inspired the U.S and British governments to restore funding for academic research.[7]\n",
      "However, beginning with the collapse of the Lisp Machine market in 1987, AI once again fell into disrepute, and a second, longer-lasting winter began.[9]\n",
      "Many researchers began to doubt that the symbolic approach would be able to imitate all the processes of human cognition, especially perception, robotics, learning and pattern recognition. A number of researchers began to look into \"sub-symbolic\" approaches to specific AI problems.[35] Robotics researchers, such as Rodney Brooks, rejected symbolic AI and focused on the basic engineering problems that would allow robots to move, survive, and learn their environment.[i]\n",
      "Interest in neural networks and \"connectionism\" was revived by Geoffrey Hinton, David Rumelhart and others in the middle of the 1980s.[40]\n",
      "Soft computing tools were developed in the 80s, such as neural networks, fuzzy systems, Grey system theory, evolutionary computation and many tools drawn from statistics or mathematical optimization.\n",
      "AI gradually restored its reputation in the late 1990s and early 21st century by finding specific solutions to specific problems. The narrow focus allowed researchers to produce verifiable results, exploit more  mathematical methods, and collaborate with other fields (such as statistics, economics and mathematics).[41]\n",
      "By 2000, solutions developed by AI researchers were being widely used, although in the 1990s they were rarely described as \"artificial intelligence\".[11]\n",
      "Faster computers, algorithmic improvements, and access to large amounts of data enabled advances in machine learning and perception; data-hungry deep learning methods started to dominate accuracy benchmarks around 2012.[42]\n",
      "According to Bloomberg's Jack Clark, 2015 was a landmark year for artificial intelligence, with the number of software projects that use AI within Google increased from a \"sporadic usage\" in 2012 to more than 2,700 projects.[j] He attributes this to an increase in affordable neural networks, due to a rise in cloud computing infrastructure and to an increase in research tools and datasets.[10] In a 2017 survey, one in five companies reported they had \"incorporated AI in some offerings or processes\".[43] The amount of research into AI (measured by total publications) increased by 50% in the years 2015–2019.[44]\n",
      "Numerous academic researchers became concerned that AI was no longer pursuing the original goal of creating versatile, fully intelligent machines. Much of current research involves statistical AI, which is overwhelmingly used to solve specific problems, even highly successful techniques such as deep learning. This concern has led to the subfield artificial general intelligence (or \"AGI\"), which had several well-funded institutions by the 2010s.[12]\n",
      "The general problem of simulating (or creating) intelligence has been broken down into sub-problems. These consist of particular traits or capabilities that researchers expect an intelligent system to display. The traits described below have received the most attention.[c]\n",
      "Early researchers developed algorithms that imitated step-by-step reasoning that humans use when they solve puzzles or make logical deductions.[45]\n",
      "By the late 1980s and 1990s, AI research had developed methods for dealing with uncertain or incomplete information, employing concepts from probability and economics.[46]\n",
      "Many of these algorithms proved to be insufficient for solving large reasoning problems because they experienced a \"combinatorial explosion\": they became exponentially slower as the problems grew larger.[47]\n",
      "Even humans rarely use the step-by-step deduction that early AI research could model. They solve most of their problems using fast, intuitive judgments.[48]\n",
      "Knowledge representation and knowledge engineering[49]\n",
      "allow AI programs to answer questions intelligently and make deductions about real world facts.\n",
      "A representation of \"what exists\" is an ontology: the set of objects, relations, concepts, and properties formally described so that software agents can interpret them.[50]\n",
      "The most general ontologies are called upper ontologies, which attempt to provide a foundation for all other knowledge and act as mediators between domain ontologies that cover specific knowledge about a particular knowledge domain (field of interest or area of concern). A truly intelligent program would also need access to commonsense knowledge; the set of facts that an average person knows. The semantics of an ontology is typically represented in a description logic, such as the Web Ontology Language.[51]\n",
      "AI research has developed tools to represent specific domains, such as: objects, properties, categories and relations between objects;[51]\n",
      "situations, events, states and time;[52]\n",
      "causes and effects;[53]\n",
      "knowledge about knowledge (what we know about what other people know);.[54]\n",
      "default reasoning (things that humans assume are true until they are told differently and will remain true even when other facts are changing);\n",
      "[55]\n",
      "as well as other domains. Among the most difficult problems in AI are: the breadth of commonsense knowledge (the number of atomic facts that the average person knows is enormous);[56]\n",
      "and the sub-symbolic form of most commonsense knowledge (much of what people know is not represented as \"facts\" or \"statements\" that they could express verbally).[48]\n",
      "Formal knowledge representations are used in content-based indexing and retrieval,[57]\n",
      "scene interpretation,[58]\n",
      "clinical decision support,[59]\n",
      "knowledge discovery (mining \"interesting\" and actionable inferences from large databases),[60]\n",
      "and other areas.[61]\n",
      "An intelligent agent that can plan makes a representation of the state of the world, makes predictions about how their actions will change it and makes choices that maximize the utility (or \"value\") of the available choices.[62]\n",
      "In classical planning problems, the agent can assume that it is the only system acting in the world, allowing the agent to be certain of the consequences of its actions.[63]\n",
      "However, if the agent is not the only actor, then it requires that the agent reason under uncertainty, and continuously re-assess its environment and adapt.[64]\n",
      "Multi-agent planning uses the cooperation and competition of many agents to achieve a given goal. Emergent behavior such as this is used by evolutionary algorithms and swarm intelligence.[65]\n",
      "Machine learning (ML), a fundamental concept of AI research since the field's inception,[k]\n",
      "is the study of computer algorithms that improve automatically through experience.[l]\n",
      "Unsupervised learning finds patterns in a stream of input. Supervised learning requires a human to label the input data first, and comes in two main varieties: classification and numerical regression. Classification is used to determine what category something belongs in—the program sees a number of examples of things from several categories and will learn to classify new inputs. Regression is the attempt to produce a function that describes the relationship between inputs and outputs and predicts how the outputs should change as the inputs change. Both classifiers and regression learners can be viewed as \"function approximators\" trying to learn an unknown (possibly implicit) function; for example, a spam classifier can be viewed as learning a function that maps from the text of an email to one of two categories, \"spam\" or \"not spam\".[69]\n",
      "In reinforcement learning the agent is rewarded for good responses and punished for bad ones. The agent classifies its responses to form a strategy for operating in its problem space.[70]\n",
      "Transfer learning is when knowledge gained from one problem is applied to a new problem.[71]\n",
      "Computational learning theory can assess learners by computational complexity, by sample complexity (how much data is required), or by other notions of optimization.[72]\n",
      "Natural language processing (NLP)[73]\n",
      "allows machines to read and understand human language. A sufficiently powerful natural language processing system would enable natural-language user interfaces and the acquisition of knowledge directly from human-written sources, such as newswire texts. Some straightforward applications of NLP include information retrieval, question answering and machine translation.[74]\n",
      "Symbolic AI used formal syntax to translate the deep structure of sentences into logic. This failed to produce useful applications, due to the intractability of logic[47] and the breadth of commonsense knowledge.[56] Modern statistical techniques include co-occurrence frequencies (how often one word appears near another), \"Keyword spotting\" (searching for a particular word to retrieve information), transformer-based deep learning (which finds patterns in text), and others.[75] They have achieved acceptable accuracy at the page or paragraph level, and, by 2019, could generate coherent text.[76]Machine perception[77]\n",
      "is the ability to use input from sensors (such as cameras, microphones, wireless signals, and active lidar, sonar, radar, and tactile sensors) to deduce aspects of the world. Applications include speech recognition,[78]\n",
      "facial recognition, and object recognition.[79]\n",
      "\n",
      "Computer vision is the ability to analyze visual input.[80]AI is heavily used in robotics.[81]\n",
      "Localization is how a robot knows its location and maps its environment. When given a small, static, and visible environment, this is easy; however, dynamic environments, such as (in endoscopy) the interior of a patient's breathing body, pose a greater challenge.[82]\n",
      "Motion planning is the process of breaking down a movement task into \"primitives\" such as individual joint movements. Such movement often involves compliant motion, a process where movement requires maintaining physical contact with an object. Robots can learn from experience how to move efficiently despite the presence of friction and gear slippage.[83]Affective computing is an interdisciplinary umbrella that comprises systems which recognize, interpret, process, or simulate human feeling, emotion and mood.[85] \n",
      "For example, some virtual assistants are programmed to speak conversationally or even to banter humorously; it makes them appear more sensitive to the emotional dynamics of human interaction, or to otherwise facilitate human–computer interaction.\n",
      "However, this tends to give naïve users an unrealistic conception of how intelligent existing computer agents actually are.[86]\n",
      "\n",
      "Moderate successes related to affective computing include textual sentiment analysis and, more recently, multimodal sentiment analysis), wherein AI classifies the affects displayed by a videotaped subject.[87]A machine with general intelligence can solve a wide variety of problems with a breadth and versatility similar to human intelligence. There are several competing ideas about how to develop artificial general intelligence. Hans Moravec and Marvin Minsky argue that work in different individual domains can be incorporated into an advanced multi-agent system or cognitive architecture with general intelligence.[88]\n",
      "Pedro Domingos hopes that there is a conceptually straightforward, but mathematically difficult, \"master algorithm\" that could lead to AGI.[89]\n",
      "Others believe that anthropomorphic features like an artificial brain[90]\n",
      "or simulated child development[m]\n",
      "will someday reach a critical point where general intelligence emerges.\n",
      "Many problems in AI can be solved theoretically by intelligently searching through many possible solutions:[91]\n",
      "Reasoning can be reduced to performing a search. For example, logical proof can be viewed as searching for a path that leads from premises to conclusions, where each step is the application of an inference rule.[92]\n",
      "Planning algorithms search through trees of goals and subgoals, attempting to find a path to a target goal, a process called means-ends analysis.[93]\n",
      "Robotics algorithms for moving limbs and grasping objects use local searches in configuration space.[94]\n",
      "Simple exhaustive searches[95]\n",
      "are rarely sufficient for most real-world problems: the search space (the number of places to search) quickly grows to astronomical numbers. The result is a search that is too slow or never completes. The solution, for many problems, is to use \"heuristics\" or \"rules of thumb\" that prioritize choices in favor of those more likely to reach a goal and to do so in a shorter number of steps. In some search methodologies heuristics can also serve to eliminate some choices unlikely to lead to a goal (called \"pruning the search tree\"). Heuristics supply the program with a \"best guess\" for the path on which the solution lies.[96]\n",
      "Heuristics limit the search for solutions into a smaller sample size.[97]\n",
      "A very different kind of search came to prominence in the 1990s, based on the mathematical theory of optimization. For many problems, it is possible to begin the search with some form of a guess and then refine the guess incrementally until no more refinements can be made. These algorithms can be visualized as blind hill climbing: we begin the search at a random point on the landscape, and then, by jumps or steps, we keep moving our guess uphill, until we reach the top. Other optimization algorithms are simulated annealing, beam search and random optimization.[98]\n",
      "Evolutionary computation uses a form of optimization search. For example, they may begin with a population of organisms (the guesses) and then allow them to mutate and recombine, selecting only the fittest to survive each generation (refining the guesses). Classic evolutionary algorithms include genetic algorithms, gene expression programming, and genetic programming.[99]\n",
      "Alternatively, distributed search processes can coordinate via swarm intelligence algorithms. Two popular swarm algorithms used in search are particle swarm optimization (inspired by bird flocking) and ant colony optimization (inspired by ant trails).[100]\n",
      "Logic[101]\n",
      "is used for knowledge representation and problem solving, but it can be applied to other problems as well. For example, the satplan algorithm uses logic for planning[102]\n",
      "and inductive logic programming is a method for learning.[103]\n",
      "Several different forms of logic are used in AI research. Propositional logic[104] involves truth functions such as \"or\" and \"not\". First-order logic[105]\n",
      "adds quantifiers and predicates, and can express facts about objects, their properties, and their relations with each other. Fuzzy logic assigns a \"degree of truth\" (between 0 and 1) to vague statements such as \"Alice is old\" (or rich, or tall, or hungry), that are too linguistically imprecise to be completely true or false.[106]\n",
      "Default logics, non-monotonic logics and circumscription are forms of logic designed to help with default reasoning and the qualification problem.[55]\n",
      "Several extensions of logic have been designed to handle specific domains of knowledge, such as: description logics;[51]\n",
      "situation calculus, event calculus and fluent calculus (for representing events and time);[52]\n",
      "causal calculus;[53]\n",
      "belief calculus (belief revision); and modal logics.[54]\n",
      "Logics to model contradictory or inconsistent statements arising in multi-agent systems have also been designed, such as paraconsistent logics.[citation needed]\n",
      "Many problems in AI (in reasoning, planning, learning, perception, and robotics) require the agent to operate with incomplete or uncertain information. AI researchers have devised a number of powerful tools to solve these problems using methods from probability theory and economics.[107]\n",
      "Bayesian networks[108]\n",
      "are a very general tool that can be used for various problems: reasoning (using the Bayesian inference algorithm),[n][110]\n",
      "learning (using the expectation-maximization algorithm),[o][112]\n",
      "planning (using decision networks)[113] and perception (using dynamic Bayesian networks).[114]\n",
      "Probabilistic algorithms can also be used for filtering, prediction, smoothing and finding explanations for streams of data, helping perception systems to analyze processes that occur over time (e.g., hidden Markov models or Kalman filters).[114]\n",
      "A key concept from the science of economics is \"utility\": a measure of how valuable something is to an intelligent agent. Precise mathematical tools have been developed that analyze how an agent can make choices and plan, using decision theory, decision analysis,[115]\n",
      "and information value theory.[116] These tools include models such as Markov decision processes,[117] dynamic decision networks,[114] game theory and mechanism design.[118]\n",
      "The simplest AI applications can be divided into two types: classifiers (\"if shiny then diamond\") and controllers (\"if diamond then pick up\"). Controllers do, however, also classify conditions before inferring actions, and therefore classification forms a central part of many AI systems. Classifiers are functions that use pattern matching to determine a closest match. They can be tuned according to examples, making them very attractive for use in AI. These examples are known as observations or patterns. In supervised learning, each pattern belongs to a certain predefined class. A class is a decision that has to be made. All the observations combined with their class labels are known as a data set. When a new observation is received, that observation is classified based on previous experience.[119]\n",
      "A classifier can be trained in various ways; there are many statistical and machine learning approaches.\n",
      "The decision tree is the simplest and most widely used symbolic machine learning algorithm.[120]\n",
      "K-nearest neighbor algorithm was the most widely used analogical AI until the mid-1990s.[121]\n",
      "Kernel methods such as the support vector machine (SVM) displaced k-nearest neighbor in the 1990s.[122]\n",
      "The naive Bayes classifier is reportedly the \"most widely used learner\"[123] at Google, due in part to its scalability.[124]\n",
      "Neural networks are also used for classification.[125]\n",
      "Classifier performance depends greatly on the characteristics of the data to be classified, such as the dataset size, distribution of samples across classes, the dimensionality, and the level of noise. Model-based classifiers perform well if the assumed model is an extremely good fit for the actual data. Otherwise, if no matching model is available, and if accuracy (rather than speed or scalability) is the sole concern, conventional wisdom is that discriminative classifiers (especially SVM) tend to be more accurate than model-based classifiers such as \"naive Bayes\" on most practical data sets.[126]\n",
      "Neural networks[125]\n",
      "were inspired by the architecture of neurons in the human brain. A simple \"neuron\" N accepts input from other neurons, each of which, when activated (or \"fired\"), casts a weighted \"vote\" for or against whether neuron N should itself activate. Learning requires an algorithm to adjust these weights based on the training data; one simple algorithm (dubbed \"fire together, wire together\") is to increase the weight between two connected neurons when the activation of one triggers the successful activation of another. Neurons have a continuous spectrum of activation; in addition, neurons can process inputs in a nonlinear way rather than weighing straightforward votes.\n",
      "Modern neural networks model complex relationships between inputs and outputs or and find patterns in data. They can learn continuous functions and even digital logical operations. Neural networks can be viewed a type of mathematical optimization — they perform a gradient descent on a multi-dimensional topology that was created by training the network. The most common training technique is the backpropagation algorithm.[127]\n",
      "Other learning techniques for neural networks are Hebbian learning (\"fire together, wire together\"), GMDH or competitive learning.[128]\n",
      "The main categories of networks are acyclic or feedforward neural networks (where the signal passes in only one direction) and recurrent neural networks (which allow feedback and short-term memories of previous input events). Among the most popular feedforward networks are perceptrons, multi-layer perceptrons and radial basis networks.[129]\n",
      "Deep learning[131]\n",
      "uses several layers of neurons between the network's inputs and outputs. The multiple layers can progressively extract higher-level features from the raw input. For example, in image processing, lower layers may identify edges, while higher layers may identify the concepts relevant to a human such as digits or letters or faces.[132] Deep learning has drastically improved the performance of programs in many important subfields of artificial intelligence, including computer vision, speech recognition, image classification[133] and others.\n",
      "Deep learning often uses convolutional neural networks for many or all of its layers. In a convolutional layer, each neuron receives input from only a restricted area of the previous layer called the neuron's receptive field. This can substantially reduce the number of weighted connections between neurons,[134] and creates a hierarchy similar to the organization of the animal visual cortex.[135]\n",
      "In a recurrent neural network the signal will propagate through a layer more than once;[136] \n",
      "thus, an RNN is an example of deep learning.[137]\n",
      "RNNs can be trained by gradient descent,[138]\n",
      "however long-term gradients which are back-propagated can \"vanish\" (that is, they can tend to zero) or \"explode\" (that is, they can tend to infinity), known as the vanishing gradient problem.[139]\n",
      "The long short term memory (LSTM) technique can prevent this in most cases.[140]\n",
      "Specialized languages for artificial intelligence have been developed, such as Lisp, Prolog, TensorFlow and many others. Hardware developed for AI includes AI accelerators and neuromorphic computing.\n",
      "AI is relevant to any intellectual task.[141]\n",
      "Modern artificial intelligence techniques are pervasive and are too numerous to list here.[142]\n",
      "Frequently, when a technique reaches mainstream use, it is no longer considered artificial intelligence; this phenomenon is described as the AI effect.[143]\n",
      "In the 2010s, AI applications were at the heart of the most commercially successful areas of computing, and have become a ubiquitous feature of daily life. AI is used in search engines (such as Google Search),\n",
      "targeting online advertisements,[144][non-primary source needed]\n",
      "recommendation systems (offered by Netflix, YouTube or Amazon),\n",
      "driving internet traffic,[145][146]\n",
      "targeted advertising (AdSense, Facebook),\n",
      "virtual assistants (such as Siri or Alexa),[147]\n",
      "autonomous vehicles (including drones and self-driving cars),\n",
      "automatic language translation (Microsoft Translator, Google Translate),\n",
      "facial recognition (Apple's Face ID or Microsoft's DeepFace),\n",
      "image labeling (used by Facebook, Apple's iPhoto and TikTok)\n",
      "and spam filtering.\n",
      "There are also thousands of successful AI applications used to solve problems for specific industries or institutions. A few examples are: \n",
      "energy storage,[148]\n",
      "deepfakes,[149]\n",
      "medical diagnosis, \n",
      "military logistics, or \n",
      "supply chain management.\n",
      "Game playing has been a test of AI's strength since the 1950s. Deep Blue became the first computer chess-playing system to beat a reigning world chess champion, Garry Kasparov, on 11 May 1997.[150] \n",
      "In 2011, in a Jeopardy! quiz show exhibition match, IBM's question answering system, Watson, defeated the two greatest Jeopardy! champions, Brad Rutter and Ken Jennings, by a significant margin.[151] \n",
      "In March 2016, AlphaGo won 4 out of 5 games of Go in a match with Go champion Lee Sedol, becoming the first computer Go-playing system to beat a professional Go player without handicaps.[152]\n",
      "Other programs handle imperfect-information games; such as for poker at a superhuman level, Pluribus[p]\n",
      "and Cepheus.[154]\n",
      "DeepMind in the 2010s developed a \"generalized artificial intelligence\" that could learn many diverse Atari games on its own.[155]\n",
      "By 2020, Natural Language Processing systems such as the enormous GPT-3 (then by far the largest artificial neural network) were matching human performance on pre-existing benchmarks, albeit without the system attaining commonsense understanding of the contents of the benchmarks.[156]\n",
      "DeepMind's AlphaFold 2 (2020) demonstrated the ability to approximate, in hours rather than months, the 3D structure of a protein.[157]\n",
      "Other applications predict the result of judicial decisions,[158] create art (such as poetry or painting) and prove mathematical theorems.\n",
      "Alan Turing wrote in 1950 \"I propose to consider the question 'can machines think'?\"[159]\n",
      "He advised changing the question from whether a machine \"thinks\", to \"whether or not it is possible for machinery to show intelligent behaviour\".[160] \n",
      "The only thing visible is the behavior of the machine, so it does not matter if the machine is conscious, or has a mind, or whether the intelligence is merely a \"simulation\" and not \"the real thing\".  He noted that we also don't know these things about other people, but that we extend a \"polite convention\" that they are actually \"thinking\". This idea forms the basis of the Turing test.[161][q]\n",
      "AI founder John McCarthy said: \"Artificial intelligence is not, by definition, simulation of human intelligence\".[163] Russell and Norvig agree and criticize the Turing test. They wrote: \"Aeronautical engineering texts do not define the goal of their field as 'making machines that fly so exactly like pigeons that they can fool other pigeons.'\"[162] Other researchers and analysts disagree and have argued that AI should simulate natural intelligence by studying psychology or neurobiology.[r]\n",
      "The intelligent agent paradigm[165]\n",
      "defines intelligent behavior in general, without reference to human beings. An intelligent agent is a system that perceives its environment and takes actions that maximize its chances of success. Any system that has goal-directed behavior can be analyzed as an intelligent agent: something as simple as a thermostat, as complex as a human being, as well as large systems such as firms, biomes or nations. The intelligent agent paradigm became widely accepted during the 1990s, and currently serves as the definition of the field.[a]\n",
      "The paradigm has other advantages for AI. It provides a reliable and scientific way to test programs; researchers can directly compare or even combine different approaches to isolated problems, by asking which agent is best at maximizing a given \"goal function\".  It also gives them a common language to communicate with other fields — such as mathematical optimization (which is defined in terms of \"goals\") or economics (which uses the same definition of a \"rational agent\").[166]\n",
      "No established unifying theory or paradigm has guided AI research for most of its history.[s] The unprecedented success of statistical machine learning in the 2010s eclipsed all other approaches (so much so that some sources, especially in the business world, use the term \"artificial intelligence\" to mean \"machine learning with neural networks\"). This approach is mostly sub-symbolic, neat, soft and narrow (see below). Critics argue that these questions may have to be revisited by future generations of AI researchers.\n",
      "Symbolic AI (or \"GOFAI\")[168] simulated the high-level conscious reasoning that people use when they solve puzzles, express legal reasoning and do mathematics. They were highly successful at \"intelligent\" tasks such as algebra or IQ tests. In the 1960s, Newell and Simon proposed the physical symbol systems hypothesis: \"A physical symbol system has the necessary and sufficient means of general intelligent action.\"[169]\n",
      "However, the symbolic approach failed dismally on many tasks that humans solve easily, such as learning, recognizing an object or commonsense reasoning. Moravec's paradox is the discovery that high-level \"intelligent\" tasks were easy for AI, but low level \"instinctive\" tasks were extremely difficult.[170]\n",
      "Philosopher Hubert Dreyfus had argued since the 1960s that human expertise depends on unconscious instinct rather than conscious symbol manipulation, and on having a \"feel\" for the situation, rather than explicit symbolic knowledge.[171]\n",
      "Although his arguments had been ridiculed and ignored when they were first presented, eventually AI research came to agree.[t][48]\n",
      "The issue is not resolved: sub-symbolic reasoning can make many of the same inscrutable mistakes that human intuition does, such as algorithmic bias. Critics such Noam Chomsky argue continuing research into symbolic AI will still be necessary to attain general intelligence,[173][174] in part because sub-symbolic AI is a move away from explainable AI: it can be difficult or impossible to understand why a modern statistical AI program made a particular decision.\n",
      "\"Neats\" hope that intelligent behavior be described using simple, elegant principles (such as logic, optimization, or neural networks). \"Scruffies\" expect that it necessarily requires solving a large number of unrelated problems. This issue was actively discussed in the 70s and 80s,[175]\n",
      "but in the 1990s mathematical methods and solid scientific standards became the norm, a transition that Russell and Norvig termed \"the victory of the neats\".[176]\n",
      "Finding a provably correct or optimal solution is intractable for many important problems.[47] Soft computing is a set of techniques, including genetic algorithms, fuzzy logic and neural networks, that are tolerant of imprecision, uncertainty, partial truth and approximation. Soft computing was introduced in the late 80s and most successful AI programs in the 21st century are examples of soft computing with neural networks.\n",
      "AI researchers are divided as to whether to pursue the goals of artificial general intelligence and superintelligence (general AI) directly, or to solve as many specific problems as possible (narrow AI) in hopes these solutions will lead indirectly to the field's long-term goals[177][178]\n",
      "General intelligence is difficult to define and difficult to measure, and modern AI has had more verifiable successes by focussing on specific problems with specific solutions. The experimental sub-field of artificial general intelligence studies this area exclusively.\n",
      "The philosophy of mind does not know whether a machine can have a mind, consciousness and mental states, in the same sense that human beings do. This issue considers the internal experiences of the machine, rather than its external behavior. Mainstream AI research considers this issue irrelevant, because it does not effect the goals of the field. Stuart Russell and Peter Norvig observe that most AI researchers \"don't care about the [philosophy of AI] — as long as the program works, they don't care whether you call it a simulation of intelligence or real intelligence.\"[179] However, the question has become central to the philosophy of mind. It is also typically the central question at issue in artificial intelligence in fiction.\n",
      "David Chalmers identified two problems in understanding the mind, which he named the \"hard\" and \"easy\" problems of consciousness.[180] The easy problem is understanding how the brain processes signals, makes plans and controls behavior. The hard problem is explaining how this feels or why it should feel like anything at all. Human information processing is easy to explain, however human subjective experience is difficult to explain. For example, it is easy to imagine a color blind person who has learned to identify which objects in their field of view are red, but it is not clear what would be required for the person to know what red looks like.[181]\n",
      "Computationalism is the position in the philosophy of mind that the human mind is an information processing system and that thinking is a form of computing. Computationalism argues that the relationship between mind and body is similar or identical to the relationship between software and hardware and thus may be a solution to the mind-body problem. This philosophical position was inspired by the work of AI researchers and cognitive scientists in the 1960s and was originally proposed by philosophers Jerry Fodor and Hilary Putnam.[182]\n",
      "Philosopher John Searle characterized this position as \"strong AI\": \"The appropriately programmed computer with the right inputs and outputs would thereby have a mind in exactly the same sense human beings have minds.\"[u]\n",
      "Searle counters this assertion with his Chinese room argument, which attempts to show that, even if a machine perfectly simulates human behavior, there is still no reason to suppose it also has a mind.[185]\n",
      "If a machine has a mind and subjective experience, then it may also have sentience (the ability to feel), and if so, then it could also suffer, and thus it would be entitled to certain rights.[186]\n",
      "Any hypothetical robot rights would lie on a spectrum with animal rights and human rights.[187]\n",
      "This issue has been considered in fiction for centuries,[188]\n",
      "and is now being considered by, for example, California's Institute for the Future, however critics argue that the discussion is premature.[189]\n",
      "A superintelligence, hyperintelligence, or superhuman intelligence, is a hypothetical agent that would possess intelligence far surpassing that of the brightest and most gifted human mind. Superintelligence may also refer to the form or degree of intelligence possessed by such an agent.[178]\n",
      "If research into artificial general intelligence produced sufficiently intelligent software, it might be able to reprogram and improve itself. The improved software would be even better at improving itself, leading to recursive self-improvement.[190]\n",
      "Its intelligence would increase exponentially in an intelligence explosion and could dramatically surpass humans. Science fiction writer Vernor Vinge named this scenario the \"singularity\".[191]\n",
      "Because it is difficult or impossible to know the limits of intelligence or the capabilities of superintelligent machines, the technological singularity is an occurrence beyond which events are unpredictable or even unfathomable.[192]\n",
      "Robot designer Hans Moravec, cyberneticist Kevin Warwick, and inventor Ray Kurzweil have predicted that humans and machines will merge in the future into cyborgs that are more capable and powerful than either. This idea, called transhumanism, has roots in Aldous Huxley and Robert Ettinger.[193]\n",
      "Edward Fredkin argues that \"artificial intelligence is the next stage in evolution\", an idea first proposed by Samuel Butler's \"Darwin among the Machines\" as far back as 1863, and expanded upon by George Dyson in his book of the same name in 1998.[194]\n",
      "In the past technology has tended to increase rather than reduce total employment, but economists acknowledge that \"we're in uncharted territory\" with AI.[195]\n",
      "A survey of economists showed disagreement about whether the increasing use of robots and AI will cause a substantial increase in long-term unemployment, but they generally agree that it could be a net benefit, if productivity gains are redistributed.[196]\n",
      "Subjective estimates of the risk vary widely; for example, Michael Osborne and Carl Benedikt Frey estimate 47% of U.S. jobs are at \"high risk\" of potential automation, while an OECD report classifies only 9% of U.S. jobs as \"high risk\".[v][198]\n",
      "Unlike previous waves of automation, many middle-class jobs may be eliminated by artificial intelligence; The Economist states that \"the worry that AI could do to white-collar jobs what steam power did to blue-collar ones during the Industrial Revolution\" is \"worth taking seriously\".[199]\n",
      "Jobs at extreme risk range from paralegals to fast food cooks, while job demand is likely to increase for care-related professions ranging from personal healthcare to the clergy.[200]\n",
      "AI provides a number of tools that are particularly useful for authoritarian governments: smart spyware, face recognition and voice recognition allow widespread surveillance; such surveillance allows machine learning to classify potential enemies of the state and can prevent them from hiding; recommendation systems can precisely target propaganda and misinformation for maximum effect; deepfakes aid in producing misinformation; advanced AI can make centralized decision making more competitive with liberal and decentralized systems such as markets.[201]\n",
      "Terrorists, criminals and rogue states may use other forms of weaponized AI such as advanced digital warfare and lethal autonomous weapons. By 2015, over fifty countries were reported to be researching battlefield robots.[202]\n",
      "AI programs can become biased after learning from real world data. It is not typically introduced by the system designers, but is learned by the program, and thus the programmers are often unaware that the bias exists.[203]\n",
      "Bias can be inadvertently introduced by the way training data is selected.[204]\n",
      "It can also emerge from correlations: AI is used to classify individuals into groups and then make predictions assuming that the individual will resemble other members of the group. In some cases, this assumption may be unfair.[205]\n",
      "An example of this is COMPAS, a commercial program widely used by U.S. courts to assess the likelihood of a defendant becoming a recidivist. ProPublica claims that the COMPAS-assigned recidivism risk level of black defendants is far more likely to be an overestimate than that of white defendants, despite the fact that the program was not told the races of the defendants.[206] Other examples where algorithmic bias can lead to unfair outcomes are when AI is used for credit rating or hiring.\n",
      "Superintelligent AI may be able to improve itself to the point that humans could not control it. This could, as physicist Stephen Hawking puts it, \"spell the end of the human race\".[207] Philosopher Nick Bostrom argues that sufficiently intelligent AI, if it chooses actions based on achieving some goal, will exhibit convergent behavior such as acquiring resources or protecting itself from being shut down. If this AI's goals do not fully reflect humanity's, it might need to harm humanity to acquire more resources or prevent itself from being shut down, ultimately to better achieve its goal. He concludes that AI poses a risk to mankind, however humble or \"friendly\" its stated goals might be.[208]\n",
      "Political scientist Charles T. Rubin argues that \"any sufficiently advanced benevolence may be indistinguishable from malevolence.\" Humans should not assume machines or robots would treat us favorably because there is no a priori reason to believe that they would share our system of morality.[209]\n",
      "The opinion of experts and industry insiders is mixed, with sizable fractions both concerned and unconcerned by risk from eventual superhumanly-capable AI.[210]\n",
      "Stephen Hawking, Microsoft founder Bill Gates, history professor Yuval Noah Harari, and SpaceX founder Elon Musk have all expressed serious misgivings about the future of AI.[211]\n",
      "Prominent tech titans including Peter Thiel (Amazon Web Services) and Musk have committed more than $1 billion to nonprofit companies that champion responsible AI development, such as OpenAI and the Future of Life Institute.[212]\n",
      "Mark Zuckerberg (CEO, Facebook) has said that artificial intelligence is helpful in its current form and will continue to assist humans.[213]\n",
      "Other experts argue is that the risks are far enough in the future to not be worth researching,\n",
      "or that humans will be valuable from the perspective of a superintelligent machine.[214]\n",
      "Rodney Brooks, in particular, has said that \"malevolent\" AI is still centuries away.[w]\n",
      "Friendly AI are machines that have been designed from the beginning to minimize risks and to make choices that benefit humans. Eliezer Yudkowsky, who coined the term, argues that developing friendly AI should be a higher research priority: it may require a large investment and it must be completed before AI becomes an existential risk.[216]\n",
      "Machines with intelligence have the potential to use their intelligence to make ethical decisions. The field of machine ethics provides machines with ethical principles and procedures for resolving ethical dilemmas.[217]\n",
      "Machine ethics is also called machine morality, computational ethics or computational morality,[217]\n",
      "and was founded at an AAAI symposium in 2005.[218]\n",
      "Others approaches include Wendell Wallach's \"artificial moral agents\"[219]\n",
      "and Stuart J. Russell's three principles for developing provably beneficial machines.[220]\n",
      "The regulation of artificial intelligence is the development of public sector policies and laws for promoting and regulating artificial intelligence (AI); it is therefore related to the broader regulation of algorithms.[221]\n",
      "The regulatory and  policy landscape for AI is an emerging issue in jurisdictions globally.[222]\n",
      "Between 2016 and 2020, more than 30 countries adopted dedicated strategies for AI.[44]\n",
      "Most EU member states had released national AI strategies, as had Canada, China, India, Japan, Mauritius, the Russian Federation, Saudi Arabia, United Arab Emirates, USA and Vietnam. Others were in the process of elaborating their own AI strategy, including Bangladesh, Malaysia and Tunisia.[44]\n",
      "The Global Partnership on Artificial Intelligence was launched in June 2020, stating a need for AI to be developed in accordance with human rights and democratic values, to ensure public confidence and trust in the technology.[44] Henry Kissinger, Eric Schmidt, and Daniel Huttenlocher published an joint statement in November 2021 calling for a government commission to regulate AI.[223]\n",
      "Thought-capable artificial beings have appeared as storytelling devices since antiquity,[17]\n",
      "and have been a persistent theme in science fiction.[19]\n",
      "A common trope in these works began with Mary Shelley's Frankenstein, where a human creation becomes a threat to its masters. This includes such works as Arthur C. Clarke's and Stanley Kubrick's 2001: A Space Odyssey (both 1968), with HAL 9000, the murderous computer in charge of the Discovery One spaceship, as well as The Terminator (1984) and The Matrix (1999). In contrast, the rare loyal robots such as Gort from The Day the Earth Stood Still (1951) and Bishop from Aliens (1986) are less prominent in popular culture.[224]\n",
      "Isaac Asimov introduced the Three Laws of Robotics in many books and stories, most notably the \"Multivac\" series about a super-intelligent computer of the same name. Asimov's laws are often brought up during lay discussions of machine ethics;[225]\n",
      "while almost all artificial intelligence researchers are familiar with Asimov's laws through popular culture, they generally consider the laws useless for many reasons, one of which is their ambiguity.[226]\n",
      "Transhumanism (the merging of humans and machines) is explored in the manga Ghost in the Shell and the science-fiction series Dune.\n",
      "Several works use AI to force us to confront the fundamental question of what makes us human, showing us artificial beings that have the ability to feel, and thus to suffer. This appears in Karel Čapek's R.U.R., the films A.I. Artificial Intelligence and Ex Machina, as well as the novel Do Androids Dream of Electric Sheep?, by Philip K. Dick. Dick considers the idea that our understanding of human subjectivity is altered by technology created with artificial intelligence.[227]\n",
      "These were the four the most widely used AI textbooks in 2008.\n",
      "Later editions.\n",
      "The two most widely used textbooks in 2021.[1]\n",
      "See also: Logic machines in fiction and List of fictional computers\n",
      "\n"
     ]
    }
   ],
   "source": [
    "print(article_text)"
   ]
  },
  {
   "cell_type": "markdown",
   "id": "ea9d9849",
   "metadata": {},
   "source": [
    "### Data Preparation"
   ]
  },
  {
   "cell_type": "markdown",
   "id": "08a53d46",
   "metadata": {},
   "source": [
    "**1. Remove Punctuation & Nomalization**"
   ]
  },
  {
   "cell_type": "code",
   "execution_count": 25,
   "id": "2ec3e976",
   "metadata": {},
   "outputs": [],
   "source": [
    "# Normalization\n",
    "processed_article = article_text.lower()"
   ]
  },
  {
   "cell_type": "code",
   "execution_count": 26,
   "id": "197c8bc7",
   "metadata": {},
   "outputs": [
    {
     "data": {
      "text/plain": [
       "'\\n\\nartificial intelligence (ai) is intelligence demonstrated by machines, as opposed to natural intelligence displayed by animals including humans.\\nleading ai textbooks define the field as the study of \"intelligent agents\": any system that perceives its environment and takes actions that maximize its chance of achieving its goals.[a]\\nsome popular accounts use the term \"artificial intelligence\" to describe machines that mimic \"cognitive\" functions that humans associate with the human mind, such as \"learning\" and \"problem solving\", however, this definition is rejected by major ai researchers.[b]\\nai applications include advanced web search engines (e.g., google), recommendation systems (used by youtube, amazon and netflix), understanding human speech (such as siri and alexa), self-driving cars (e.g., tesla), automated decision-making and competing at the highest level in strategic game systems (such as chess and go).[2][citation needed]\\nas machines become increasingly capable, tasks consid'"
      ]
     },
     "execution_count": 26,
     "metadata": {},
     "output_type": "execute_result"
    }
   ],
   "source": [
    "processed_article[:1000]"
   ]
  },
  {
   "cell_type": "code",
   "execution_count": 27,
   "id": "72facd37",
   "metadata": {},
   "outputs": [],
   "source": [
    "# Remove punctuation\n",
    "processed_article = re.sub('[^a-zA-Z]', ' ', processed_article )"
   ]
  },
  {
   "cell_type": "code",
   "execution_count": 28,
   "id": "471c6c6f",
   "metadata": {},
   "outputs": [
    {
     "data": {
      "text/plain": [
       "'  artificial intelligence  ai  is intelligence demonstrated by machines  as opposed to natural intelligence displayed by animals including humans  leading ai textbooks define the field as the study of  intelligent agents   any system that perceives its environment and takes actions that maximize its chance of achieving its goals  a  some popular accounts use the term  artificial intelligence  to describe machines that mimic  cognitive  functions that humans associate with the human mind  such as  learning  and  problem solving   however  this definition is rejected by major ai researchers  b  ai applications include advanced web search engines  e g   google   recommendation systems  used by youtube  amazon and netflix   understanding human speech  such as siri and alexa   self driving cars  e g   tesla   automated decision making and competing at the highest level in strategic game systems  such as chess and go      citation needed  as machines become increasingly capable  tasks consid'"
      ]
     },
     "execution_count": 28,
     "metadata": {},
     "output_type": "execute_result"
    }
   ],
   "source": [
    "processed_article[:1000]"
   ]
  },
  {
   "cell_type": "code",
   "execution_count": 29,
   "id": "b8380402",
   "metadata": {},
   "outputs": [
    {
     "data": {
      "text/plain": [
       "' artificial intelligence ai is intelligence demonstrated by machines as opposed to natural intelligence displayed by animals including humans leading ai textbooks define the field as the study of intelligent agents any system that perceives its environment and takes actions that maximize its chance of achieving its goals a some popular accounts use the term artificial intelligence to describe machines that mimic cognitive functions that humans associate with the human mind such as learning and problem solving however this definition is rejected by major ai researchers b ai applications include advanced web search engines e g google recommendation systems used by youtube amazon and netflix understanding human speech such as siri and alexa self driving cars e g tesla automated decision making and competing at the highest level in strategic game systems such as chess and go citation needed as machines become increasingly capable tasks considered to require intelligence are often removed f'"
      ]
     },
     "execution_count": 29,
     "metadata": {},
     "output_type": "execute_result"
    }
   ],
   "source": [
    "# remove space\n",
    "processed_article = re.sub(r'\\s+', ' ', processed_article)\n",
    "processed_article[:1000]"
   ]
  },
  {
   "cell_type": "markdown",
   "id": "ccbe5644",
   "metadata": {},
   "source": [
    "**2.Tokenize & remove stopword**"
   ]
  },
  {
   "cell_type": "code",
   "execution_count": 30,
   "id": "6cd34ae5",
   "metadata": {},
   "outputs": [],
   "source": [
    "# break into sentences\n",
    "all_sentences = nltk.sent_tokenize(processed_article)"
   ]
  },
  {
   "cell_type": "code",
   "execution_count": 31,
   "id": "9ec0a223",
   "metadata": {},
   "outputs": [
    {
     "data": {
      "text/plain": [
       "[' artificial intelligence ai is intelligence demonstrated by machines as opposed to natural intelligence displayed by animals including humans leading ai textbooks define the field as the study of intelligent agents any system that perceives its environment and takes actions that maximize its chance of achieving its goals a some popular accounts use the term artificial intelligence to describe machines that mimic cognitive functions that humans associate with the human mind such as learning and problem solving however this definition is rejected by major ai researchers b ai applications include advanced web search engines e g google recommendation systems used by youtube amazon and netflix understanding human speech such as siri and alexa self driving cars e g tesla automated decision making and competing at the highest level in strategic game systems such as chess and go citation needed as machines become increasingly capable tasks considered to require intelligence are often removed from the definition of ai a phenomenon known as the ai effect for instance optical character recognition is frequently excluded from things considered to be ai having become a routine technology artificial intelligence was founded as an academic discipline in and in the years since has experienced several waves of optimism followed by disappointment and the loss of funding known as an ai winter followed by new approaches success and renewed funding ai research has tried and discarded many different approaches since its founding including simulating the brain modeling human problem solving formal logic large databases of knowledge and imitating animal behavior in the first decades of the st century highly mathematical statistical machine learning has dominated the field and this technique has proved highly successful helping to solve many challenging problems throughout industry and academia the various sub fields of ai research are centered around particular goals and the use of particular tools the traditional goals of ai research include reasoning knowledge representation planning learning natural language processing perception and the ability to move and manipulate objects c general intelligence the ability to solve an arbitrary problem is among the field s long term goals to solve these problems ai researchers have adapted and integrated a wide range of problem solving techniques including search and mathematical optimization formal logic artificial neural networks and methods based on statistics probability and economics ai also draws upon computer science psychology linguistics philosophy and many other fields the field was founded on the assumption that human intelligence can be so precisely described that a machine can be made to simulate it d this raises philosophical arguments about the mind and the ethics of creating artificial beings endowed with human like intelligence these issues have been explored by myth fiction and philosophy since antiquity science fiction and futurology have also suggested that with its enormous potential and power ai may become an existential risk to humanity artificial beings with intelligence appeared as storytelling devices in antiquity and have been common in fiction as in mary shelley s frankenstein or karel apek s r u r these characters and their fates raised many of the same issues now discussed in the ethics of artificial intelligence the study of mechanical or formal reasoning began with philosophers and mathematicians in antiquity the study of mathematical logic led directly to alan turing s theory of computation which suggested that a machine by shuffling symbols as simple as and could simulate any conceivable act of mathematical deduction this insight that digital computers can simulate any process of formal reasoning is known as the church turing thesis the church turing thesis along with concurrent discoveries in neurobiology information theory and cybernetics led researchers to consider the possibility of building an electronic brain the first work that is now generally recognized as ai was mccullouch and pitts formal design for turing complete artificial neurons when access to digital computers became possible in the mid s ai research began to explore the possibility that human intelligence could be reduced to step by step symbol manipulation known as symbolic ai or gofai approaches based on cybernetics or artificial neural networks were abandoned or pushed into the background the field of ai research was born at a workshop at dartmouth college in e the attendees became the founders and leaders of ai research f they and their students produced programs that the press described as astonishing g computers were learning checkers strategies solving word problems in algebra proving logical theorems and speaking english h by the middle of the s research in the u s was heavily funded by the department of defense and laboratories had been established around the world researchers in the s and the s were convinced that symbolic approaches would eventually succeed in creating a machine with artificial general intelligence and considered this the goal of their field herbert simon predicted machines will be capable within twenty years of doing any work a man can do marvin minsky agreed writing within a generation the problem of creating artificial intelligence will substantially be solved they failed to recognize the difficulty of some of the remaining tasks progress slowed and in in response to the criticism of sir james lighthill and ongoing pressure from the us congress to fund more productive projects both the u s and british governments cut off exploratory research in ai the next few years would later be called an ai winter a period when obtaining funding for ai projects was difficult in the early s ai research was revived by the commercial success of expert systems a form of ai program that simulated the knowledge and analytical skills of human experts by the market for ai had reached over a billion dollars at the same time japan s fifth generation computer project inspired the u s and british governments to restore funding for academic research however beginning with the collapse of the lisp machine market in ai once again fell into disrepute and a second longer lasting winter began many researchers began to doubt that the symbolic approach would be able to imitate all the processes of human cognition especially perception robotics learning and pattern recognition a number of researchers began to look into sub symbolic approaches to specific ai problems robotics researchers such as rodney brooks rejected symbolic ai and focused on the basic engineering problems that would allow robots to move survive and learn their environment i interest in neural networks and connectionism was revived by geoffrey hinton david rumelhart and others in the middle of the s soft computing tools were developed in the s such as neural networks fuzzy systems grey system theory evolutionary computation and many tools drawn from statistics or mathematical optimization ai gradually restored its reputation in the late s and early st century by finding specific solutions to specific problems the narrow focus allowed researchers to produce verifiable results exploit more mathematical methods and collaborate with other fields such as statistics economics and mathematics by solutions developed by ai researchers were being widely used although in the s they were rarely described as artificial intelligence faster computers algorithmic improvements and access to large amounts of data enabled advances in machine learning and perception data hungry deep learning methods started to dominate accuracy benchmarks around according to bloomberg s jack clark was a landmark year for artificial intelligence with the number of software projects that use ai within google increased from a sporadic usage in to more than projects j he attributes this to an increase in affordable neural networks due to a rise in cloud computing infrastructure and to an increase in research tools and datasets in a survey one in five companies reported they had incorporated ai in some offerings or processes the amount of research into ai measured by total publications increased by in the years numerous academic researchers became concerned that ai was no longer pursuing the original goal of creating versatile fully intelligent machines much of current research involves statistical ai which is overwhelmingly used to solve specific problems even highly successful techniques such as deep learning this concern has led to the subfield artificial general intelligence or agi which had several well funded institutions by the s the general problem of simulating or creating intelligence has been broken down into sub problems these consist of particular traits or capabilities that researchers expect an intelligent system to display the traits described below have received the most attention c early researchers developed algorithms that imitated step by step reasoning that humans use when they solve puzzles or make logical deductions by the late s and s ai research had developed methods for dealing with uncertain or incomplete information employing concepts from probability and economics many of these algorithms proved to be insufficient for solving large reasoning problems because they experienced a combinatorial explosion they became exponentially slower as the problems grew larger even humans rarely use the step by step deduction that early ai research could model they solve most of their problems using fast intuitive judgments knowledge representation and knowledge engineering allow ai programs to answer questions intelligently and make deductions about real world facts a representation of what exists is an ontology the set of objects relations concepts and properties formally described so that software agents can interpret them the most general ontologies are called upper ontologies which attempt to provide a foundation for all other knowledge and act as mediators between domain ontologies that cover specific knowledge about a particular knowledge domain field of interest or area of concern a truly intelligent program would also need access to commonsense knowledge the set of facts that an average person knows the semantics of an ontology is typically represented in a description logic such as the web ontology language ai research has developed tools to represent specific domains such as objects properties categories and relations between objects situations events states and time causes and effects knowledge about knowledge what we know about what other people know default reasoning things that humans assume are true until they are told differently and will remain true even when other facts are changing as well as other domains among the most difficult problems in ai are the breadth of commonsense knowledge the number of atomic facts that the average person knows is enormous and the sub symbolic form of most commonsense knowledge much of what people know is not represented as facts or statements that they could express verbally formal knowledge representations are used in content based indexing and retrieval scene interpretation clinical decision support knowledge discovery mining interesting and actionable inferences from large databases and other areas an intelligent agent that can plan makes a representation of the state of the world makes predictions about how their actions will change it and makes choices that maximize the utility or value of the available choices in classical planning problems the agent can assume that it is the only system acting in the world allowing the agent to be certain of the consequences of its actions however if the agent is not the only actor then it requires that the agent reason under uncertainty and continuously re assess its environment and adapt multi agent planning uses the cooperation and competition of many agents to achieve a given goal emergent behavior such as this is used by evolutionary algorithms and swarm intelligence machine learning ml a fundamental concept of ai research since the field s inception k is the study of computer algorithms that improve automatically through experience l unsupervised learning finds patterns in a stream of input supervised learning requires a human to label the input data first and comes in two main varieties classification and numerical regression classification is used to determine what category something belongs in the program sees a number of examples of things from several categories and will learn to classify new inputs regression is the attempt to produce a function that describes the relationship between inputs and outputs and predicts how the outputs should change as the inputs change both classifiers and regression learners can be viewed as function approximators trying to learn an unknown possibly implicit function for example a spam classifier can be viewed as learning a function that maps from the text of an email to one of two categories spam or not spam in reinforcement learning the agent is rewarded for good responses and punished for bad ones the agent classifies its responses to form a strategy for operating in its problem space transfer learning is when knowledge gained from one problem is applied to a new problem computational learning theory can assess learners by computational complexity by sample complexity how much data is required or by other notions of optimization natural language processing nlp allows machines to read and understand human language a sufficiently powerful natural language processing system would enable natural language user interfaces and the acquisition of knowledge directly from human written sources such as newswire texts some straightforward applications of nlp include information retrieval question answering and machine translation symbolic ai used formal syntax to translate the deep structure of sentences into logic this failed to produce useful applications due to the intractability of logic and the breadth of commonsense knowledge modern statistical techniques include co occurrence frequencies how often one word appears near another keyword spotting searching for a particular word to retrieve information transformer based deep learning which finds patterns in text and others they have achieved acceptable accuracy at the page or paragraph level and by could generate coherent text machine perception is the ability to use input from sensors such as cameras microphones wireless signals and active lidar sonar radar and tactile sensors to deduce aspects of the world applications include speech recognition facial recognition and object recognition computer vision is the ability to analyze visual input ai is heavily used in robotics localization is how a robot knows its location and maps its environment when given a small static and visible environment this is easy however dynamic environments such as in endoscopy the interior of a patient s breathing body pose a greater challenge motion planning is the process of breaking down a movement task into primitives such as individual joint movements such movement often involves compliant motion a process where movement requires maintaining physical contact with an object robots can learn from experience how to move efficiently despite the presence of friction and gear slippage affective computing is an interdisciplinary umbrella that comprises systems which recognize interpret process or simulate human feeling emotion and mood for example some virtual assistants are programmed to speak conversationally or even to banter humorously it makes them appear more sensitive to the emotional dynamics of human interaction or to otherwise facilitate human computer interaction however this tends to give na ve users an unrealistic conception of how intelligent existing computer agents actually are moderate successes related to affective computing include textual sentiment analysis and more recently multimodal sentiment analysis wherein ai classifies the affects displayed by a videotaped subject a machine with general intelligence can solve a wide variety of problems with a breadth and versatility similar to human intelligence there are several competing ideas about how to develop artificial general intelligence hans moravec and marvin minsky argue that work in different individual domains can be incorporated into an advanced multi agent system or cognitive architecture with general intelligence pedro domingos hopes that there is a conceptually straightforward but mathematically difficult master algorithm that could lead to agi others believe that anthropomorphic features like an artificial brain or simulated child development m will someday reach a critical point where general intelligence emerges many problems in ai can be solved theoretically by intelligently searching through many possible solutions reasoning can be reduced to performing a search for example logical proof can be viewed as searching for a path that leads from premises to conclusions where each step is the application of an inference rule planning algorithms search through trees of goals and subgoals attempting to find a path to a target goal a process called means ends analysis robotics algorithms for moving limbs and grasping objects use local searches in configuration space simple exhaustive searches are rarely sufficient for most real world problems the search space the number of places to search quickly grows to astronomical numbers the result is a search that is too slow or never completes the solution for many problems is to use heuristics or rules of thumb that prioritize choices in favor of those more likely to reach a goal and to do so in a shorter number of steps in some search methodologies heuristics can also serve to eliminate some choices unlikely to lead to a goal called pruning the search tree heuristics supply the program with a best guess for the path on which the solution lies heuristics limit the search for solutions into a smaller sample size a very different kind of search came to prominence in the s based on the mathematical theory of optimization for many problems it is possible to begin the search with some form of a guess and then refine the guess incrementally until no more refinements can be made these algorithms can be visualized as blind hill climbing we begin the search at a random point on the landscape and then by jumps or steps we keep moving our guess uphill until we reach the top other optimization algorithms are simulated annealing beam search and random optimization evolutionary computation uses a form of optimization search for example they may begin with a population of organisms the guesses and then allow them to mutate and recombine selecting only the fittest to survive each generation refining the guesses classic evolutionary algorithms include genetic algorithms gene expression programming and genetic programming alternatively distributed search processes can coordinate via swarm intelligence algorithms two popular swarm algorithms used in search are particle swarm optimization inspired by bird flocking and ant colony optimization inspired by ant trails logic is used for knowledge representation and problem solving but it can be applied to other problems as well for example the satplan algorithm uses logic for planning and inductive logic programming is a method for learning several different forms of logic are used in ai research propositional logic involves truth functions such as or and not first order logic adds quantifiers and predicates and can express facts about objects their properties and their relations with each other fuzzy logic assigns a degree of truth between and to vague statements such as alice is old or rich or tall or hungry that are too linguistically imprecise to be completely true or false default logics non monotonic logics and circumscription are forms of logic designed to help with default reasoning and the qualification problem several extensions of logic have been designed to handle specific domains of knowledge such as description logics situation calculus event calculus and fluent calculus for representing events and time causal calculus belief calculus belief revision and modal logics logics to model contradictory or inconsistent statements arising in multi agent systems have also been designed such as paraconsistent logics citation needed many problems in ai in reasoning planning learning perception and robotics require the agent to operate with incomplete or uncertain information ai researchers have devised a number of powerful tools to solve these problems using methods from probability theory and economics bayesian networks are a very general tool that can be used for various problems reasoning using the bayesian inference algorithm n learning using the expectation maximization algorithm o planning using decision networks and perception using dynamic bayesian networks probabilistic algorithms can also be used for filtering prediction smoothing and finding explanations for streams of data helping perception systems to analyze processes that occur over time e g hidden markov models or kalman filters a key concept from the science of economics is utility a measure of how valuable something is to an intelligent agent precise mathematical tools have been developed that analyze how an agent can make choices and plan using decision theory decision analysis and information value theory these tools include models such as markov decision processes dynamic decision networks game theory and mechanism design the simplest ai applications can be divided into two types classifiers if shiny then diamond and controllers if diamond then pick up controllers do however also classify conditions before inferring actions and therefore classification forms a central part of many ai systems classifiers are functions that use pattern matching to determine a closest match they can be tuned according to examples making them very attractive for use in ai these examples are known as observations or patterns in supervised learning each pattern belongs to a certain predefined class a class is a decision that has to be made all the observations combined with their class labels are known as a data set when a new observation is received that observation is classified based on previous experience a classifier can be trained in various ways there are many statistical and machine learning approaches the decision tree is the simplest and most widely used symbolic machine learning algorithm k nearest neighbor algorithm was the most widely used analogical ai until the mid s kernel methods such as the support vector machine svm displaced k nearest neighbor in the s the naive bayes classifier is reportedly the most widely used learner at google due in part to its scalability neural networks are also used for classification classifier performance depends greatly on the characteristics of the data to be classified such as the dataset size distribution of samples across classes the dimensionality and the level of noise model based classifiers perform well if the assumed model is an extremely good fit for the actual data otherwise if no matching model is available and if accuracy rather than speed or scalability is the sole concern conventional wisdom is that discriminative classifiers especially svm tend to be more accurate than model based classifiers such as naive bayes on most practical data sets neural networks were inspired by the architecture of neurons in the human brain a simple neuron n accepts input from other neurons each of which when activated or fired casts a weighted vote for or against whether neuron n should itself activate learning requires an algorithm to adjust these weights based on the training data one simple algorithm dubbed fire together wire together is to increase the weight between two connected neurons when the activation of one triggers the successful activation of another neurons have a continuous spectrum of activation in addition neurons can process inputs in a nonlinear way rather than weighing straightforward votes modern neural networks model complex relationships between inputs and outputs or and find patterns in data they can learn continuous functions and even digital logical operations neural networks can be viewed a type of mathematical optimization they perform a gradient descent on a multi dimensional topology that was created by training the network the most common training technique is the backpropagation algorithm other learning techniques for neural networks are hebbian learning fire together wire together gmdh or competitive learning the main categories of networks are acyclic or feedforward neural networks where the signal passes in only one direction and recurrent neural networks which allow feedback and short term memories of previous input events among the most popular feedforward networks are perceptrons multi layer perceptrons and radial basis networks deep learning uses several layers of neurons between the network s inputs and outputs the multiple layers can progressively extract higher level features from the raw input for example in image processing lower layers may identify edges while higher layers may identify the concepts relevant to a human such as digits or letters or faces deep learning has drastically improved the performance of programs in many important subfields of artificial intelligence including computer vision speech recognition image classification and others deep learning often uses convolutional neural networks for many or all of its layers in a convolutional layer each neuron receives input from only a restricted area of the previous layer called the neuron s receptive field this can substantially reduce the number of weighted connections between neurons and creates a hierarchy similar to the organization of the animal visual cortex in a recurrent neural network the signal will propagate through a layer more than once thus an rnn is an example of deep learning rnns can be trained by gradient descent however long term gradients which are back propagated can vanish that is they can tend to zero or explode that is they can tend to infinity known as the vanishing gradient problem the long short term memory lstm technique can prevent this in most cases specialized languages for artificial intelligence have been developed such as lisp prolog tensorflow and many others hardware developed for ai includes ai accelerators and neuromorphic computing ai is relevant to any intellectual task modern artificial intelligence techniques are pervasive and are too numerous to list here frequently when a technique reaches mainstream use it is no longer considered artificial intelligence this phenomenon is described as the ai effect in the s ai applications were at the heart of the most commercially successful areas of computing and have become a ubiquitous feature of daily life ai is used in search engines such as google search targeting online advertisements non primary source needed recommendation systems offered by netflix youtube or amazon driving internet traffic targeted advertising adsense facebook virtual assistants such as siri or alexa autonomous vehicles including drones and self driving cars automatic language translation microsoft translator google translate facial recognition apple s face id or microsoft s deepface image labeling used by facebook apple s iphoto and tiktok and spam filtering there are also thousands of successful ai applications used to solve problems for specific industries or institutions a few examples are energy storage deepfakes medical diagnosis military logistics or supply chain management game playing has been a test of ai s strength since the s deep blue became the first computer chess playing system to beat a reigning world chess champion garry kasparov on may in in a jeopardy quiz show exhibition match ibm s question answering system watson defeated the two greatest jeopardy champions brad rutter and ken jennings by a significant margin in march alphago won out of games of go in a match with go champion lee sedol becoming the first computer go playing system to beat a professional go player without handicaps other programs handle imperfect information games such as for poker at a superhuman level pluribus p and cepheus deepmind in the s developed a generalized artificial intelligence that could learn many diverse atari games on its own by natural language processing systems such as the enormous gpt then by far the largest artificial neural network were matching human performance on pre existing benchmarks albeit without the system attaining commonsense understanding of the contents of the benchmarks deepmind s alphafold demonstrated the ability to approximate in hours rather than months the d structure of a protein other applications predict the result of judicial decisions create art such as poetry or painting and prove mathematical theorems alan turing wrote in i propose to consider the question can machines think he advised changing the question from whether a machine thinks to whether or not it is possible for machinery to show intelligent behaviour the only thing visible is the behavior of the machine so it does not matter if the machine is conscious or has a mind or whether the intelligence is merely a simulation and not the real thing he noted that we also don t know these things about other people but that we extend a polite convention that they are actually thinking this idea forms the basis of the turing test q ai founder john mccarthy said artificial intelligence is not by definition simulation of human intelligence russell and norvig agree and criticize the turing test they wrote aeronautical engineering texts do not define the goal of their field as making machines that fly so exactly like pigeons that they can fool other pigeons other researchers and analysts disagree and have argued that ai should simulate natural intelligence by studying psychology or neurobiology r the intelligent agent paradigm defines intelligent behavior in general without reference to human beings an intelligent agent is a system that perceives its environment and takes actions that maximize its chances of success any system that has goal directed behavior can be analyzed as an intelligent agent something as simple as a thermostat as complex as a human being as well as large systems such as firms biomes or nations the intelligent agent paradigm became widely accepted during the s and currently serves as the definition of the field a the paradigm has other advantages for ai it provides a reliable and scientific way to test programs researchers can directly compare or even combine different approaches to isolated problems by asking which agent is best at maximizing a given goal function it also gives them a common language to communicate with other fields such as mathematical optimization which is defined in terms of goals or economics which uses the same definition of a rational agent no established unifying theory or paradigm has guided ai research for most of its history s the unprecedented success of statistical machine learning in the s eclipsed all other approaches so much so that some sources especially in the business world use the term artificial intelligence to mean machine learning with neural networks this approach is mostly sub symbolic neat soft and narrow see below critics argue that these questions may have to be revisited by future generations of ai researchers symbolic ai or gofai simulated the high level conscious reasoning that people use when they solve puzzles express legal reasoning and do mathematics they were highly successful at intelligent tasks such as algebra or iq tests in the s newell and simon proposed the physical symbol systems hypothesis a physical symbol system has the necessary and sufficient means of general intelligent action however the symbolic approach failed dismally on many tasks that humans solve easily such as learning recognizing an object or commonsense reasoning moravec s paradox is the discovery that high level intelligent tasks were easy for ai but low level instinctive tasks were extremely difficult philosopher hubert dreyfus had argued since the s that human expertise depends on unconscious instinct rather than conscious symbol manipulation and on having a feel for the situation rather than explicit symbolic knowledge although his arguments had been ridiculed and ignored when they were first presented eventually ai research came to agree t the issue is not resolved sub symbolic reasoning can make many of the same inscrutable mistakes that human intuition does such as algorithmic bias critics such noam chomsky argue continuing research into symbolic ai will still be necessary to attain general intelligence in part because sub symbolic ai is a move away from explainable ai it can be difficult or impossible to understand why a modern statistical ai program made a particular decision neats hope that intelligent behavior be described using simple elegant principles such as logic optimization or neural networks scruffies expect that it necessarily requires solving a large number of unrelated problems this issue was actively discussed in the s and s but in the s mathematical methods and solid scientific standards became the norm a transition that russell and norvig termed the victory of the neats finding a provably correct or optimal solution is intractable for many important problems soft computing is a set of techniques including genetic algorithms fuzzy logic and neural networks that are tolerant of imprecision uncertainty partial truth and approximation soft computing was introduced in the late s and most successful ai programs in the st century are examples of soft computing with neural networks ai researchers are divided as to whether to pursue the goals of artificial general intelligence and superintelligence general ai directly or to solve as many specific problems as possible narrow ai in hopes these solutions will lead indirectly to the field s long term goals general intelligence is difficult to define and difficult to measure and modern ai has had more verifiable successes by focussing on specific problems with specific solutions the experimental sub field of artificial general intelligence studies this area exclusively the philosophy of mind does not know whether a machine can have a mind consciousness and mental states in the same sense that human beings do this issue considers the internal experiences of the machine rather than its external behavior mainstream ai research considers this issue irrelevant because it does not effect the goals of the field stuart russell and peter norvig observe that most ai researchers don t care about the philosophy of ai as long as the program works they don t care whether you call it a simulation of intelligence or real intelligence however the question has become central to the philosophy of mind it is also typically the central question at issue in artificial intelligence in fiction david chalmers identified two problems in understanding the mind which he named the hard and easy problems of consciousness the easy problem is understanding how the brain processes signals makes plans and controls behavior the hard problem is explaining how this feels or why it should feel like anything at all human information processing is easy to explain however human subjective experience is difficult to explain for example it is easy to imagine a color blind person who has learned to identify which objects in their field of view are red but it is not clear what would be required for the person to know what red looks like computationalism is the position in the philosophy of mind that the human mind is an information processing system and that thinking is a form of computing computationalism argues that the relationship between mind and body is similar or identical to the relationship between software and hardware and thus may be a solution to the mind body problem this philosophical position was inspired by the work of ai researchers and cognitive scientists in the s and was originally proposed by philosophers jerry fodor and hilary putnam philosopher john searle characterized this position as strong ai the appropriately programmed computer with the right inputs and outputs would thereby have a mind in exactly the same sense human beings have minds u searle counters this assertion with his chinese room argument which attempts to show that even if a machine perfectly simulates human behavior there is still no reason to suppose it also has a mind if a machine has a mind and subjective experience then it may also have sentience the ability to feel and if so then it could also suffer and thus it would be entitled to certain rights any hypothetical robot rights would lie on a spectrum with animal rights and human rights this issue has been considered in fiction for centuries and is now being considered by for example california s institute for the future however critics argue that the discussion is premature a superintelligence hyperintelligence or superhuman intelligence is a hypothetical agent that would possess intelligence far surpassing that of the brightest and most gifted human mind superintelligence may also refer to the form or degree of intelligence possessed by such an agent if research into artificial general intelligence produced sufficiently intelligent software it might be able to reprogram and improve itself the improved software would be even better at improving itself leading to recursive self improvement its intelligence would increase exponentially in an intelligence explosion and could dramatically surpass humans science fiction writer vernor vinge named this scenario the singularity because it is difficult or impossible to know the limits of intelligence or the capabilities of superintelligent machines the technological singularity is an occurrence beyond which events are unpredictable or even unfathomable robot designer hans moravec cyberneticist kevin warwick and inventor ray kurzweil have predicted that humans and machines will merge in the future into cyborgs that are more capable and powerful than either this idea called transhumanism has roots in aldous huxley and robert ettinger edward fredkin argues that artificial intelligence is the next stage in evolution an idea first proposed by samuel butler s darwin among the machines as far back as and expanded upon by george dyson in his book of the same name in in the past technology has tended to increase rather than reduce total employment but economists acknowledge that we re in uncharted territory with ai a survey of economists showed disagreement about whether the increasing use of robots and ai will cause a substantial increase in long term unemployment but they generally agree that it could be a net benefit if productivity gains are redistributed subjective estimates of the risk vary widely for example michael osborne and carl benedikt frey estimate of u s jobs are at high risk of potential automation while an oecd report classifies only of u s jobs as high risk v unlike previous waves of automation many middle class jobs may be eliminated by artificial intelligence the economist states that the worry that ai could do to white collar jobs what steam power did to blue collar ones during the industrial revolution is worth taking seriously jobs at extreme risk range from paralegals to fast food cooks while job demand is likely to increase for care related professions ranging from personal healthcare to the clergy ai provides a number of tools that are particularly useful for authoritarian governments smart spyware face recognition and voice recognition allow widespread surveillance such surveillance allows machine learning to classify potential enemies of the state and can prevent them from hiding recommendation systems can precisely target propaganda and misinformation for maximum effect deepfakes aid in producing misinformation advanced ai can make centralized decision making more competitive with liberal and decentralized systems such as markets terrorists criminals and rogue states may use other forms of weaponized ai such as advanced digital warfare and lethal autonomous weapons by over fifty countries were reported to be researching battlefield robots ai programs can become biased after learning from real world data it is not typically introduced by the system designers but is learned by the program and thus the programmers are often unaware that the bias exists bias can be inadvertently introduced by the way training data is selected it can also emerge from correlations ai is used to classify individuals into groups and then make predictions assuming that the individual will resemble other members of the group in some cases this assumption may be unfair an example of this is compas a commercial program widely used by u s courts to assess the likelihood of a defendant becoming a recidivist propublica claims that the compas assigned recidivism risk level of black defendants is far more likely to be an overestimate than that of white defendants despite the fact that the program was not told the races of the defendants other examples where algorithmic bias can lead to unfair outcomes are when ai is used for credit rating or hiring superintelligent ai may be able to improve itself to the point that humans could not control it this could as physicist stephen hawking puts it spell the end of the human race philosopher nick bostrom argues that sufficiently intelligent ai if it chooses actions based on achieving some goal will exhibit convergent behavior such as acquiring resources or protecting itself from being shut down if this ai s goals do not fully reflect humanity s it might need to harm humanity to acquire more resources or prevent itself from being shut down ultimately to better achieve its goal he concludes that ai poses a risk to mankind however humble or friendly its stated goals might be political scientist charles t rubin argues that any sufficiently advanced benevolence may be indistinguishable from malevolence humans should not assume machines or robots would treat us favorably because there is no a priori reason to believe that they would share our system of morality the opinion of experts and industry insiders is mixed with sizable fractions both concerned and unconcerned by risk from eventual superhumanly capable ai stephen hawking microsoft founder bill gates history professor yuval noah harari and spacex founder elon musk have all expressed serious misgivings about the future of ai prominent tech titans including peter thiel amazon web services and musk have committed more than billion to nonprofit companies that champion responsible ai development such as openai and the future of life institute mark zuckerberg ceo facebook has said that artificial intelligence is helpful in its current form and will continue to assist humans other experts argue is that the risks are far enough in the future to not be worth researching or that humans will be valuable from the perspective of a superintelligent machine rodney brooks in particular has said that malevolent ai is still centuries away w friendly ai are machines that have been designed from the beginning to minimize risks and to make choices that benefit humans eliezer yudkowsky who coined the term argues that developing friendly ai should be a higher research priority it may require a large investment and it must be completed before ai becomes an existential risk machines with intelligence have the potential to use their intelligence to make ethical decisions the field of machine ethics provides machines with ethical principles and procedures for resolving ethical dilemmas machine ethics is also called machine morality computational ethics or computational morality and was founded at an aaai symposium in others approaches include wendell wallach s artificial moral agents and stuart j russell s three principles for developing provably beneficial machines the regulation of artificial intelligence is the development of public sector policies and laws for promoting and regulating artificial intelligence ai it is therefore related to the broader regulation of algorithms the regulatory and policy landscape for ai is an emerging issue in jurisdictions globally between and more than countries adopted dedicated strategies for ai most eu member states had released national ai strategies as had canada china india japan mauritius the russian federation saudi arabia united arab emirates usa and vietnam others were in the process of elaborating their own ai strategy including bangladesh malaysia and tunisia the global partnership on artificial intelligence was launched in june stating a need for ai to be developed in accordance with human rights and democratic values to ensure public confidence and trust in the technology henry kissinger eric schmidt and daniel huttenlocher published an joint statement in november calling for a government commission to regulate ai thought capable artificial beings have appeared as storytelling devices since antiquity and have been a persistent theme in science fiction a common trope in these works began with mary shelley s frankenstein where a human creation becomes a threat to its masters this includes such works as arthur c clarke s and stanley kubrick s a space odyssey both with hal the murderous computer in charge of the discovery one spaceship as well as the terminator and the matrix in contrast the rare loyal robots such as gort from the day the earth stood still and bishop from aliens are less prominent in popular culture isaac asimov introduced the three laws of robotics in many books and stories most notably the multivac series about a super intelligent computer of the same name asimov s laws are often brought up during lay discussions of machine ethics while almost all artificial intelligence researchers are familiar with asimov s laws through popular culture they generally consider the laws useless for many reasons one of which is their ambiguity transhumanism the merging of humans and machines is explored in the manga ghost in the shell and the science fiction series dune several works use ai to force us to confront the fundamental question of what makes us human showing us artificial beings that have the ability to feel and thus to suffer this appears in karel apek s r u r the films a i artificial intelligence and ex machina as well as the novel do androids dream of electric sheep by philip k dick dick considers the idea that our understanding of human subjectivity is altered by technology created with artificial intelligence these were the four the most widely used ai textbooks in later editions the two most widely used textbooks in see also logic machines in fiction and list of fictional computers']"
      ]
     },
     "execution_count": 31,
     "metadata": {},
     "output_type": "execute_result"
    }
   ],
   "source": [
    "all_sentences"
   ]
  },
  {
   "cell_type": "code",
   "execution_count": 32,
   "id": "2d1d268f",
   "metadata": {},
   "outputs": [
    {
     "data": {
      "text/plain": [
       "list"
      ]
     },
     "execution_count": 32,
     "metadata": {},
     "output_type": "execute_result"
    }
   ],
   "source": [
    "# break into words\n",
    "all_words = [nltk.word_tokenize(sent) for sent in all_sentences]\n",
    "type(all_words)"
   ]
  },
  {
   "cell_type": "code",
   "execution_count": 33,
   "id": "e5714d07",
   "metadata": {},
   "outputs": [
    {
     "data": {
      "text/plain": [
       "1"
      ]
     },
     "execution_count": 33,
     "metadata": {},
     "output_type": "execute_result"
    }
   ],
   "source": [
    "len(all_words)"
   ]
  },
  {
   "cell_type": "code",
   "execution_count": 34,
   "id": "aa93c3b6",
   "metadata": {},
   "outputs": [
    {
     "name": "stdout",
     "output_type": "stream",
     "text": [
      "[['artificial', 'intelligence', 'ai', 'is', 'intelligence', 'demonstrated', 'by', 'machines', 'as', 'opposed', 'to', 'natural', 'intelligence', 'displayed', 'by', 'animals', 'including', 'humans', 'leading', 'ai', 'textbooks', 'define', 'the', 'field', 'as', 'the', 'study', 'of', 'intelligent', 'agents', 'any', 'system', 'that', 'perceives', 'its', 'environment', 'and', 'takes', 'actions', 'that', 'maximize', 'its', 'chance', 'of', 'achieving', 'its', 'goals', 'a', 'some', 'popular', 'accounts', 'use', 'the', 'term', 'artificial', 'intelligence', 'to', 'describe', 'machines', 'that', 'mimic', 'cognitive', 'functions', 'that', 'humans', 'associate', 'with', 'the', 'human', 'mind', 'such', 'as', 'learning', 'and', 'problem', 'solving', 'however', 'this', 'definition', 'is', 'rejected', 'by', 'major', 'ai', 'researchers', 'b', 'ai', 'applications', 'include', 'advanced', 'web', 'search', 'engines', 'e', 'g', 'google', 'recommendation', 'systems', 'used', 'by', 'youtube', 'amazon', 'and', 'netflix', 'understanding', 'human', 'speech', 'such', 'as', 'siri', 'and', 'alexa', 'self', 'driving', 'cars', 'e', 'g', 'tesla', 'automated', 'decision', 'making', 'and', 'competing', 'at', 'the', 'highest', 'level', 'in', 'strategic', 'game', 'systems', 'such', 'as', 'chess', 'and', 'go', 'citation', 'needed', 'as', 'machines', 'become', 'increasingly', 'capable', 'tasks', 'considered', 'to', 'require', 'intelligence', 'are', 'often', 'removed', 'from', 'the', 'definition', 'of', 'ai', 'a', 'phenomenon', 'known', 'as', 'the', 'ai', 'effect', 'for', 'instance', 'optical', 'character', 'recognition', 'is', 'frequently', 'excluded', 'from', 'things', 'considered', 'to', 'be', 'ai', 'having', 'become', 'a', 'routine', 'technology', 'artificial', 'intelligence', 'was', 'founded', 'as', 'an', 'academic', 'discipline', 'in', 'and', 'in', 'the', 'years', 'since', 'has', 'experienced', 'several', 'waves', 'of', 'optimism', 'followed', 'by', 'disappointment', 'and', 'the', 'loss', 'of', 'funding', 'known', 'as', 'an', 'ai', 'winter', 'followed', 'by', 'new', 'approaches', 'success', 'and', 'renewed', 'funding', 'ai', 'research', 'has', 'tried', 'and', 'discarded', 'many', 'different', 'approaches', 'since', 'its', 'founding', 'including', 'simulating', 'the', 'brain', 'modeling', 'human', 'problem', 'solving', 'formal', 'logic', 'large', 'databases', 'of', 'knowledge', 'and', 'imitating', 'animal', 'behavior', 'in', 'the', 'first', 'decades', 'of', 'the', 'st', 'century', 'highly', 'mathematical', 'statistical', 'machine', 'learning', 'has', 'dominated', 'the', 'field', 'and', 'this', 'technique', 'has', 'proved', 'highly', 'successful', 'helping', 'to', 'solve', 'many', 'challenging', 'problems', 'throughout', 'industry', 'and', 'academia', 'the', 'various', 'sub', 'fields', 'of', 'ai', 'research', 'are', 'centered', 'around', 'particular', 'goals', 'and', 'the', 'use', 'of', 'particular', 'tools', 'the', 'traditional', 'goals', 'of', 'ai', 'research', 'include', 'reasoning', 'knowledge', 'representation', 'planning', 'learning', 'natural', 'language', 'processing', 'perception', 'and', 'the', 'ability', 'to', 'move', 'and', 'manipulate', 'objects', 'c', 'general', 'intelligence', 'the', 'ability', 'to', 'solve', 'an', 'arbitrary', 'problem', 'is', 'among', 'the', 'field', 's', 'long', 'term', 'goals', 'to', 'solve', 'these', 'problems', 'ai', 'researchers', 'have', 'adapted', 'and', 'integrated', 'a', 'wide', 'range', 'of', 'problem', 'solving', 'techniques', 'including', 'search', 'and', 'mathematical', 'optimization', 'formal', 'logic', 'artificial', 'neural', 'networks', 'and', 'methods', 'based', 'on', 'statistics', 'probability', 'and', 'economics', 'ai', 'also', 'draws', 'upon', 'computer', 'science', 'psychology', 'linguistics', 'philosophy', 'and', 'many', 'other', 'fields', 'the', 'field', 'was', 'founded', 'on', 'the', 'assumption', 'that', 'human', 'intelligence', 'can', 'be', 'so', 'precisely', 'described', 'that', 'a', 'machine', 'can', 'be', 'made', 'to', 'simulate', 'it', 'd', 'this', 'raises', 'philosophical', 'arguments', 'about', 'the', 'mind', 'and', 'the', 'ethics', 'of', 'creating', 'artificial', 'beings', 'endowed', 'with', 'human', 'like', 'intelligence', 'these', 'issues', 'have', 'been', 'explored', 'by', 'myth', 'fiction', 'and', 'philosophy', 'since', 'antiquity', 'science', 'fiction', 'and', 'futurology', 'have', 'also', 'suggested', 'that', 'with', 'its', 'enormous', 'potential', 'and', 'power', 'ai', 'may', 'become', 'an', 'existential', 'risk', 'to', 'humanity', 'artificial', 'beings', 'with', 'intelligence', 'appeared', 'as', 'storytelling', 'devices', 'in', 'antiquity', 'and', 'have', 'been', 'common', 'in', 'fiction', 'as', 'in', 'mary', 'shelley', 's', 'frankenstein', 'or', 'karel', 'apek', 's', 'r', 'u', 'r', 'these', 'characters', 'and', 'their', 'fates', 'raised', 'many', 'of', 'the', 'same', 'issues', 'now', 'discussed', 'in', 'the', 'ethics', 'of', 'artificial', 'intelligence', 'the', 'study', 'of', 'mechanical', 'or', 'formal', 'reasoning', 'began', 'with', 'philosophers', 'and', 'mathematicians', 'in', 'antiquity', 'the', 'study', 'of', 'mathematical', 'logic', 'led', 'directly', 'to', 'alan', 'turing', 's', 'theory', 'of', 'computation', 'which', 'suggested', 'that', 'a', 'machine', 'by', 'shuffling', 'symbols', 'as', 'simple', 'as', 'and', 'could', 'simulate', 'any', 'conceivable', 'act', 'of', 'mathematical', 'deduction', 'this', 'insight', 'that', 'digital', 'computers', 'can', 'simulate', 'any', 'process', 'of', 'formal', 'reasoning', 'is', 'known', 'as', 'the', 'church', 'turing', 'thesis', 'the', 'church', 'turing', 'thesis', 'along', 'with', 'concurrent', 'discoveries', 'in', 'neurobiology', 'information', 'theory', 'and', 'cybernetics', 'led', 'researchers', 'to', 'consider', 'the', 'possibility', 'of', 'building', 'an', 'electronic', 'brain', 'the', 'first', 'work', 'that', 'is', 'now', 'generally', 'recognized', 'as', 'ai', 'was', 'mccullouch', 'and', 'pitts', 'formal', 'design', 'for', 'turing', 'complete', 'artificial', 'neurons', 'when', 'access', 'to', 'digital', 'computers', 'became', 'possible', 'in', 'the', 'mid', 's', 'ai', 'research', 'began', 'to', 'explore', 'the', 'possibility', 'that', 'human', 'intelligence', 'could', 'be', 'reduced', 'to', 'step', 'by', 'step', 'symbol', 'manipulation', 'known', 'as', 'symbolic', 'ai', 'or', 'gofai', 'approaches', 'based', 'on', 'cybernetics', 'or', 'artificial', 'neural', 'networks', 'were', 'abandoned', 'or', 'pushed', 'into', 'the', 'background', 'the', 'field', 'of', 'ai', 'research', 'was', 'born', 'at', 'a', 'workshop', 'at', 'dartmouth', 'college', 'in', 'e', 'the', 'attendees', 'became', 'the', 'founders', 'and', 'leaders', 'of', 'ai', 'research', 'f', 'they', 'and', 'their', 'students', 'produced', 'programs', 'that', 'the', 'press', 'described', 'as', 'astonishing', 'g', 'computers', 'were', 'learning', 'checkers', 'strategies', 'solving', 'word', 'problems', 'in', 'algebra', 'proving', 'logical', 'theorems', 'and', 'speaking', 'english', 'h', 'by', 'the', 'middle', 'of', 'the', 's', 'research', 'in', 'the', 'u', 's', 'was', 'heavily', 'funded', 'by', 'the', 'department', 'of', 'defense', 'and', 'laboratories', 'had', 'been', 'established', 'around', 'the', 'world', 'researchers', 'in', 'the', 's', 'and', 'the', 's', 'were', 'convinced', 'that', 'symbolic', 'approaches', 'would', 'eventually', 'succeed', 'in', 'creating', 'a', 'machine', 'with', 'artificial', 'general', 'intelligence', 'and', 'considered', 'this', 'the', 'goal', 'of', 'their', 'field', 'herbert', 'simon', 'predicted', 'machines', 'will', 'be', 'capable', 'within', 'twenty', 'years', 'of', 'doing', 'any', 'work', 'a', 'man', 'can', 'do', 'marvin', 'minsky', 'agreed', 'writing', 'within', 'a', 'generation', 'the', 'problem', 'of', 'creating', 'artificial', 'intelligence', 'will', 'substantially', 'be', 'solved', 'they', 'failed', 'to', 'recognize', 'the', 'difficulty', 'of', 'some', 'of', 'the', 'remaining', 'tasks', 'progress', 'slowed', 'and', 'in', 'in', 'response', 'to', 'the', 'criticism', 'of', 'sir', 'james', 'lighthill', 'and', 'ongoing', 'pressure', 'from', 'the', 'us', 'congress', 'to', 'fund', 'more', 'productive', 'projects', 'both', 'the', 'u', 's', 'and', 'british', 'governments', 'cut', 'off', 'exploratory', 'research', 'in', 'ai', 'the', 'next', 'few', 'years', 'would', 'later', 'be', 'called', 'an', 'ai', 'winter', 'a', 'period', 'when', 'obtaining', 'funding', 'for', 'ai', 'projects', 'was', 'difficult', 'in', 'the', 'early', 's', 'ai', 'research', 'was', 'revived', 'by', 'the', 'commercial', 'success', 'of', 'expert', 'systems', 'a', 'form', 'of', 'ai', 'program', 'that', 'simulated', 'the', 'knowledge', 'and', 'analytical', 'skills', 'of', 'human', 'experts', 'by', 'the', 'market', 'for', 'ai', 'had', 'reached', 'over', 'a', 'billion', 'dollars', 'at', 'the', 'same', 'time', 'japan', 's', 'fifth', 'generation', 'computer', 'project', 'inspired', 'the', 'u', 's', 'and', 'british', 'governments', 'to', 'restore', 'funding', 'for', 'academic', 'research', 'however', 'beginning', 'with', 'the', 'collapse', 'of', 'the', 'lisp', 'machine', 'market', 'in', 'ai', 'once', 'again', 'fell', 'into', 'disrepute', 'and', 'a', 'second', 'longer', 'lasting', 'winter', 'began', 'many', 'researchers', 'began', 'to', 'doubt', 'that', 'the', 'symbolic', 'approach', 'would', 'be', 'able', 'to', 'imitate', 'all', 'the', 'processes', 'of', 'human', 'cognition', 'especially', 'perception', 'robotics', 'learning', 'and', 'pattern', 'recognition', 'a', 'number', 'of', 'researchers', 'began', 'to', 'look', 'into', 'sub', 'symbolic', 'approaches', 'to', 'specific', 'ai', 'problems', 'robotics', 'researchers', 'such', 'as', 'rodney', 'brooks', 'rejected', 'symbolic', 'ai', 'and', 'focused', 'on', 'the', 'basic', 'engineering', 'problems', 'that', 'would', 'allow', 'robots', 'to', 'move', 'survive', 'and', 'learn', 'their', 'environment', 'i', 'interest', 'in', 'neural', 'networks', 'and', 'connectionism', 'was', 'revived', 'by', 'geoffrey', 'hinton', 'david', 'rumelhart', 'and', 'others', 'in', 'the', 'middle', 'of', 'the', 's', 'soft', 'computing', 'tools', 'were', 'developed', 'in', 'the', 's', 'such', 'as', 'neural', 'networks', 'fuzzy', 'systems', 'grey', 'system', 'theory', 'evolutionary', 'computation', 'and', 'many', 'tools', 'drawn', 'from', 'statistics', 'or', 'mathematical', 'optimization', 'ai', 'gradually', 'restored', 'its', 'reputation', 'in', 'the', 'late', 's', 'and', 'early', 'st', 'century', 'by', 'finding', 'specific', 'solutions', 'to', 'specific', 'problems', 'the', 'narrow', 'focus', 'allowed', 'researchers', 'to', 'produce', 'verifiable', 'results', 'exploit', 'more', 'mathematical', 'methods', 'and', 'collaborate', 'with', 'other', 'fields', 'such', 'as', 'statistics', 'economics', 'and', 'mathematics', 'by', 'solutions', 'developed', 'by', 'ai', 'researchers', 'were', 'being', 'widely', 'used', 'although', 'in', 'the', 's', 'they', 'were', 'rarely', 'described', 'as', 'artificial', 'intelligence', 'faster', 'computers', 'algorithmic', 'improvements', 'and', 'access', 'to', 'large', 'amounts', 'of', 'data', 'enabled', 'advances', 'in', 'machine', 'learning', 'and', 'perception', 'data', 'hungry', 'deep', 'learning', 'methods', 'started', 'to', 'dominate', 'accuracy', 'benchmarks', 'around', 'according', 'to', 'bloomberg', 's', 'jack', 'clark', 'was', 'a', 'landmark', 'year', 'for', 'artificial', 'intelligence', 'with', 'the', 'number', 'of', 'software', 'projects', 'that', 'use', 'ai', 'within', 'google', 'increased', 'from', 'a', 'sporadic', 'usage', 'in', 'to', 'more', 'than', 'projects', 'j', 'he', 'attributes', 'this', 'to', 'an', 'increase', 'in', 'affordable', 'neural', 'networks', 'due', 'to', 'a', 'rise', 'in', 'cloud', 'computing', 'infrastructure', 'and', 'to', 'an', 'increase', 'in', 'research', 'tools', 'and', 'datasets', 'in', 'a', 'survey', 'one', 'in', 'five', 'companies', 'reported', 'they', 'had', 'incorporated', 'ai', 'in', 'some', 'offerings', 'or', 'processes', 'the', 'amount', 'of', 'research', 'into', 'ai', 'measured', 'by', 'total', 'publications', 'increased', 'by', 'in', 'the', 'years', 'numerous', 'academic', 'researchers', 'became', 'concerned', 'that', 'ai', 'was', 'no', 'longer', 'pursuing', 'the', 'original', 'goal', 'of', 'creating', 'versatile', 'fully', 'intelligent', 'machines', 'much', 'of', 'current', 'research', 'involves', 'statistical', 'ai', 'which', 'is', 'overwhelmingly', 'used', 'to', 'solve', 'specific', 'problems', 'even', 'highly', 'successful', 'techniques', 'such', 'as', 'deep', 'learning', 'this', 'concern', 'has', 'led', 'to', 'the', 'subfield', 'artificial', 'general', 'intelligence', 'or', 'agi', 'which', 'had', 'several', 'well', 'funded', 'institutions', 'by', 'the', 's', 'the', 'general', 'problem', 'of', 'simulating', 'or', 'creating', 'intelligence', 'has', 'been', 'broken', 'down', 'into', 'sub', 'problems', 'these', 'consist', 'of', 'particular', 'traits', 'or', 'capabilities', 'that', 'researchers', 'expect', 'an', 'intelligent', 'system', 'to', 'display', 'the', 'traits', 'described', 'below', 'have', 'received', 'the', 'most', 'attention', 'c', 'early', 'researchers', 'developed', 'algorithms', 'that', 'imitated', 'step', 'by', 'step', 'reasoning', 'that', 'humans', 'use', 'when', 'they', 'solve', 'puzzles', 'or', 'make', 'logical', 'deductions', 'by', 'the', 'late', 's', 'and', 's', 'ai', 'research', 'had', 'developed', 'methods', 'for', 'dealing', 'with', 'uncertain', 'or', 'incomplete', 'information', 'employing', 'concepts', 'from', 'probability', 'and', 'economics', 'many', 'of', 'these', 'algorithms', 'proved', 'to', 'be', 'insufficient', 'for', 'solving', 'large', 'reasoning', 'problems', 'because', 'they', 'experienced', 'a', 'combinatorial', 'explosion', 'they', 'became', 'exponentially', 'slower', 'as', 'the', 'problems', 'grew', 'larger', 'even', 'humans', 'rarely', 'use', 'the', 'step', 'by', 'step', 'deduction', 'that', 'early', 'ai', 'research', 'could', 'model', 'they', 'solve', 'most', 'of', 'their', 'problems', 'using', 'fast', 'intuitive', 'judgments', 'knowledge', 'representation', 'and', 'knowledge', 'engineering', 'allow', 'ai', 'programs', 'to', 'answer', 'questions', 'intelligently', 'and', 'make', 'deductions', 'about', 'real', 'world', 'facts', 'a', 'representation', 'of', 'what', 'exists', 'is', 'an', 'ontology', 'the', 'set', 'of', 'objects', 'relations', 'concepts', 'and', 'properties', 'formally', 'described', 'so', 'that', 'software', 'agents', 'can', 'interpret', 'them', 'the', 'most', 'general', 'ontologies', 'are', 'called', 'upper', 'ontologies', 'which', 'attempt', 'to', 'provide', 'a', 'foundation', 'for', 'all', 'other', 'knowledge', 'and', 'act', 'as', 'mediators', 'between', 'domain', 'ontologies', 'that', 'cover', 'specific', 'knowledge', 'about', 'a', 'particular', 'knowledge', 'domain', 'field', 'of', 'interest', 'or', 'area', 'of', 'concern', 'a', 'truly', 'intelligent', 'program', 'would', 'also', 'need', 'access', 'to', 'commonsense', 'knowledge', 'the', 'set', 'of', 'facts', 'that', 'an', 'average', 'person', 'knows', 'the', 'semantics', 'of', 'an', 'ontology', 'is', 'typically', 'represented', 'in', 'a', 'description', 'logic', 'such', 'as', 'the', 'web', 'ontology', 'language', 'ai', 'research', 'has', 'developed', 'tools', 'to', 'represent', 'specific', 'domains', 'such', 'as', 'objects', 'properties', 'categories', 'and', 'relations', 'between', 'objects', 'situations', 'events', 'states', 'and', 'time', 'causes', 'and', 'effects', 'knowledge', 'about', 'knowledge', 'what', 'we', 'know', 'about', 'what', 'other', 'people', 'know', 'default', 'reasoning', 'things', 'that', 'humans', 'assume', 'are', 'true', 'until', 'they', 'are', 'told', 'differently', 'and', 'will', 'remain', 'true', 'even', 'when', 'other', 'facts', 'are', 'changing', 'as', 'well', 'as', 'other', 'domains', 'among', 'the', 'most', 'difficult', 'problems', 'in', 'ai', 'are', 'the', 'breadth', 'of', 'commonsense', 'knowledge', 'the', 'number', 'of', 'atomic', 'facts', 'that', 'the', 'average', 'person', 'knows', 'is', 'enormous', 'and', 'the', 'sub', 'symbolic', 'form', 'of', 'most', 'commonsense', 'knowledge', 'much', 'of', 'what', 'people', 'know', 'is', 'not', 'represented', 'as', 'facts', 'or', 'statements', 'that', 'they', 'could', 'express', 'verbally', 'formal', 'knowledge', 'representations', 'are', 'used', 'in', 'content', 'based', 'indexing', 'and', 'retrieval', 'scene', 'interpretation', 'clinical', 'decision', 'support', 'knowledge', 'discovery', 'mining', 'interesting', 'and', 'actionable', 'inferences', 'from', 'large', 'databases', 'and', 'other', 'areas', 'an', 'intelligent', 'agent', 'that', 'can', 'plan', 'makes', 'a', 'representation', 'of', 'the', 'state', 'of', 'the', 'world', 'makes', 'predictions', 'about', 'how', 'their', 'actions', 'will', 'change', 'it', 'and', 'makes', 'choices', 'that', 'maximize', 'the', 'utility', 'or', 'value', 'of', 'the', 'available', 'choices', 'in', 'classical', 'planning', 'problems', 'the', 'agent', 'can', 'assume', 'that', 'it', 'is', 'the', 'only', 'system', 'acting', 'in', 'the', 'world', 'allowing', 'the', 'agent', 'to', 'be', 'certain', 'of', 'the', 'consequences', 'of', 'its', 'actions', 'however', 'if', 'the', 'agent', 'is', 'not', 'the', 'only', 'actor', 'then', 'it', 'requires', 'that', 'the', 'agent', 'reason', 'under', 'uncertainty', 'and', 'continuously', 're', 'assess', 'its', 'environment', 'and', 'adapt', 'multi', 'agent', 'planning', 'uses', 'the', 'cooperation', 'and', 'competition', 'of', 'many', 'agents', 'to', 'achieve', 'a', 'given', 'goal', 'emergent', 'behavior', 'such', 'as', 'this', 'is', 'used', 'by', 'evolutionary', 'algorithms', 'and', 'swarm', 'intelligence', 'machine', 'learning', 'ml', 'a', 'fundamental', 'concept', 'of', 'ai', 'research', 'since', 'the', 'field', 's', 'inception', 'k', 'is', 'the', 'study', 'of', 'computer', 'algorithms', 'that', 'improve', 'automatically', 'through', 'experience', 'l', 'unsupervised', 'learning', 'finds', 'patterns', 'in', 'a', 'stream', 'of', 'input', 'supervised', 'learning', 'requires', 'a', 'human', 'to', 'label', 'the', 'input', 'data', 'first', 'and', 'comes', 'in', 'two', 'main', 'varieties', 'classification', 'and', 'numerical', 'regression', 'classification', 'is', 'used', 'to', 'determine', 'what', 'category', 'something', 'belongs', 'in', 'the', 'program', 'sees', 'a', 'number', 'of', 'examples', 'of', 'things', 'from', 'several', 'categories', 'and', 'will', 'learn', 'to', 'classify', 'new', 'inputs', 'regression', 'is', 'the', 'attempt', 'to', 'produce', 'a', 'function', 'that', 'describes', 'the', 'relationship', 'between', 'inputs', 'and', 'outputs', 'and', 'predicts', 'how', 'the', 'outputs', 'should', 'change', 'as', 'the', 'inputs', 'change', 'both', 'classifiers', 'and', 'regression', 'learners', 'can', 'be', 'viewed', 'as', 'function', 'approximators', 'trying', 'to', 'learn', 'an', 'unknown', 'possibly', 'implicit', 'function', 'for', 'example', 'a', 'spam', 'classifier', 'can', 'be', 'viewed', 'as', 'learning', 'a', 'function', 'that', 'maps', 'from', 'the', 'text', 'of', 'an', 'email', 'to', 'one', 'of', 'two', 'categories', 'spam', 'or', 'not', 'spam', 'in', 'reinforcement', 'learning', 'the', 'agent', 'is', 'rewarded', 'for', 'good', 'responses', 'and', 'punished', 'for', 'bad', 'ones', 'the', 'agent', 'classifies', 'its', 'responses', 'to', 'form', 'a', 'strategy', 'for', 'operating', 'in', 'its', 'problem', 'space', 'transfer', 'learning', 'is', 'when', 'knowledge', 'gained', 'from', 'one', 'problem', 'is', 'applied', 'to', 'a', 'new', 'problem', 'computational', 'learning', 'theory', 'can', 'assess', 'learners', 'by', 'computational', 'complexity', 'by', 'sample', 'complexity', 'how', 'much', 'data', 'is', 'required', 'or', 'by', 'other', 'notions', 'of', 'optimization', 'natural', 'language', 'processing', 'nlp', 'allows', 'machines', 'to', 'read', 'and', 'understand', 'human', 'language', 'a', 'sufficiently', 'powerful', 'natural', 'language', 'processing', 'system', 'would', 'enable', 'natural', 'language', 'user', 'interfaces', 'and', 'the', 'acquisition', 'of', 'knowledge', 'directly', 'from', 'human', 'written', 'sources', 'such', 'as', 'newswire', 'texts', 'some', 'straightforward', 'applications', 'of', 'nlp', 'include', 'information', 'retrieval', 'question', 'answering', 'and', 'machine', 'translation', 'symbolic', 'ai', 'used', 'formal', 'syntax', 'to', 'translate', 'the', 'deep', 'structure', 'of', 'sentences', 'into', 'logic', 'this', 'failed', 'to', 'produce', 'useful', 'applications', 'due', 'to', 'the', 'intractability', 'of', 'logic', 'and', 'the', 'breadth', 'of', 'commonsense', 'knowledge', 'modern', 'statistical', 'techniques', 'include', 'co', 'occurrence', 'frequencies', 'how', 'often', 'one', 'word', 'appears', 'near', 'another', 'keyword', 'spotting', 'searching', 'for', 'a', 'particular', 'word', 'to', 'retrieve', 'information', 'transformer', 'based', 'deep', 'learning', 'which', 'finds', 'patterns', 'in', 'text', 'and', 'others', 'they', 'have', 'achieved', 'acceptable', 'accuracy', 'at', 'the', 'page', 'or', 'paragraph', 'level', 'and', 'by', 'could', 'generate', 'coherent', 'text', 'machine', 'perception', 'is', 'the', 'ability', 'to', 'use', 'input', 'from', 'sensors', 'such', 'as', 'cameras', 'microphones', 'wireless', 'signals', 'and', 'active', 'lidar', 'sonar', 'radar', 'and', 'tactile', 'sensors', 'to', 'deduce', 'aspects', 'of', 'the', 'world', 'applications', 'include', 'speech', 'recognition', 'facial', 'recognition', 'and', 'object', 'recognition', 'computer', 'vision', 'is', 'the', 'ability', 'to', 'analyze', 'visual', 'input', 'ai', 'is', 'heavily', 'used', 'in', 'robotics', 'localization', 'is', 'how', 'a', 'robot', 'knows', 'its', 'location', 'and', 'maps', 'its', 'environment', 'when', 'given', 'a', 'small', 'static', 'and', 'visible', 'environment', 'this', 'is', 'easy', 'however', 'dynamic', 'environments', 'such', 'as', 'in', 'endoscopy', 'the', 'interior', 'of', 'a', 'patient', 's', 'breathing', 'body', 'pose', 'a', 'greater', 'challenge', 'motion', 'planning', 'is', 'the', 'process', 'of', 'breaking', 'down', 'a', 'movement', 'task', 'into', 'primitives', 'such', 'as', 'individual', 'joint', 'movements', 'such', 'movement', 'often', 'involves', 'compliant', 'motion', 'a', 'process', 'where', 'movement', 'requires', 'maintaining', 'physical', 'contact', 'with', 'an', 'object', 'robots', 'can', 'learn', 'from', 'experience', 'how', 'to', 'move', 'efficiently', 'despite', 'the', 'presence', 'of', 'friction', 'and', 'gear', 'slippage', 'affective', 'computing', 'is', 'an', 'interdisciplinary', 'umbrella', 'that', 'comprises', 'systems', 'which', 'recognize', 'interpret', 'process', 'or', 'simulate', 'human', 'feeling', 'emotion', 'and', 'mood', 'for', 'example', 'some', 'virtual', 'assistants', 'are', 'programmed', 'to', 'speak', 'conversationally', 'or', 'even', 'to', 'banter', 'humorously', 'it', 'makes', 'them', 'appear', 'more', 'sensitive', 'to', 'the', 'emotional', 'dynamics', 'of', 'human', 'interaction', 'or', 'to', 'otherwise', 'facilitate', 'human', 'computer', 'interaction', 'however', 'this', 'tends', 'to', 'give', 'na', 've', 'users', 'an', 'unrealistic', 'conception', 'of', 'how', 'intelligent', 'existing', 'computer', 'agents', 'actually', 'are', 'moderate', 'successes', 'related', 'to', 'affective', 'computing', 'include', 'textual', 'sentiment', 'analysis', 'and', 'more', 'recently', 'multimodal', 'sentiment', 'analysis', 'wherein', 'ai', 'classifies', 'the', 'affects', 'displayed', 'by', 'a', 'videotaped', 'subject', 'a', 'machine', 'with', 'general', 'intelligence', 'can', 'solve', 'a', 'wide', 'variety', 'of', 'problems', 'with', 'a', 'breadth', 'and', 'versatility', 'similar', 'to', 'human', 'intelligence', 'there', 'are', 'several', 'competing', 'ideas', 'about', 'how', 'to', 'develop', 'artificial', 'general', 'intelligence', 'hans', 'moravec', 'and', 'marvin', 'minsky', 'argue', 'that', 'work', 'in', 'different', 'individual', 'domains', 'can', 'be', 'incorporated', 'into', 'an', 'advanced', 'multi', 'agent', 'system', 'or', 'cognitive', 'architecture', 'with', 'general', 'intelligence', 'pedro', 'domingos', 'hopes', 'that', 'there', 'is', 'a', 'conceptually', 'straightforward', 'but', 'mathematically', 'difficult', 'master', 'algorithm', 'that', 'could', 'lead', 'to', 'agi', 'others', 'believe', 'that', 'anthropomorphic', 'features', 'like', 'an', 'artificial', 'brain', 'or', 'simulated', 'child', 'development', 'm', 'will', 'someday', 'reach', 'a', 'critical', 'point', 'where', 'general', 'intelligence', 'emerges', 'many', 'problems', 'in', 'ai', 'can', 'be', 'solved', 'theoretically', 'by', 'intelligently', 'searching', 'through', 'many', 'possible', 'solutions', 'reasoning', 'can', 'be', 'reduced', 'to', 'performing', 'a', 'search', 'for', 'example', 'logical', 'proof', 'can', 'be', 'viewed', 'as', 'searching', 'for', 'a', 'path', 'that', 'leads', 'from', 'premises', 'to', 'conclusions', 'where', 'each', 'step', 'is', 'the', 'application', 'of', 'an', 'inference', 'rule', 'planning', 'algorithms', 'search', 'through', 'trees', 'of', 'goals', 'and', 'subgoals', 'attempting', 'to', 'find', 'a', 'path', 'to', 'a', 'target', 'goal', 'a', 'process', 'called', 'means', 'ends', 'analysis', 'robotics', 'algorithms', 'for', 'moving', 'limbs', 'and', 'grasping', 'objects', 'use', 'local', 'searches', 'in', 'configuration', 'space', 'simple', 'exhaustive', 'searches', 'are', 'rarely', 'sufficient', 'for', 'most', 'real', 'world', 'problems', 'the', 'search', 'space', 'the', 'number', 'of', 'places', 'to', 'search', 'quickly', 'grows', 'to', 'astronomical', 'numbers', 'the', 'result', 'is', 'a', 'search', 'that', 'is', 'too', 'slow', 'or', 'never', 'completes', 'the', 'solution', 'for', 'many', 'problems', 'is', 'to', 'use', 'heuristics', 'or', 'rules', 'of', 'thumb', 'that', 'prioritize', 'choices', 'in', 'favor', 'of', 'those', 'more', 'likely', 'to', 'reach', 'a', 'goal', 'and', 'to', 'do', 'so', 'in', 'a', 'shorter', 'number', 'of', 'steps', 'in', 'some', 'search', 'methodologies', 'heuristics', 'can', 'also', 'serve', 'to', 'eliminate', 'some', 'choices', 'unlikely', 'to', 'lead', 'to', 'a', 'goal', 'called', 'pruning', 'the', 'search', 'tree', 'heuristics', 'supply', 'the', 'program', 'with', 'a', 'best', 'guess', 'for', 'the', 'path', 'on', 'which', 'the', 'solution', 'lies', 'heuristics', 'limit', 'the', 'search', 'for', 'solutions', 'into', 'a', 'smaller', 'sample', 'size', 'a', 'very', 'different', 'kind', 'of', 'search', 'came', 'to', 'prominence', 'in', 'the', 's', 'based', 'on', 'the', 'mathematical', 'theory', 'of', 'optimization', 'for', 'many', 'problems', 'it', 'is', 'possible', 'to', 'begin', 'the', 'search', 'with', 'some', 'form', 'of', 'a', 'guess', 'and', 'then', 'refine', 'the', 'guess', 'incrementally', 'until', 'no', 'more', 'refinements', 'can', 'be', 'made', 'these', 'algorithms', 'can', 'be', 'visualized', 'as', 'blind', 'hill', 'climbing', 'we', 'begin', 'the', 'search', 'at', 'a', 'random', 'point', 'on', 'the', 'landscape', 'and', 'then', 'by', 'jumps', 'or', 'steps', 'we', 'keep', 'moving', 'our', 'guess', 'uphill', 'until', 'we', 'reach', 'the', 'top', 'other', 'optimization', 'algorithms', 'are', 'simulated', 'annealing', 'beam', 'search', 'and', 'random', 'optimization', 'evolutionary', 'computation', 'uses', 'a', 'form', 'of', 'optimization', 'search', 'for', 'example', 'they', 'may', 'begin', 'with', 'a', 'population', 'of', 'organisms', 'the', 'guesses', 'and', 'then', 'allow', 'them', 'to', 'mutate', 'and', 'recombine', 'selecting', 'only', 'the', 'fittest', 'to', 'survive', 'each', 'generation', 'refining', 'the', 'guesses', 'classic', 'evolutionary', 'algorithms', 'include', 'genetic', 'algorithms', 'gene', 'expression', 'programming', 'and', 'genetic', 'programming', 'alternatively', 'distributed', 'search', 'processes', 'can', 'coordinate', 'via', 'swarm', 'intelligence', 'algorithms', 'two', 'popular', 'swarm', 'algorithms', 'used', 'in', 'search', 'are', 'particle', 'swarm', 'optimization', 'inspired', 'by', 'bird', 'flocking', 'and', 'ant', 'colony', 'optimization', 'inspired', 'by', 'ant', 'trails', 'logic', 'is', 'used', 'for', 'knowledge', 'representation', 'and', 'problem', 'solving', 'but', 'it', 'can', 'be', 'applied', 'to', 'other', 'problems', 'as', 'well', 'for', 'example', 'the', 'satplan', 'algorithm', 'uses', 'logic', 'for', 'planning', 'and', 'inductive', 'logic', 'programming', 'is', 'a', 'method', 'for', 'learning', 'several', 'different', 'forms', 'of', 'logic', 'are', 'used', 'in', 'ai', 'research', 'propositional', 'logic', 'involves', 'truth', 'functions', 'such', 'as', 'or', 'and', 'not', 'first', 'order', 'logic', 'adds', 'quantifiers', 'and', 'predicates', 'and', 'can', 'express', 'facts', 'about', 'objects', 'their', 'properties', 'and', 'their', 'relations', 'with', 'each', 'other', 'fuzzy', 'logic', 'assigns', 'a', 'degree', 'of', 'truth', 'between', 'and', 'to', 'vague', 'statements', 'such', 'as', 'alice', 'is', 'old', 'or', 'rich', 'or', 'tall', 'or', 'hungry', 'that', 'are', 'too', 'linguistically', 'imprecise', 'to', 'be', 'completely', 'true', 'or', 'false', 'default', 'logics', 'non', 'monotonic', 'logics', 'and', 'circumscription', 'are', 'forms', 'of', 'logic', 'designed', 'to', 'help', 'with', 'default', 'reasoning', 'and', 'the', 'qualification', 'problem', 'several', 'extensions', 'of', 'logic', 'have', 'been', 'designed', 'to', 'handle', 'specific', 'domains', 'of', 'knowledge', 'such', 'as', 'description', 'logics', 'situation', 'calculus', 'event', 'calculus', 'and', 'fluent', 'calculus', 'for', 'representing', 'events', 'and', 'time', 'causal', 'calculus', 'belief', 'calculus', 'belief', 'revision', 'and', 'modal', 'logics', 'logics', 'to', 'model', 'contradictory', 'or', 'inconsistent', 'statements', 'arising', 'in', 'multi', 'agent', 'systems', 'have', 'also', 'been', 'designed', 'such', 'as', 'paraconsistent', 'logics', 'citation', 'needed', 'many', 'problems', 'in', 'ai', 'in', 'reasoning', 'planning', 'learning', 'perception', 'and', 'robotics', 'require', 'the', 'agent', 'to', 'operate', 'with', 'incomplete', 'or', 'uncertain', 'information', 'ai', 'researchers', 'have', 'devised', 'a', 'number', 'of', 'powerful', 'tools', 'to', 'solve', 'these', 'problems', 'using', 'methods', 'from', 'probability', 'theory', 'and', 'economics', 'bayesian', 'networks', 'are', 'a', 'very', 'general', 'tool', 'that', 'can', 'be', 'used', 'for', 'various', 'problems', 'reasoning', 'using', 'the', 'bayesian', 'inference', 'algorithm', 'n', 'learning', 'using', 'the', 'expectation', 'maximization', 'algorithm', 'o', 'planning', 'using', 'decision', 'networks', 'and', 'perception', 'using', 'dynamic', 'bayesian', 'networks', 'probabilistic', 'algorithms', 'can', 'also', 'be', 'used', 'for', 'filtering', 'prediction', 'smoothing', 'and', 'finding', 'explanations', 'for', 'streams', 'of', 'data', 'helping', 'perception', 'systems', 'to', 'analyze', 'processes', 'that', 'occur', 'over', 'time', 'e', 'g', 'hidden', 'markov', 'models', 'or', 'kalman', 'filters', 'a', 'key', 'concept', 'from', 'the', 'science', 'of', 'economics', 'is', 'utility', 'a', 'measure', 'of', 'how', 'valuable', 'something', 'is', 'to', 'an', 'intelligent', 'agent', 'precise', 'mathematical', 'tools', 'have', 'been', 'developed', 'that', 'analyze', 'how', 'an', 'agent', 'can', 'make', 'choices', 'and', 'plan', 'using', 'decision', 'theory', 'decision', 'analysis', 'and', 'information', 'value', 'theory', 'these', 'tools', 'include', 'models', 'such', 'as', 'markov', 'decision', 'processes', 'dynamic', 'decision', 'networks', 'game', 'theory', 'and', 'mechanism', 'design', 'the', 'simplest', 'ai', 'applications', 'can', 'be', 'divided', 'into', 'two', 'types', 'classifiers', 'if', 'shiny', 'then', 'diamond', 'and', 'controllers', 'if', 'diamond', 'then', 'pick', 'up', 'controllers', 'do', 'however', 'also', 'classify', 'conditions', 'before', 'inferring', 'actions', 'and', 'therefore', 'classification', 'forms', 'a', 'central', 'part', 'of', 'many', 'ai', 'systems', 'classifiers', 'are', 'functions', 'that', 'use', 'pattern', 'matching', 'to', 'determine', 'a', 'closest', 'match', 'they', 'can', 'be', 'tuned', 'according', 'to', 'examples', 'making', 'them', 'very', 'attractive', 'for', 'use', 'in', 'ai', 'these', 'examples', 'are', 'known', 'as', 'observations', 'or', 'patterns', 'in', 'supervised', 'learning', 'each', 'pattern', 'belongs', 'to', 'a', 'certain', 'predefined', 'class', 'a', 'class', 'is', 'a', 'decision', 'that', 'has', 'to', 'be', 'made', 'all', 'the', 'observations', 'combined', 'with', 'their', 'class', 'labels', 'are', 'known', 'as', 'a', 'data', 'set', 'when', 'a', 'new', 'observation', 'is', 'received', 'that', 'observation', 'is', 'classified', 'based', 'on', 'previous', 'experience', 'a', 'classifier', 'can', 'be', 'trained', 'in', 'various', 'ways', 'there', 'are', 'many', 'statistical', 'and', 'machine', 'learning', 'approaches', 'the', 'decision', 'tree', 'is', 'the', 'simplest', 'and', 'most', 'widely', 'used', 'symbolic', 'machine', 'learning', 'algorithm', 'k', 'nearest', 'neighbor', 'algorithm', 'was', 'the', 'most', 'widely', 'used', 'analogical', 'ai', 'until', 'the', 'mid', 's', 'kernel', 'methods', 'such', 'as', 'the', 'support', 'vector', 'machine', 'svm', 'displaced', 'k', 'nearest', 'neighbor', 'in', 'the', 's', 'the', 'naive', 'bayes', 'classifier', 'is', 'reportedly', 'the', 'most', 'widely', 'used', 'learner', 'at', 'google', 'due', 'in', 'part', 'to', 'its', 'scalability', 'neural', 'networks', 'are', 'also', 'used', 'for', 'classification', 'classifier', 'performance', 'depends', 'greatly', 'on', 'the', 'characteristics', 'of', 'the', 'data', 'to', 'be', 'classified', 'such', 'as', 'the', 'dataset', 'size', 'distribution', 'of', 'samples', 'across', 'classes', 'the', 'dimensionality', 'and', 'the', 'level', 'of', 'noise', 'model', 'based', 'classifiers', 'perform', 'well', 'if', 'the', 'assumed', 'model', 'is', 'an', 'extremely', 'good', 'fit', 'for', 'the', 'actual', 'data', 'otherwise', 'if', 'no', 'matching', 'model', 'is', 'available', 'and', 'if', 'accuracy', 'rather', 'than', 'speed', 'or', 'scalability', 'is', 'the', 'sole', 'concern', 'conventional', 'wisdom', 'is', 'that', 'discriminative', 'classifiers', 'especially', 'svm', 'tend', 'to', 'be', 'more', 'accurate', 'than', 'model', 'based', 'classifiers', 'such', 'as', 'naive', 'bayes', 'on', 'most', 'practical', 'data', 'sets', 'neural', 'networks', 'were', 'inspired', 'by', 'the', 'architecture', 'of', 'neurons', 'in', 'the', 'human', 'brain', 'a', 'simple', 'neuron', 'n', 'accepts', 'input', 'from', 'other', 'neurons', 'each', 'of', 'which', 'when', 'activated', 'or', 'fired', 'casts', 'a', 'weighted', 'vote', 'for', 'or', 'against', 'whether', 'neuron', 'n', 'should', 'itself', 'activate', 'learning', 'requires', 'an', 'algorithm', 'to', 'adjust', 'these', 'weights', 'based', 'on', 'the', 'training', 'data', 'one', 'simple', 'algorithm', 'dubbed', 'fire', 'together', 'wire', 'together', 'is', 'to', 'increase', 'the', 'weight', 'between', 'two', 'connected', 'neurons', 'when', 'the', 'activation', 'of', 'one', 'triggers', 'the', 'successful', 'activation', 'of', 'another', 'neurons', 'have', 'a', 'continuous', 'spectrum', 'of', 'activation', 'in', 'addition', 'neurons', 'can', 'process', 'inputs', 'in', 'a', 'nonlinear', 'way', 'rather', 'than', 'weighing', 'straightforward', 'votes', 'modern', 'neural', 'networks', 'model', 'complex', 'relationships', 'between', 'inputs', 'and', 'outputs', 'or', 'and', 'find', 'patterns', 'in', 'data', 'they', 'can', 'learn', 'continuous', 'functions', 'and', 'even', 'digital', 'logical', 'operations', 'neural', 'networks', 'can', 'be', 'viewed', 'a', 'type', 'of', 'mathematical', 'optimization', 'they', 'perform', 'a', 'gradient', 'descent', 'on', 'a', 'multi', 'dimensional', 'topology', 'that', 'was', 'created', 'by', 'training', 'the', 'network', 'the', 'most', 'common', 'training', 'technique', 'is', 'the', 'backpropagation', 'algorithm', 'other', 'learning', 'techniques', 'for', 'neural', 'networks', 'are', 'hebbian', 'learning', 'fire', 'together', 'wire', 'together', 'gmdh', 'or', 'competitive', 'learning', 'the', 'main', 'categories', 'of', 'networks', 'are', 'acyclic', 'or', 'feedforward', 'neural', 'networks', 'where', 'the', 'signal', 'passes', 'in', 'only', 'one', 'direction', 'and', 'recurrent', 'neural', 'networks', 'which', 'allow', 'feedback', 'and', 'short', 'term', 'memories', 'of', 'previous', 'input', 'events', 'among', 'the', 'most', 'popular', 'feedforward', 'networks', 'are', 'perceptrons', 'multi', 'layer', 'perceptrons', 'and', 'radial', 'basis', 'networks', 'deep', 'learning', 'uses', 'several', 'layers', 'of', 'neurons', 'between', 'the', 'network', 's', 'inputs', 'and', 'outputs', 'the', 'multiple', 'layers', 'can', 'progressively', 'extract', 'higher', 'level', 'features', 'from', 'the', 'raw', 'input', 'for', 'example', 'in', 'image', 'processing', 'lower', 'layers', 'may', 'identify', 'edges', 'while', 'higher', 'layers', 'may', 'identify', 'the', 'concepts', 'relevant', 'to', 'a', 'human', 'such', 'as', 'digits', 'or', 'letters', 'or', 'faces', 'deep', 'learning', 'has', 'drastically', 'improved', 'the', 'performance', 'of', 'programs', 'in', 'many', 'important', 'subfields', 'of', 'artificial', 'intelligence', 'including', 'computer', 'vision', 'speech', 'recognition', 'image', 'classification', 'and', 'others', 'deep', 'learning', 'often', 'uses', 'convolutional', 'neural', 'networks', 'for', 'many', 'or', 'all', 'of', 'its', 'layers', 'in', 'a', 'convolutional', 'layer', 'each', 'neuron', 'receives', 'input', 'from', 'only', 'a', 'restricted', 'area', 'of', 'the', 'previous', 'layer', 'called', 'the', 'neuron', 's', 'receptive', 'field', 'this', 'can', 'substantially', 'reduce', 'the', 'number', 'of', 'weighted', 'connections', 'between', 'neurons', 'and', 'creates', 'a', 'hierarchy', 'similar', 'to', 'the', 'organization', 'of', 'the', 'animal', 'visual', 'cortex', 'in', 'a', 'recurrent', 'neural', 'network', 'the', 'signal', 'will', 'propagate', 'through', 'a', 'layer', 'more', 'than', 'once', 'thus', 'an', 'rnn', 'is', 'an', 'example', 'of', 'deep', 'learning', 'rnns', 'can', 'be', 'trained', 'by', 'gradient', 'descent', 'however', 'long', 'term', 'gradients', 'which', 'are', 'back', 'propagated', 'can', 'vanish', 'that', 'is', 'they', 'can', 'tend', 'to', 'zero', 'or', 'explode', 'that', 'is', 'they', 'can', 'tend', 'to', 'infinity', 'known', 'as', 'the', 'vanishing', 'gradient', 'problem', 'the', 'long', 'short', 'term', 'memory', 'lstm', 'technique', 'can', 'prevent', 'this', 'in', 'most', 'cases', 'specialized', 'languages', 'for', 'artificial', 'intelligence', 'have', 'been', 'developed', 'such', 'as', 'lisp', 'prolog', 'tensorflow', 'and', 'many', 'others', 'hardware', 'developed', 'for', 'ai', 'includes', 'ai', 'accelerators', 'and', 'neuromorphic', 'computing', 'ai', 'is', 'relevant', 'to', 'any', 'intellectual', 'task', 'modern', 'artificial', 'intelligence', 'techniques', 'are', 'pervasive', 'and', 'are', 'too', 'numerous', 'to', 'list', 'here', 'frequently', 'when', 'a', 'technique', 'reaches', 'mainstream', 'use', 'it', 'is', 'no', 'longer', 'considered', 'artificial', 'intelligence', 'this', 'phenomenon', 'is', 'described', 'as', 'the', 'ai', 'effect', 'in', 'the', 's', 'ai', 'applications', 'were', 'at', 'the', 'heart', 'of', 'the', 'most', 'commercially', 'successful', 'areas', 'of', 'computing', 'and', 'have', 'become', 'a', 'ubiquitous', 'feature', 'of', 'daily', 'life', 'ai', 'is', 'used', 'in', 'search', 'engines', 'such', 'as', 'google', 'search', 'targeting', 'online', 'advertisements', 'non', 'primary', 'source', 'needed', 'recommendation', 'systems', 'offered', 'by', 'netflix', 'youtube', 'or', 'amazon', 'driving', 'internet', 'traffic', 'targeted', 'advertising', 'adsense', 'facebook', 'virtual', 'assistants', 'such', 'as', 'siri', 'or', 'alexa', 'autonomous', 'vehicles', 'including', 'drones', 'and', 'self', 'driving', 'cars', 'automatic', 'language', 'translation', 'microsoft', 'translator', 'google', 'translate', 'facial', 'recognition', 'apple', 's', 'face', 'id', 'or', 'microsoft', 's', 'deepface', 'image', 'labeling', 'used', 'by', 'facebook', 'apple', 's', 'iphoto', 'and', 'tiktok', 'and', 'spam', 'filtering', 'there', 'are', 'also', 'thousands', 'of', 'successful', 'ai', 'applications', 'used', 'to', 'solve', 'problems', 'for', 'specific', 'industries', 'or', 'institutions', 'a', 'few', 'examples', 'are', 'energy', 'storage', 'deepfakes', 'medical', 'diagnosis', 'military', 'logistics', 'or', 'supply', 'chain', 'management', 'game', 'playing', 'has', 'been', 'a', 'test', 'of', 'ai', 's', 'strength', 'since', 'the', 's', 'deep', 'blue', 'became', 'the', 'first', 'computer', 'chess', 'playing', 'system', 'to', 'beat', 'a', 'reigning', 'world', 'chess', 'champion', 'garry', 'kasparov', 'on', 'may', 'in', 'in', 'a', 'jeopardy', 'quiz', 'show', 'exhibition', 'match', 'ibm', 's', 'question', 'answering', 'system', 'watson', 'defeated', 'the', 'two', 'greatest', 'jeopardy', 'champions', 'brad', 'rutter', 'and', 'ken', 'jennings', 'by', 'a', 'significant', 'margin', 'in', 'march', 'alphago', 'won', 'out', 'of', 'games', 'of', 'go', 'in', 'a', 'match', 'with', 'go', 'champion', 'lee', 'sedol', 'becoming', 'the', 'first', 'computer', 'go', 'playing', 'system', 'to', 'beat', 'a', 'professional', 'go', 'player', 'without', 'handicaps', 'other', 'programs', 'handle', 'imperfect', 'information', 'games', 'such', 'as', 'for', 'poker', 'at', 'a', 'superhuman', 'level', 'pluribus', 'p', 'and', 'cepheus', 'deepmind', 'in', 'the', 's', 'developed', 'a', 'generalized', 'artificial', 'intelligence', 'that', 'could', 'learn', 'many', 'diverse', 'atari', 'games', 'on', 'its', 'own', 'by', 'natural', 'language', 'processing', 'systems', 'such', 'as', 'the', 'enormous', 'gpt', 'then', 'by', 'far', 'the', 'largest', 'artificial', 'neural', 'network', 'were', 'matching', 'human', 'performance', 'on', 'pre', 'existing', 'benchmarks', 'albeit', 'without', 'the', 'system', 'attaining', 'commonsense', 'understanding', 'of', 'the', 'contents', 'of', 'the', 'benchmarks', 'deepmind', 's', 'alphafold', 'demonstrated', 'the', 'ability', 'to', 'approximate', 'in', 'hours', 'rather', 'than', 'months', 'the', 'd', 'structure', 'of', 'a', 'protein', 'other', 'applications', 'predict', 'the', 'result', 'of', 'judicial', 'decisions', 'create', 'art', 'such', 'as', 'poetry', 'or', 'painting', 'and', 'prove', 'mathematical', 'theorems', 'alan', 'turing', 'wrote', 'in', 'i', 'propose', 'to', 'consider', 'the', 'question', 'can', 'machines', 'think', 'he', 'advised', 'changing', 'the', 'question', 'from', 'whether', 'a', 'machine', 'thinks', 'to', 'whether', 'or', 'not', 'it', 'is', 'possible', 'for', 'machinery', 'to', 'show', 'intelligent', 'behaviour', 'the', 'only', 'thing', 'visible', 'is', 'the', 'behavior', 'of', 'the', 'machine', 'so', 'it', 'does', 'not', 'matter', 'if', 'the', 'machine', 'is', 'conscious', 'or', 'has', 'a', 'mind', 'or', 'whether', 'the', 'intelligence', 'is', 'merely', 'a', 'simulation', 'and', 'not', 'the', 'real', 'thing', 'he', 'noted', 'that', 'we', 'also', 'don', 't', 'know', 'these', 'things', 'about', 'other', 'people', 'but', 'that', 'we', 'extend', 'a', 'polite', 'convention', 'that', 'they', 'are', 'actually', 'thinking', 'this', 'idea', 'forms', 'the', 'basis', 'of', 'the', 'turing', 'test', 'q', 'ai', 'founder', 'john', 'mccarthy', 'said', 'artificial', 'intelligence', 'is', 'not', 'by', 'definition', 'simulation', 'of', 'human', 'intelligence', 'russell', 'and', 'norvig', 'agree', 'and', 'criticize', 'the', 'turing', 'test', 'they', 'wrote', 'aeronautical', 'engineering', 'texts', 'do', 'not', 'define', 'the', 'goal', 'of', 'their', 'field', 'as', 'making', 'machines', 'that', 'fly', 'so', 'exactly', 'like', 'pigeons', 'that', 'they', 'can', 'fool', 'other', 'pigeons', 'other', 'researchers', 'and', 'analysts', 'disagree', 'and', 'have', 'argued', 'that', 'ai', 'should', 'simulate', 'natural', 'intelligence', 'by', 'studying', 'psychology', 'or', 'neurobiology', 'r', 'the', 'intelligent', 'agent', 'paradigm', 'defines', 'intelligent', 'behavior', 'in', 'general', 'without', 'reference', 'to', 'human', 'beings', 'an', 'intelligent', 'agent', 'is', 'a', 'system', 'that', 'perceives', 'its', 'environment', 'and', 'takes', 'actions', 'that', 'maximize', 'its', 'chances', 'of', 'success', 'any', 'system', 'that', 'has', 'goal', 'directed', 'behavior', 'can', 'be', 'analyzed', 'as', 'an', 'intelligent', 'agent', 'something', 'as', 'simple', 'as', 'a', 'thermostat', 'as', 'complex', 'as', 'a', 'human', 'being', 'as', 'well', 'as', 'large', 'systems', 'such', 'as', 'firms', 'biomes', 'or', 'nations', 'the', 'intelligent', 'agent', 'paradigm', 'became', 'widely', 'accepted', 'during', 'the', 's', 'and', 'currently', 'serves', 'as', 'the', 'definition', 'of', 'the', 'field', 'a', 'the', 'paradigm', 'has', 'other', 'advantages', 'for', 'ai', 'it', 'provides', 'a', 'reliable', 'and', 'scientific', 'way', 'to', 'test', 'programs', 'researchers', 'can', 'directly', 'compare', 'or', 'even', 'combine', 'different', 'approaches', 'to', 'isolated', 'problems', 'by', 'asking', 'which', 'agent', 'is', 'best', 'at', 'maximizing', 'a', 'given', 'goal', 'function', 'it', 'also', 'gives', 'them', 'a', 'common', 'language', 'to', 'communicate', 'with', 'other', 'fields', 'such', 'as', 'mathematical', 'optimization', 'which', 'is', 'defined', 'in', 'terms', 'of', 'goals', 'or', 'economics', 'which', 'uses', 'the', 'same', 'definition', 'of', 'a', 'rational', 'agent', 'no', 'established', 'unifying', 'theory', 'or', 'paradigm', 'has', 'guided', 'ai', 'research', 'for', 'most', 'of', 'its', 'history', 's', 'the', 'unprecedented', 'success', 'of', 'statistical', 'machine', 'learning', 'in', 'the', 's', 'eclipsed', 'all', 'other', 'approaches', 'so', 'much', 'so', 'that', 'some', 'sources', 'especially', 'in', 'the', 'business', 'world', 'use', 'the', 'term', 'artificial', 'intelligence', 'to', 'mean', 'machine', 'learning', 'with', 'neural', 'networks', 'this', 'approach', 'is', 'mostly', 'sub', 'symbolic', 'neat', 'soft', 'and', 'narrow', 'see', 'below', 'critics', 'argue', 'that', 'these', 'questions', 'may', 'have', 'to', 'be', 'revisited', 'by', 'future', 'generations', 'of', 'ai', 'researchers', 'symbolic', 'ai', 'or', 'gofai', 'simulated', 'the', 'high', 'level', 'conscious', 'reasoning', 'that', 'people', 'use', 'when', 'they', 'solve', 'puzzles', 'express', 'legal', 'reasoning', 'and', 'do', 'mathematics', 'they', 'were', 'highly', 'successful', 'at', 'intelligent', 'tasks', 'such', 'as', 'algebra', 'or', 'iq', 'tests', 'in', 'the', 's', 'newell', 'and', 'simon', 'proposed', 'the', 'physical', 'symbol', 'systems', 'hypothesis', 'a', 'physical', 'symbol', 'system', 'has', 'the', 'necessary', 'and', 'sufficient', 'means', 'of', 'general', 'intelligent', 'action', 'however', 'the', 'symbolic', 'approach', 'failed', 'dismally', 'on', 'many', 'tasks', 'that', 'humans', 'solve', 'easily', 'such', 'as', 'learning', 'recognizing', 'an', 'object', 'or', 'commonsense', 'reasoning', 'moravec', 's', 'paradox', 'is', 'the', 'discovery', 'that', 'high', 'level', 'intelligent', 'tasks', 'were', 'easy', 'for', 'ai', 'but', 'low', 'level', 'instinctive', 'tasks', 'were', 'extremely', 'difficult', 'philosopher', 'hubert', 'dreyfus', 'had', 'argued', 'since', 'the', 's', 'that', 'human', 'expertise', 'depends', 'on', 'unconscious', 'instinct', 'rather', 'than', 'conscious', 'symbol', 'manipulation', 'and', 'on', 'having', 'a', 'feel', 'for', 'the', 'situation', 'rather', 'than', 'explicit', 'symbolic', 'knowledge', 'although', 'his', 'arguments', 'had', 'been', 'ridiculed', 'and', 'ignored', 'when', 'they', 'were', 'first', 'presented', 'eventually', 'ai', 'research', 'came', 'to', 'agree', 't', 'the', 'issue', 'is', 'not', 'resolved', 'sub', 'symbolic', 'reasoning', 'can', 'make', 'many', 'of', 'the', 'same', 'inscrutable', 'mistakes', 'that', 'human', 'intuition', 'does', 'such', 'as', 'algorithmic', 'bias', 'critics', 'such', 'noam', 'chomsky', 'argue', 'continuing', 'research', 'into', 'symbolic', 'ai', 'will', 'still', 'be', 'necessary', 'to', 'attain', 'general', 'intelligence', 'in', 'part', 'because', 'sub', 'symbolic', 'ai', 'is', 'a', 'move', 'away', 'from', 'explainable', 'ai', 'it', 'can', 'be', 'difficult', 'or', 'impossible', 'to', 'understand', 'why', 'a', 'modern', 'statistical', 'ai', 'program', 'made', 'a', 'particular', 'decision', 'neats', 'hope', 'that', 'intelligent', 'behavior', 'be', 'described', 'using', 'simple', 'elegant', 'principles', 'such', 'as', 'logic', 'optimization', 'or', 'neural', 'networks', 'scruffies', 'expect', 'that', 'it', 'necessarily', 'requires', 'solving', 'a', 'large', 'number', 'of', 'unrelated', 'problems', 'this', 'issue', 'was', 'actively', 'discussed', 'in', 'the', 's', 'and', 's', 'but', 'in', 'the', 's', 'mathematical', 'methods', 'and', 'solid', 'scientific', 'standards', 'became', 'the', 'norm', 'a', 'transition', 'that', 'russell', 'and', 'norvig', 'termed', 'the', 'victory', 'of', 'the', 'neats', 'finding', 'a', 'provably', 'correct', 'or', 'optimal', 'solution', 'is', 'intractable', 'for', 'many', 'important', 'problems', 'soft', 'computing', 'is', 'a', 'set', 'of', 'techniques', 'including', 'genetic', 'algorithms', 'fuzzy', 'logic', 'and', 'neural', 'networks', 'that', 'are', 'tolerant', 'of', 'imprecision', 'uncertainty', 'partial', 'truth', 'and', 'approximation', 'soft', 'computing', 'was', 'introduced', 'in', 'the', 'late', 's', 'and', 'most', 'successful', 'ai', 'programs', 'in', 'the', 'st', 'century', 'are', 'examples', 'of', 'soft', 'computing', 'with', 'neural', 'networks', 'ai', 'researchers', 'are', 'divided', 'as', 'to', 'whether', 'to', 'pursue', 'the', 'goals', 'of', 'artificial', 'general', 'intelligence', 'and', 'superintelligence', 'general', 'ai', 'directly', 'or', 'to', 'solve', 'as', 'many', 'specific', 'problems', 'as', 'possible', 'narrow', 'ai', 'in', 'hopes', 'these', 'solutions', 'will', 'lead', 'indirectly', 'to', 'the', 'field', 's', 'long', 'term', 'goals', 'general', 'intelligence', 'is', 'difficult', 'to', 'define', 'and', 'difficult', 'to', 'measure', 'and', 'modern', 'ai', 'has', 'had', 'more', 'verifiable', 'successes', 'by', 'focussing', 'on', 'specific', 'problems', 'with', 'specific', 'solutions', 'the', 'experimental', 'sub', 'field', 'of', 'artificial', 'general', 'intelligence', 'studies', 'this', 'area', 'exclusively', 'the', 'philosophy', 'of', 'mind', 'does', 'not', 'know', 'whether', 'a', 'machine', 'can', 'have', 'a', 'mind', 'consciousness', 'and', 'mental', 'states', 'in', 'the', 'same', 'sense', 'that', 'human', 'beings', 'do', 'this', 'issue', 'considers', 'the', 'internal', 'experiences', 'of', 'the', 'machine', 'rather', 'than', 'its', 'external', 'behavior', 'mainstream', 'ai', 'research', 'considers', 'this', 'issue', 'irrelevant', 'because', 'it', 'does', 'not', 'effect', 'the', 'goals', 'of', 'the', 'field', 'stuart', 'russell', 'and', 'peter', 'norvig', 'observe', 'that', 'most', 'ai', 'researchers', 'don', 't', 'care', 'about', 'the', 'philosophy', 'of', 'ai', 'as', 'long', 'as', 'the', 'program', 'works', 'they', 'don', 't', 'care', 'whether', 'you', 'call', 'it', 'a', 'simulation', 'of', 'intelligence', 'or', 'real', 'intelligence', 'however', 'the', 'question', 'has', 'become', 'central', 'to', 'the', 'philosophy', 'of', 'mind', 'it', 'is', 'also', 'typically', 'the', 'central', 'question', 'at', 'issue', 'in', 'artificial', 'intelligence', 'in', 'fiction', 'david', 'chalmers', 'identified', 'two', 'problems', 'in', 'understanding', 'the', 'mind', 'which', 'he', 'named', 'the', 'hard', 'and', 'easy', 'problems', 'of', 'consciousness', 'the', 'easy', 'problem', 'is', 'understanding', 'how', 'the', 'brain', 'processes', 'signals', 'makes', 'plans', 'and', 'controls', 'behavior', 'the', 'hard', 'problem', 'is', 'explaining', 'how', 'this', 'feels', 'or', 'why', 'it', 'should', 'feel', 'like', 'anything', 'at', 'all', 'human', 'information', 'processing', 'is', 'easy', 'to', 'explain', 'however', 'human', 'subjective', 'experience', 'is', 'difficult', 'to', 'explain', 'for', 'example', 'it', 'is', 'easy', 'to', 'imagine', 'a', 'color', 'blind', 'person', 'who', 'has', 'learned', 'to', 'identify', 'which', 'objects', 'in', 'their', 'field', 'of', 'view', 'are', 'red', 'but', 'it', 'is', 'not', 'clear', 'what', 'would', 'be', 'required', 'for', 'the', 'person', 'to', 'know', 'what', 'red', 'looks', 'like', 'computationalism', 'is', 'the', 'position', 'in', 'the', 'philosophy', 'of', 'mind', 'that', 'the', 'human', 'mind', 'is', 'an', 'information', 'processing', 'system', 'and', 'that', 'thinking', 'is', 'a', 'form', 'of', 'computing', 'computationalism', 'argues', 'that', 'the', 'relationship', 'between', 'mind', 'and', 'body', 'is', 'similar', 'or', 'identical', 'to', 'the', 'relationship', 'between', 'software', 'and', 'hardware', 'and', 'thus', 'may', 'be', 'a', 'solution', 'to', 'the', 'mind', 'body', 'problem', 'this', 'philosophical', 'position', 'was', 'inspired', 'by', 'the', 'work', 'of', 'ai', 'researchers', 'and', 'cognitive', 'scientists', 'in', 'the', 's', 'and', 'was', 'originally', 'proposed', 'by', 'philosophers', 'jerry', 'fodor', 'and', 'hilary', 'putnam', 'philosopher', 'john', 'searle', 'characterized', 'this', 'position', 'as', 'strong', 'ai', 'the', 'appropriately', 'programmed', 'computer', 'with', 'the', 'right', 'inputs', 'and', 'outputs', 'would', 'thereby', 'have', 'a', 'mind', 'in', 'exactly', 'the', 'same', 'sense', 'human', 'beings', 'have', 'minds', 'u', 'searle', 'counters', 'this', 'assertion', 'with', 'his', 'chinese', 'room', 'argument', 'which', 'attempts', 'to', 'show', 'that', 'even', 'if', 'a', 'machine', 'perfectly', 'simulates', 'human', 'behavior', 'there', 'is', 'still', 'no', 'reason', 'to', 'suppose', 'it', 'also', 'has', 'a', 'mind', 'if', 'a', 'machine', 'has', 'a', 'mind', 'and', 'subjective', 'experience', 'then', 'it', 'may', 'also', 'have', 'sentience', 'the', 'ability', 'to', 'feel', 'and', 'if', 'so', 'then', 'it', 'could', 'also', 'suffer', 'and', 'thus', 'it', 'would', 'be', 'entitled', 'to', 'certain', 'rights', 'any', 'hypothetical', 'robot', 'rights', 'would', 'lie', 'on', 'a', 'spectrum', 'with', 'animal', 'rights', 'and', 'human', 'rights', 'this', 'issue', 'has', 'been', 'considered', 'in', 'fiction', 'for', 'centuries', 'and', 'is', 'now', 'being', 'considered', 'by', 'for', 'example', 'california', 's', 'institute', 'for', 'the', 'future', 'however', 'critics', 'argue', 'that', 'the', 'discussion', 'is', 'premature', 'a', 'superintelligence', 'hyperintelligence', 'or', 'superhuman', 'intelligence', 'is', 'a', 'hypothetical', 'agent', 'that', 'would', 'possess', 'intelligence', 'far', 'surpassing', 'that', 'of', 'the', 'brightest', 'and', 'most', 'gifted', 'human', 'mind', 'superintelligence', 'may', 'also', 'refer', 'to', 'the', 'form', 'or', 'degree', 'of', 'intelligence', 'possessed', 'by', 'such', 'an', 'agent', 'if', 'research', 'into', 'artificial', 'general', 'intelligence', 'produced', 'sufficiently', 'intelligent', 'software', 'it', 'might', 'be', 'able', 'to', 'reprogram', 'and', 'improve', 'itself', 'the', 'improved', 'software', 'would', 'be', 'even', 'better', 'at', 'improving', 'itself', 'leading', 'to', 'recursive', 'self', 'improvement', 'its', 'intelligence', 'would', 'increase', 'exponentially', 'in', 'an', 'intelligence', 'explosion', 'and', 'could', 'dramatically', 'surpass', 'humans', 'science', 'fiction', 'writer', 'vernor', 'vinge', 'named', 'this', 'scenario', 'the', 'singularity', 'because', 'it', 'is', 'difficult', 'or', 'impossible', 'to', 'know', 'the', 'limits', 'of', 'intelligence', 'or', 'the', 'capabilities', 'of', 'superintelligent', 'machines', 'the', 'technological', 'singularity', 'is', 'an', 'occurrence', 'beyond', 'which', 'events', 'are', 'unpredictable', 'or', 'even', 'unfathomable', 'robot', 'designer', 'hans', 'moravec', 'cyberneticist', 'kevin', 'warwick', 'and', 'inventor', 'ray', 'kurzweil', 'have', 'predicted', 'that', 'humans', 'and', 'machines', 'will', 'merge', 'in', 'the', 'future', 'into', 'cyborgs', 'that', 'are', 'more', 'capable', 'and', 'powerful', 'than', 'either', 'this', 'idea', 'called', 'transhumanism', 'has', 'roots', 'in', 'aldous', 'huxley', 'and', 'robert', 'ettinger', 'edward', 'fredkin', 'argues', 'that', 'artificial', 'intelligence', 'is', 'the', 'next', 'stage', 'in', 'evolution', 'an', 'idea', 'first', 'proposed', 'by', 'samuel', 'butler', 's', 'darwin', 'among', 'the', 'machines', 'as', 'far', 'back', 'as', 'and', 'expanded', 'upon', 'by', 'george', 'dyson', 'in', 'his', 'book', 'of', 'the', 'same', 'name', 'in', 'in', 'the', 'past', 'technology', 'has', 'tended', 'to', 'increase', 'rather', 'than', 'reduce', 'total', 'employment', 'but', 'economists', 'acknowledge', 'that', 'we', 're', 'in', 'uncharted', 'territory', 'with', 'ai', 'a', 'survey', 'of', 'economists', 'showed', 'disagreement', 'about', 'whether', 'the', 'increasing', 'use', 'of', 'robots', 'and', 'ai', 'will', 'cause', 'a', 'substantial', 'increase', 'in', 'long', 'term', 'unemployment', 'but', 'they', 'generally', 'agree', 'that', 'it', 'could', 'be', 'a', 'net', 'benefit', 'if', 'productivity', 'gains', 'are', 'redistributed', 'subjective', 'estimates', 'of', 'the', 'risk', 'vary', 'widely', 'for', 'example', 'michael', 'osborne', 'and', 'carl', 'benedikt', 'frey', 'estimate', 'of', 'u', 's', 'jobs', 'are', 'at', 'high', 'risk', 'of', 'potential', 'automation', 'while', 'an', 'oecd', 'report', 'classifies', 'only', 'of', 'u', 's', 'jobs', 'as', 'high', 'risk', 'v', 'unlike', 'previous', 'waves', 'of', 'automation', 'many', 'middle', 'class', 'jobs', 'may', 'be', 'eliminated', 'by', 'artificial', 'intelligence', 'the', 'economist', 'states', 'that', 'the', 'worry', 'that', 'ai', 'could', 'do', 'to', 'white', 'collar', 'jobs', 'what', 'steam', 'power', 'did', 'to', 'blue', 'collar', 'ones', 'during', 'the', 'industrial', 'revolution', 'is', 'worth', 'taking', 'seriously', 'jobs', 'at', 'extreme', 'risk', 'range', 'from', 'paralegals', 'to', 'fast', 'food', 'cooks', 'while', 'job', 'demand', 'is', 'likely', 'to', 'increase', 'for', 'care', 'related', 'professions', 'ranging', 'from', 'personal', 'healthcare', 'to', 'the', 'clergy', 'ai', 'provides', 'a', 'number', 'of', 'tools', 'that', 'are', 'particularly', 'useful', 'for', 'authoritarian', 'governments', 'smart', 'spyware', 'face', 'recognition', 'and', 'voice', 'recognition', 'allow', 'widespread', 'surveillance', 'such', 'surveillance', 'allows', 'machine', 'learning', 'to', 'classify', 'potential', 'enemies', 'of', 'the', 'state', 'and', 'can', 'prevent', 'them', 'from', 'hiding', 'recommendation', 'systems', 'can', 'precisely', 'target', 'propaganda', 'and', 'misinformation', 'for', 'maximum', 'effect', 'deepfakes', 'aid', 'in', 'producing', 'misinformation', 'advanced', 'ai', 'can', 'make', 'centralized', 'decision', 'making', 'more', 'competitive', 'with', 'liberal', 'and', 'decentralized', 'systems', 'such', 'as', 'markets', 'terrorists', 'criminals', 'and', 'rogue', 'states', 'may', 'use', 'other', 'forms', 'of', 'weaponized', 'ai', 'such', 'as', 'advanced', 'digital', 'warfare', 'and', 'lethal', 'autonomous', 'weapons', 'by', 'over', 'fifty', 'countries', 'were', 'reported', 'to', 'be', 'researching', 'battlefield', 'robots', 'ai', 'programs', 'can', 'become', 'biased', 'after', 'learning', 'from', 'real', 'world', 'data', 'it', 'is', 'not', 'typically', 'introduced', 'by', 'the', 'system', 'designers', 'but', 'is', 'learned', 'by', 'the', 'program', 'and', 'thus', 'the', 'programmers', 'are', 'often', 'unaware', 'that', 'the', 'bias', 'exists', 'bias', 'can', 'be', 'inadvertently', 'introduced', 'by', 'the', 'way', 'training', 'data', 'is', 'selected', 'it', 'can', 'also', 'emerge', 'from', 'correlations', 'ai', 'is', 'used', 'to', 'classify', 'individuals', 'into', 'groups', 'and', 'then', 'make', 'predictions', 'assuming', 'that', 'the', 'individual', 'will', 'resemble', 'other', 'members', 'of', 'the', 'group', 'in', 'some', 'cases', 'this', 'assumption', 'may', 'be', 'unfair', 'an', 'example', 'of', 'this', 'is', 'compas', 'a', 'commercial', 'program', 'widely', 'used', 'by', 'u', 's', 'courts', 'to', 'assess', 'the', 'likelihood', 'of', 'a', 'defendant', 'becoming', 'a', 'recidivist', 'propublica', 'claims', 'that', 'the', 'compas', 'assigned', 'recidivism', 'risk', 'level', 'of', 'black', 'defendants', 'is', 'far', 'more', 'likely', 'to', 'be', 'an', 'overestimate', 'than', 'that', 'of', 'white', 'defendants', 'despite', 'the', 'fact', 'that', 'the', 'program', 'was', 'not', 'told', 'the', 'races', 'of', 'the', 'defendants', 'other', 'examples', 'where', 'algorithmic', 'bias', 'can', 'lead', 'to', 'unfair', 'outcomes', 'are', 'when', 'ai', 'is', 'used', 'for', 'credit', 'rating', 'or', 'hiring', 'superintelligent', 'ai', 'may', 'be', 'able', 'to', 'improve', 'itself', 'to', 'the', 'point', 'that', 'humans', 'could', 'not', 'control', 'it', 'this', 'could', 'as', 'physicist', 'stephen', 'hawking', 'puts', 'it', 'spell', 'the', 'end', 'of', 'the', 'human', 'race', 'philosopher', 'nick', 'bostrom', 'argues', 'that', 'sufficiently', 'intelligent', 'ai', 'if', 'it', 'chooses', 'actions', 'based', 'on', 'achieving', 'some', 'goal', 'will', 'exhibit', 'convergent', 'behavior', 'such', 'as', 'acquiring', 'resources', 'or', 'protecting', 'itself', 'from', 'being', 'shut', 'down', 'if', 'this', 'ai', 's', 'goals', 'do', 'not', 'fully', 'reflect', 'humanity', 's', 'it', 'might', 'need', 'to', 'harm', 'humanity', 'to', 'acquire', 'more', 'resources', 'or', 'prevent', 'itself', 'from', 'being', 'shut', 'down', 'ultimately', 'to', 'better', 'achieve', 'its', 'goal', 'he', 'concludes', 'that', 'ai', 'poses', 'a', 'risk', 'to', 'mankind', 'however', 'humble', 'or', 'friendly', 'its', 'stated', 'goals', 'might', 'be', 'political', 'scientist', 'charles', 't', 'rubin', 'argues', 'that', 'any', 'sufficiently', 'advanced', 'benevolence', 'may', 'be', 'indistinguishable', 'from', 'malevolence', 'humans', 'should', 'not', 'assume', 'machines', 'or', 'robots', 'would', 'treat', 'us', 'favorably', 'because', 'there', 'is', 'no', 'a', 'priori', 'reason', 'to', 'believe', 'that', 'they', 'would', 'share', 'our', 'system', 'of', 'morality', 'the', 'opinion', 'of', 'experts', 'and', 'industry', 'insiders', 'is', 'mixed', 'with', 'sizable', 'fractions', 'both', 'concerned', 'and', 'unconcerned', 'by', 'risk', 'from', 'eventual', 'superhumanly', 'capable', 'ai', 'stephen', 'hawking', 'microsoft', 'founder', 'bill', 'gates', 'history', 'professor', 'yuval', 'noah', 'harari', 'and', 'spacex', 'founder', 'elon', 'musk', 'have', 'all', 'expressed', 'serious', 'misgivings', 'about', 'the', 'future', 'of', 'ai', 'prominent', 'tech', 'titans', 'including', 'peter', 'thiel', 'amazon', 'web', 'services', 'and', 'musk', 'have', 'committed', 'more', 'than', 'billion', 'to', 'nonprofit', 'companies', 'that', 'champion', 'responsible', 'ai', 'development', 'such', 'as', 'openai', 'and', 'the', 'future', 'of', 'life', 'institute', 'mark', 'zuckerberg', 'ceo', 'facebook', 'has', 'said', 'that', 'artificial', 'intelligence', 'is', 'helpful', 'in', 'its', 'current', 'form', 'and', 'will', 'continue', 'to', 'assist', 'humans', 'other', 'experts', 'argue', 'is', 'that', 'the', 'risks', 'are', 'far', 'enough', 'in', 'the', 'future', 'to', 'not', 'be', 'worth', 'researching', 'or', 'that', 'humans', 'will', 'be', 'valuable', 'from', 'the', 'perspective', 'of', 'a', 'superintelligent', 'machine', 'rodney', 'brooks', 'in', 'particular', 'has', 'said', 'that', 'malevolent', 'ai', 'is', 'still', 'centuries', 'away', 'w', 'friendly', 'ai', 'are', 'machines', 'that', 'have', 'been', 'designed', 'from', 'the', 'beginning', 'to', 'minimize', 'risks', 'and', 'to', 'make', 'choices', 'that', 'benefit', 'humans', 'eliezer', 'yudkowsky', 'who', 'coined', 'the', 'term', 'argues', 'that', 'developing', 'friendly', 'ai', 'should', 'be', 'a', 'higher', 'research', 'priority', 'it', 'may', 'require', 'a', 'large', 'investment', 'and', 'it', 'must', 'be', 'completed', 'before', 'ai', 'becomes', 'an', 'existential', 'risk', 'machines', 'with', 'intelligence', 'have', 'the', 'potential', 'to', 'use', 'their', 'intelligence', 'to', 'make', 'ethical', 'decisions', 'the', 'field', 'of', 'machine', 'ethics', 'provides', 'machines', 'with', 'ethical', 'principles', 'and', 'procedures', 'for', 'resolving', 'ethical', 'dilemmas', 'machine', 'ethics', 'is', 'also', 'called', 'machine', 'morality', 'computational', 'ethics', 'or', 'computational', 'morality', 'and', 'was', 'founded', 'at', 'an', 'aaai', 'symposium', 'in', 'others', 'approaches', 'include', 'wendell', 'wallach', 's', 'artificial', 'moral', 'agents', 'and', 'stuart', 'j', 'russell', 's', 'three', 'principles', 'for', 'developing', 'provably', 'beneficial', 'machines', 'the', 'regulation', 'of', 'artificial', 'intelligence', 'is', 'the', 'development', 'of', 'public', 'sector', 'policies', 'and', 'laws', 'for', 'promoting', 'and', 'regulating', 'artificial', 'intelligence', 'ai', 'it', 'is', 'therefore', 'related', 'to', 'the', 'broader', 'regulation', 'of', 'algorithms', 'the', 'regulatory', 'and', 'policy', 'landscape', 'for', 'ai', 'is', 'an', 'emerging', 'issue', 'in', 'jurisdictions', 'globally', 'between', 'and', 'more', 'than', 'countries', 'adopted', 'dedicated', 'strategies', 'for', 'ai', 'most', 'eu', 'member', 'states', 'had', 'released', 'national', 'ai', 'strategies', 'as', 'had', 'canada', 'china', 'india', 'japan', 'mauritius', 'the', 'russian', 'federation', 'saudi', 'arabia', 'united', 'arab', 'emirates', 'usa', 'and', 'vietnam', 'others', 'were', 'in', 'the', 'process', 'of', 'elaborating', 'their', 'own', 'ai', 'strategy', 'including', 'bangladesh', 'malaysia', 'and', 'tunisia', 'the', 'global', 'partnership', 'on', 'artificial', 'intelligence', 'was', 'launched', 'in', 'june', 'stating', 'a', 'need', 'for', 'ai', 'to', 'be', 'developed', 'in', 'accordance', 'with', 'human', 'rights', 'and', 'democratic', 'values', 'to', 'ensure', 'public', 'confidence', 'and', 'trust', 'in', 'the', 'technology', 'henry', 'kissinger', 'eric', 'schmidt', 'and', 'daniel', 'huttenlocher', 'published', 'an', 'joint', 'statement', 'in', 'november', 'calling', 'for', 'a', 'government', 'commission', 'to', 'regulate', 'ai', 'thought', 'capable', 'artificial', 'beings', 'have', 'appeared', 'as', 'storytelling', 'devices', 'since', 'antiquity', 'and', 'have', 'been', 'a', 'persistent', 'theme', 'in', 'science', 'fiction', 'a', 'common', 'trope', 'in', 'these', 'works', 'began', 'with', 'mary', 'shelley', 's', 'frankenstein', 'where', 'a', 'human', 'creation', 'becomes', 'a', 'threat', 'to', 'its', 'masters', 'this', 'includes', 'such', 'works', 'as', 'arthur', 'c', 'clarke', 's', 'and', 'stanley', 'kubrick', 's', 'a', 'space', 'odyssey', 'both', 'with', 'hal', 'the', 'murderous', 'computer', 'in', 'charge', 'of', 'the', 'discovery', 'one', 'spaceship', 'as', 'well', 'as', 'the', 'terminator', 'and', 'the', 'matrix', 'in', 'contrast', 'the', 'rare', 'loyal', 'robots', 'such', 'as', 'gort', 'from', 'the', 'day', 'the', 'earth', 'stood', 'still', 'and', 'bishop', 'from', 'aliens', 'are', 'less', 'prominent', 'in', 'popular', 'culture', 'isaac', 'asimov', 'introduced', 'the', 'three', 'laws', 'of', 'robotics', 'in', 'many', 'books', 'and', 'stories', 'most', 'notably', 'the', 'multivac', 'series', 'about', 'a', 'super', 'intelligent', 'computer', 'of', 'the', 'same', 'name', 'asimov', 's', 'laws', 'are', 'often', 'brought', 'up', 'during', 'lay', 'discussions', 'of', 'machine', 'ethics', 'while', 'almost', 'all', 'artificial', 'intelligence', 'researchers', 'are', 'familiar', 'with', 'asimov', 's', 'laws', 'through', 'popular', 'culture', 'they', 'generally', 'consider', 'the', 'laws', 'useless', 'for', 'many', 'reasons', 'one', 'of', 'which', 'is', 'their', 'ambiguity', 'transhumanism', 'the', 'merging', 'of', 'humans', 'and', 'machines', 'is', 'explored', 'in', 'the', 'manga', 'ghost', 'in', 'the', 'shell', 'and', 'the', 'science', 'fiction', 'series', 'dune', 'several', 'works', 'use', 'ai', 'to', 'force', 'us', 'to', 'confront', 'the', 'fundamental', 'question', 'of', 'what', 'makes', 'us', 'human', 'showing', 'us', 'artificial', 'beings', 'that', 'have', 'the', 'ability', 'to', 'feel', 'and', 'thus', 'to', 'suffer', 'this', 'appears', 'in', 'karel', 'apek', 's', 'r', 'u', 'r', 'the', 'films', 'a', 'i', 'artificial', 'intelligence', 'and', 'ex', 'machina', 'as', 'well', 'as', 'the', 'novel', 'do', 'androids', 'dream', 'of', 'electric', 'sheep', 'by', 'philip', 'k', 'dick', 'dick', 'considers', 'the', 'idea', 'that', 'our', 'understanding', 'of', 'human', 'subjectivity', 'is', 'altered', 'by', 'technology', 'created', 'with', 'artificial', 'intelligence', 'these', 'were', 'the', 'four', 'the', 'most', 'widely', 'used', 'ai', 'textbooks', 'in', 'later', 'editions', 'the', 'two', 'most', 'widely', 'used', 'textbooks', 'in', 'see', 'also', 'logic', 'machines', 'in', 'fiction', 'and', 'list', 'of', 'fictional', 'computers']]\n"
     ]
    }
   ],
   "source": [
    "print(all_words[:100])"
   ]
  },
  {
   "cell_type": "code",
   "execution_count": 35,
   "id": "a61f2f2f",
   "metadata": {},
   "outputs": [],
   "source": [
    "# Removing Stop Words\n",
    "from nltk.corpus import stopwords"
   ]
  },
  {
   "cell_type": "code",
   "execution_count": 36,
   "id": "a640790d",
   "metadata": {},
   "outputs": [],
   "source": [
    "stop_words = stopwords.words('english')"
   ]
  },
  {
   "cell_type": "code",
   "execution_count": 37,
   "id": "b0f6eed1",
   "metadata": {},
   "outputs": [],
   "source": [
    "for i in range(len(all_words)):\n",
    "    all_words[i] = [w for w in all_words[i] if w not in stop_words]"
   ]
  },
  {
   "cell_type": "code",
   "execution_count": 38,
   "id": "04f5cd4d",
   "metadata": {},
   "outputs": [
    {
     "data": {
      "text/plain": [
       "1"
      ]
     },
     "execution_count": 38,
     "metadata": {},
     "output_type": "execute_result"
    }
   ],
   "source": [
    "len(all_words)\n",
    "#contains the list of all the words in the article"
   ]
  },
  {
   "cell_type": "code",
   "execution_count": 39,
   "id": "ca0cd9aa",
   "metadata": {},
   "outputs": [
    {
     "name": "stdout",
     "output_type": "stream",
     "text": [
      "[['artificial', 'intelligence', 'ai', 'intelligence', 'demonstrated', 'machines', 'opposed', 'natural', 'intelligence', 'displayed', 'animals', 'including', 'humans', 'leading', 'ai', 'textbooks', 'define', 'field', 'study', 'intelligent', 'agents', 'system', 'perceives', 'environment', 'takes', 'actions', 'maximize', 'chance', 'achieving', 'goals', 'popular', 'accounts', 'use', 'term', 'artificial', 'intelligence', 'describe', 'machines', 'mimic', 'cognitive', 'functions', 'humans', 'associate', 'human', 'mind', 'learning', 'problem', 'solving', 'however', 'definition', 'rejected', 'major', 'ai', 'researchers', 'b', 'ai', 'applications', 'include', 'advanced', 'web', 'search', 'engines', 'e', 'g', 'google', 'recommendation', 'systems', 'used', 'youtube', 'amazon', 'netflix', 'understanding', 'human', 'speech', 'siri', 'alexa', 'self', 'driving', 'cars', 'e', 'g', 'tesla', 'automated', 'decision', 'making', 'competing', 'highest', 'level', 'strategic', 'game', 'systems', 'chess', 'go', 'citation', 'needed', 'machines', 'become', 'increasingly', 'capable', 'tasks', 'considered', 'require', 'intelligence', 'often', 'removed', 'definition', 'ai', 'phenomenon', 'known', 'ai', 'effect', 'instance', 'optical', 'character', 'recognition', 'frequently', 'excluded', 'things', 'considered', 'ai', 'become', 'routine', 'technology', 'artificial', 'intelligence', 'founded', 'academic', 'discipline', 'years', 'since', 'experienced', 'several', 'waves', 'optimism', 'followed', 'disappointment', 'loss', 'funding', 'known', 'ai', 'winter', 'followed', 'new', 'approaches', 'success', 'renewed', 'funding', 'ai', 'research', 'tried', 'discarded', 'many', 'different', 'approaches', 'since', 'founding', 'including', 'simulating', 'brain', 'modeling', 'human', 'problem', 'solving', 'formal', 'logic', 'large', 'databases', 'knowledge', 'imitating', 'animal', 'behavior', 'first', 'decades', 'st', 'century', 'highly', 'mathematical', 'statistical', 'machine', 'learning', 'dominated', 'field', 'technique', 'proved', 'highly', 'successful', 'helping', 'solve', 'many', 'challenging', 'problems', 'throughout', 'industry', 'academia', 'various', 'sub', 'fields', 'ai', 'research', 'centered', 'around', 'particular', 'goals', 'use', 'particular', 'tools', 'traditional', 'goals', 'ai', 'research', 'include', 'reasoning', 'knowledge', 'representation', 'planning', 'learning', 'natural', 'language', 'processing', 'perception', 'ability', 'move', 'manipulate', 'objects', 'c', 'general', 'intelligence', 'ability', 'solve', 'arbitrary', 'problem', 'among', 'field', 'long', 'term', 'goals', 'solve', 'problems', 'ai', 'researchers', 'adapted', 'integrated', 'wide', 'range', 'problem', 'solving', 'techniques', 'including', 'search', 'mathematical', 'optimization', 'formal', 'logic', 'artificial', 'neural', 'networks', 'methods', 'based', 'statistics', 'probability', 'economics', 'ai', 'also', 'draws', 'upon', 'computer', 'science', 'psychology', 'linguistics', 'philosophy', 'many', 'fields', 'field', 'founded', 'assumption', 'human', 'intelligence', 'precisely', 'described', 'machine', 'made', 'simulate', 'raises', 'philosophical', 'arguments', 'mind', 'ethics', 'creating', 'artificial', 'beings', 'endowed', 'human', 'like', 'intelligence', 'issues', 'explored', 'myth', 'fiction', 'philosophy', 'since', 'antiquity', 'science', 'fiction', 'futurology', 'also', 'suggested', 'enormous', 'potential', 'power', 'ai', 'may', 'become', 'existential', 'risk', 'humanity', 'artificial', 'beings', 'intelligence', 'appeared', 'storytelling', 'devices', 'antiquity', 'common', 'fiction', 'mary', 'shelley', 'frankenstein', 'karel', 'apek', 'r', 'u', 'r', 'characters', 'fates', 'raised', 'many', 'issues', 'discussed', 'ethics', 'artificial', 'intelligence', 'study', 'mechanical', 'formal', 'reasoning', 'began', 'philosophers', 'mathematicians', 'antiquity', 'study', 'mathematical', 'logic', 'led', 'directly', 'alan', 'turing', 'theory', 'computation', 'suggested', 'machine', 'shuffling', 'symbols', 'simple', 'could', 'simulate', 'conceivable', 'act', 'mathematical', 'deduction', 'insight', 'digital', 'computers', 'simulate', 'process', 'formal', 'reasoning', 'known', 'church', 'turing', 'thesis', 'church', 'turing', 'thesis', 'along', 'concurrent', 'discoveries', 'neurobiology', 'information', 'theory', 'cybernetics', 'led', 'researchers', 'consider', 'possibility', 'building', 'electronic', 'brain', 'first', 'work', 'generally', 'recognized', 'ai', 'mccullouch', 'pitts', 'formal', 'design', 'turing', 'complete', 'artificial', 'neurons', 'access', 'digital', 'computers', 'became', 'possible', 'mid', 'ai', 'research', 'began', 'explore', 'possibility', 'human', 'intelligence', 'could', 'reduced', 'step', 'step', 'symbol', 'manipulation', 'known', 'symbolic', 'ai', 'gofai', 'approaches', 'based', 'cybernetics', 'artificial', 'neural', 'networks', 'abandoned', 'pushed', 'background', 'field', 'ai', 'research', 'born', 'workshop', 'dartmouth', 'college', 'e', 'attendees', 'became', 'founders', 'leaders', 'ai', 'research', 'f', 'students', 'produced', 'programs', 'press', 'described', 'astonishing', 'g', 'computers', 'learning', 'checkers', 'strategies', 'solving', 'word', 'problems', 'algebra', 'proving', 'logical', 'theorems', 'speaking', 'english', 'h', 'middle', 'research', 'u', 'heavily', 'funded', 'department', 'defense', 'laboratories', 'established', 'around', 'world', 'researchers', 'convinced', 'symbolic', 'approaches', 'would', 'eventually', 'succeed', 'creating', 'machine', 'artificial', 'general', 'intelligence', 'considered', 'goal', 'field', 'herbert', 'simon', 'predicted', 'machines', 'capable', 'within', 'twenty', 'years', 'work', 'man', 'marvin', 'minsky', 'agreed', 'writing', 'within', 'generation', 'problem', 'creating', 'artificial', 'intelligence', 'substantially', 'solved', 'failed', 'recognize', 'difficulty', 'remaining', 'tasks', 'progress', 'slowed', 'response', 'criticism', 'sir', 'james', 'lighthill', 'ongoing', 'pressure', 'us', 'congress', 'fund', 'productive', 'projects', 'u', 'british', 'governments', 'cut', 'exploratory', 'research', 'ai', 'next', 'years', 'would', 'later', 'called', 'ai', 'winter', 'period', 'obtaining', 'funding', 'ai', 'projects', 'difficult', 'early', 'ai', 'research', 'revived', 'commercial', 'success', 'expert', 'systems', 'form', 'ai', 'program', 'simulated', 'knowledge', 'analytical', 'skills', 'human', 'experts', 'market', 'ai', 'reached', 'billion', 'dollars', 'time', 'japan', 'fifth', 'generation', 'computer', 'project', 'inspired', 'u', 'british', 'governments', 'restore', 'funding', 'academic', 'research', 'however', 'beginning', 'collapse', 'lisp', 'machine', 'market', 'ai', 'fell', 'disrepute', 'second', 'longer', 'lasting', 'winter', 'began', 'many', 'researchers', 'began', 'doubt', 'symbolic', 'approach', 'would', 'able', 'imitate', 'processes', 'human', 'cognition', 'especially', 'perception', 'robotics', 'learning', 'pattern', 'recognition', 'number', 'researchers', 'began', 'look', 'sub', 'symbolic', 'approaches', 'specific', 'ai', 'problems', 'robotics', 'researchers', 'rodney', 'brooks', 'rejected', 'symbolic', 'ai', 'focused', 'basic', 'engineering', 'problems', 'would', 'allow', 'robots', 'move', 'survive', 'learn', 'environment', 'interest', 'neural', 'networks', 'connectionism', 'revived', 'geoffrey', 'hinton', 'david', 'rumelhart', 'others', 'middle', 'soft', 'computing', 'tools', 'developed', 'neural', 'networks', 'fuzzy', 'systems', 'grey', 'system', 'theory', 'evolutionary', 'computation', 'many', 'tools', 'drawn', 'statistics', 'mathematical', 'optimization', 'ai', 'gradually', 'restored', 'reputation', 'late', 'early', 'st', 'century', 'finding', 'specific', 'solutions', 'specific', 'problems', 'narrow', 'focus', 'allowed', 'researchers', 'produce', 'verifiable', 'results', 'exploit', 'mathematical', 'methods', 'collaborate', 'fields', 'statistics', 'economics', 'mathematics', 'solutions', 'developed', 'ai', 'researchers', 'widely', 'used', 'although', 'rarely', 'described', 'artificial', 'intelligence', 'faster', 'computers', 'algorithmic', 'improvements', 'access', 'large', 'amounts', 'data', 'enabled', 'advances', 'machine', 'learning', 'perception', 'data', 'hungry', 'deep', 'learning', 'methods', 'started', 'dominate', 'accuracy', 'benchmarks', 'around', 'according', 'bloomberg', 'jack', 'clark', 'landmark', 'year', 'artificial', 'intelligence', 'number', 'software', 'projects', 'use', 'ai', 'within', 'google', 'increased', 'sporadic', 'usage', 'projects', 'j', 'attributes', 'increase', 'affordable', 'neural', 'networks', 'due', 'rise', 'cloud', 'computing', 'infrastructure', 'increase', 'research', 'tools', 'datasets', 'survey', 'one', 'five', 'companies', 'reported', 'incorporated', 'ai', 'offerings', 'processes', 'amount', 'research', 'ai', 'measured', 'total', 'publications', 'increased', 'years', 'numerous', 'academic', 'researchers', 'became', 'concerned', 'ai', 'longer', 'pursuing', 'original', 'goal', 'creating', 'versatile', 'fully', 'intelligent', 'machines', 'much', 'current', 'research', 'involves', 'statistical', 'ai', 'overwhelmingly', 'used', 'solve', 'specific', 'problems', 'even', 'highly', 'successful', 'techniques', 'deep', 'learning', 'concern', 'led', 'subfield', 'artificial', 'general', 'intelligence', 'agi', 'several', 'well', 'funded', 'institutions', 'general', 'problem', 'simulating', 'creating', 'intelligence', 'broken', 'sub', 'problems', 'consist', 'particular', 'traits', 'capabilities', 'researchers', 'expect', 'intelligent', 'system', 'display', 'traits', 'described', 'received', 'attention', 'c', 'early', 'researchers', 'developed', 'algorithms', 'imitated', 'step', 'step', 'reasoning', 'humans', 'use', 'solve', 'puzzles', 'make', 'logical', 'deductions', 'late', 'ai', 'research', 'developed', 'methods', 'dealing', 'uncertain', 'incomplete', 'information', 'employing', 'concepts', 'probability', 'economics', 'many', 'algorithms', 'proved', 'insufficient', 'solving', 'large', 'reasoning', 'problems', 'experienced', 'combinatorial', 'explosion', 'became', 'exponentially', 'slower', 'problems', 'grew', 'larger', 'even', 'humans', 'rarely', 'use', 'step', 'step', 'deduction', 'early', 'ai', 'research', 'could', 'model', 'solve', 'problems', 'using', 'fast', 'intuitive', 'judgments', 'knowledge', 'representation', 'knowledge', 'engineering', 'allow', 'ai', 'programs', 'answer', 'questions', 'intelligently', 'make', 'deductions', 'real', 'world', 'facts', 'representation', 'exists', 'ontology', 'set', 'objects', 'relations', 'concepts', 'properties', 'formally', 'described', 'software', 'agents', 'interpret', 'general', 'ontologies', 'called', 'upper', 'ontologies', 'attempt', 'provide', 'foundation', 'knowledge', 'act', 'mediators', 'domain', 'ontologies', 'cover', 'specific', 'knowledge', 'particular', 'knowledge', 'domain', 'field', 'interest', 'area', 'concern', 'truly', 'intelligent', 'program', 'would', 'also', 'need', 'access', 'commonsense', 'knowledge', 'set', 'facts', 'average', 'person', 'knows', 'semantics', 'ontology', 'typically', 'represented', 'description', 'logic', 'web', 'ontology', 'language', 'ai', 'research', 'developed', 'tools', 'represent', 'specific', 'domains', 'objects', 'properties', 'categories', 'relations', 'objects', 'situations', 'events', 'states', 'time', 'causes', 'effects', 'knowledge', 'knowledge', 'know', 'people', 'know', 'default', 'reasoning', 'things', 'humans', 'assume', 'true', 'told', 'differently', 'remain', 'true', 'even', 'facts', 'changing', 'well', 'domains', 'among', 'difficult', 'problems', 'ai', 'breadth', 'commonsense', 'knowledge', 'number', 'atomic', 'facts', 'average', 'person', 'knows', 'enormous', 'sub', 'symbolic', 'form', 'commonsense', 'knowledge', 'much', 'people', 'know', 'represented', 'facts', 'statements', 'could', 'express', 'verbally', 'formal', 'knowledge', 'representations', 'used', 'content', 'based', 'indexing', 'retrieval', 'scene', 'interpretation', 'clinical', 'decision', 'support', 'knowledge', 'discovery', 'mining', 'interesting', 'actionable', 'inferences', 'large', 'databases', 'areas', 'intelligent', 'agent', 'plan', 'makes', 'representation', 'state', 'world', 'makes', 'predictions', 'actions', 'change', 'makes', 'choices', 'maximize', 'utility', 'value', 'available', 'choices', 'classical', 'planning', 'problems', 'agent', 'assume', 'system', 'acting', 'world', 'allowing', 'agent', 'certain', 'consequences', 'actions', 'however', 'agent', 'actor', 'requires', 'agent', 'reason', 'uncertainty', 'continuously', 'assess', 'environment', 'adapt', 'multi', 'agent', 'planning', 'uses', 'cooperation', 'competition', 'many', 'agents', 'achieve', 'given', 'goal', 'emergent', 'behavior', 'used', 'evolutionary', 'algorithms', 'swarm', 'intelligence', 'machine', 'learning', 'ml', 'fundamental', 'concept', 'ai', 'research', 'since', 'field', 'inception', 'k', 'study', 'computer', 'algorithms', 'improve', 'automatically', 'experience', 'l', 'unsupervised', 'learning', 'finds', 'patterns', 'stream', 'input', 'supervised', 'learning', 'requires', 'human', 'label', 'input', 'data', 'first', 'comes', 'two', 'main', 'varieties', 'classification', 'numerical', 'regression', 'classification', 'used', 'determine', 'category', 'something', 'belongs', 'program', 'sees', 'number', 'examples', 'things', 'several', 'categories', 'learn', 'classify', 'new', 'inputs', 'regression', 'attempt', 'produce', 'function', 'describes', 'relationship', 'inputs', 'outputs', 'predicts', 'outputs', 'change', 'inputs', 'change', 'classifiers', 'regression', 'learners', 'viewed', 'function', 'approximators', 'trying', 'learn', 'unknown', 'possibly', 'implicit', 'function', 'example', 'spam', 'classifier', 'viewed', 'learning', 'function', 'maps', 'text', 'email', 'one', 'two', 'categories', 'spam', 'spam', 'reinforcement', 'learning', 'agent', 'rewarded', 'good', 'responses', 'punished', 'bad', 'ones', 'agent', 'classifies', 'responses', 'form', 'strategy', 'operating', 'problem', 'space', 'transfer', 'learning', 'knowledge', 'gained', 'one', 'problem', 'applied', 'new', 'problem', 'computational', 'learning', 'theory', 'assess', 'learners', 'computational', 'complexity', 'sample', 'complexity', 'much', 'data', 'required', 'notions', 'optimization', 'natural', 'language', 'processing', 'nlp', 'allows', 'machines', 'read', 'understand', 'human', 'language', 'sufficiently', 'powerful', 'natural', 'language', 'processing', 'system', 'would', 'enable', 'natural', 'language', 'user', 'interfaces', 'acquisition', 'knowledge', 'directly', 'human', 'written', 'sources', 'newswire', 'texts', 'straightforward', 'applications', 'nlp', 'include', 'information', 'retrieval', 'question', 'answering', 'machine', 'translation', 'symbolic', 'ai', 'used', 'formal', 'syntax', 'translate', 'deep', 'structure', 'sentences', 'logic', 'failed', 'produce', 'useful', 'applications', 'due', 'intractability', 'logic', 'breadth', 'commonsense', 'knowledge', 'modern', 'statistical', 'techniques', 'include', 'co', 'occurrence', 'frequencies', 'often', 'one', 'word', 'appears', 'near', 'another', 'keyword', 'spotting', 'searching', 'particular', 'word', 'retrieve', 'information', 'transformer', 'based', 'deep', 'learning', 'finds', 'patterns', 'text', 'others', 'achieved', 'acceptable', 'accuracy', 'page', 'paragraph', 'level', 'could', 'generate', 'coherent', 'text', 'machine', 'perception', 'ability', 'use', 'input', 'sensors', 'cameras', 'microphones', 'wireless', 'signals', 'active', 'lidar', 'sonar', 'radar', 'tactile', 'sensors', 'deduce', 'aspects', 'world', 'applications', 'include', 'speech', 'recognition', 'facial', 'recognition', 'object', 'recognition', 'computer', 'vision', 'ability', 'analyze', 'visual', 'input', 'ai', 'heavily', 'used', 'robotics', 'localization', 'robot', 'knows', 'location', 'maps', 'environment', 'given', 'small', 'static', 'visible', 'environment', 'easy', 'however', 'dynamic', 'environments', 'endoscopy', 'interior', 'patient', 'breathing', 'body', 'pose', 'greater', 'challenge', 'motion', 'planning', 'process', 'breaking', 'movement', 'task', 'primitives', 'individual', 'joint', 'movements', 'movement', 'often', 'involves', 'compliant', 'motion', 'process', 'movement', 'requires', 'maintaining', 'physical', 'contact', 'object', 'robots', 'learn', 'experience', 'move', 'efficiently', 'despite', 'presence', 'friction', 'gear', 'slippage', 'affective', 'computing', 'interdisciplinary', 'umbrella', 'comprises', 'systems', 'recognize', 'interpret', 'process', 'simulate', 'human', 'feeling', 'emotion', 'mood', 'example', 'virtual', 'assistants', 'programmed', 'speak', 'conversationally', 'even', 'banter', 'humorously', 'makes', 'appear', 'sensitive', 'emotional', 'dynamics', 'human', 'interaction', 'otherwise', 'facilitate', 'human', 'computer', 'interaction', 'however', 'tends', 'give', 'na', 'users', 'unrealistic', 'conception', 'intelligent', 'existing', 'computer', 'agents', 'actually', 'moderate', 'successes', 'related', 'affective', 'computing', 'include', 'textual', 'sentiment', 'analysis', 'recently', 'multimodal', 'sentiment', 'analysis', 'wherein', 'ai', 'classifies', 'affects', 'displayed', 'videotaped', 'subject', 'machine', 'general', 'intelligence', 'solve', 'wide', 'variety', 'problems', 'breadth', 'versatility', 'similar', 'human', 'intelligence', 'several', 'competing', 'ideas', 'develop', 'artificial', 'general', 'intelligence', 'hans', 'moravec', 'marvin', 'minsky', 'argue', 'work', 'different', 'individual', 'domains', 'incorporated', 'advanced', 'multi', 'agent', 'system', 'cognitive', 'architecture', 'general', 'intelligence', 'pedro', 'domingos', 'hopes', 'conceptually', 'straightforward', 'mathematically', 'difficult', 'master', 'algorithm', 'could', 'lead', 'agi', 'others', 'believe', 'anthropomorphic', 'features', 'like', 'artificial', 'brain', 'simulated', 'child', 'development', 'someday', 'reach', 'critical', 'point', 'general', 'intelligence', 'emerges', 'many', 'problems', 'ai', 'solved', 'theoretically', 'intelligently', 'searching', 'many', 'possible', 'solutions', 'reasoning', 'reduced', 'performing', 'search', 'example', 'logical', 'proof', 'viewed', 'searching', 'path', 'leads', 'premises', 'conclusions', 'step', 'application', 'inference', 'rule', 'planning', 'algorithms', 'search', 'trees', 'goals', 'subgoals', 'attempting', 'find', 'path', 'target', 'goal', 'process', 'called', 'means', 'ends', 'analysis', 'robotics', 'algorithms', 'moving', 'limbs', 'grasping', 'objects', 'use', 'local', 'searches', 'configuration', 'space', 'simple', 'exhaustive', 'searches', 'rarely', 'sufficient', 'real', 'world', 'problems', 'search', 'space', 'number', 'places', 'search', 'quickly', 'grows', 'astronomical', 'numbers', 'result', 'search', 'slow', 'never', 'completes', 'solution', 'many', 'problems', 'use', 'heuristics', 'rules', 'thumb', 'prioritize', 'choices', 'favor', 'likely', 'reach', 'goal', 'shorter', 'number', 'steps', 'search', 'methodologies', 'heuristics', 'also', 'serve', 'eliminate', 'choices', 'unlikely', 'lead', 'goal', 'called', 'pruning', 'search', 'tree', 'heuristics', 'supply', 'program', 'best', 'guess', 'path', 'solution', 'lies', 'heuristics', 'limit', 'search', 'solutions', 'smaller', 'sample', 'size', 'different', 'kind', 'search', 'came', 'prominence', 'based', 'mathematical', 'theory', 'optimization', 'many', 'problems', 'possible', 'begin', 'search', 'form', 'guess', 'refine', 'guess', 'incrementally', 'refinements', 'made', 'algorithms', 'visualized', 'blind', 'hill', 'climbing', 'begin', 'search', 'random', 'point', 'landscape', 'jumps', 'steps', 'keep', 'moving', 'guess', 'uphill', 'reach', 'top', 'optimization', 'algorithms', 'simulated', 'annealing', 'beam', 'search', 'random', 'optimization', 'evolutionary', 'computation', 'uses', 'form', 'optimization', 'search', 'example', 'may', 'begin', 'population', 'organisms', 'guesses', 'allow', 'mutate', 'recombine', 'selecting', 'fittest', 'survive', 'generation', 'refining', 'guesses', 'classic', 'evolutionary', 'algorithms', 'include', 'genetic', 'algorithms', 'gene', 'expression', 'programming', 'genetic', 'programming', 'alternatively', 'distributed', 'search', 'processes', 'coordinate', 'via', 'swarm', 'intelligence', 'algorithms', 'two', 'popular', 'swarm', 'algorithms', 'used', 'search', 'particle', 'swarm', 'optimization', 'inspired', 'bird', 'flocking', 'ant', 'colony', 'optimization', 'inspired', 'ant', 'trails', 'logic', 'used', 'knowledge', 'representation', 'problem', 'solving', 'applied', 'problems', 'well', 'example', 'satplan', 'algorithm', 'uses', 'logic', 'planning', 'inductive', 'logic', 'programming', 'method', 'learning', 'several', 'different', 'forms', 'logic', 'used', 'ai', 'research', 'propositional', 'logic', 'involves', 'truth', 'functions', 'first', 'order', 'logic', 'adds', 'quantifiers', 'predicates', 'express', 'facts', 'objects', 'properties', 'relations', 'fuzzy', 'logic', 'assigns', 'degree', 'truth', 'vague', 'statements', 'alice', 'old', 'rich', 'tall', 'hungry', 'linguistically', 'imprecise', 'completely', 'true', 'false', 'default', 'logics', 'non', 'monotonic', 'logics', 'circumscription', 'forms', 'logic', 'designed', 'help', 'default', 'reasoning', 'qualification', 'problem', 'several', 'extensions', 'logic', 'designed', 'handle', 'specific', 'domains', 'knowledge', 'description', 'logics', 'situation', 'calculus', 'event', 'calculus', 'fluent', 'calculus', 'representing', 'events', 'time', 'causal', 'calculus', 'belief', 'calculus', 'belief', 'revision', 'modal', 'logics', 'logics', 'model', 'contradictory', 'inconsistent', 'statements', 'arising', 'multi', 'agent', 'systems', 'also', 'designed', 'paraconsistent', 'logics', 'citation', 'needed', 'many', 'problems', 'ai', 'reasoning', 'planning', 'learning', 'perception', 'robotics', 'require', 'agent', 'operate', 'incomplete', 'uncertain', 'information', 'ai', 'researchers', 'devised', 'number', 'powerful', 'tools', 'solve', 'problems', 'using', 'methods', 'probability', 'theory', 'economics', 'bayesian', 'networks', 'general', 'tool', 'used', 'various', 'problems', 'reasoning', 'using', 'bayesian', 'inference', 'algorithm', 'n', 'learning', 'using', 'expectation', 'maximization', 'algorithm', 'planning', 'using', 'decision', 'networks', 'perception', 'using', 'dynamic', 'bayesian', 'networks', 'probabilistic', 'algorithms', 'also', 'used', 'filtering', 'prediction', 'smoothing', 'finding', 'explanations', 'streams', 'data', 'helping', 'perception', 'systems', 'analyze', 'processes', 'occur', 'time', 'e', 'g', 'hidden', 'markov', 'models', 'kalman', 'filters', 'key', 'concept', 'science', 'economics', 'utility', 'measure', 'valuable', 'something', 'intelligent', 'agent', 'precise', 'mathematical', 'tools', 'developed', 'analyze', 'agent', 'make', 'choices', 'plan', 'using', 'decision', 'theory', 'decision', 'analysis', 'information', 'value', 'theory', 'tools', 'include', 'models', 'markov', 'decision', 'processes', 'dynamic', 'decision', 'networks', 'game', 'theory', 'mechanism', 'design', 'simplest', 'ai', 'applications', 'divided', 'two', 'types', 'classifiers', 'shiny', 'diamond', 'controllers', 'diamond', 'pick', 'controllers', 'however', 'also', 'classify', 'conditions', 'inferring', 'actions', 'therefore', 'classification', 'forms', 'central', 'part', 'many', 'ai', 'systems', 'classifiers', 'functions', 'use', 'pattern', 'matching', 'determine', 'closest', 'match', 'tuned', 'according', 'examples', 'making', 'attractive', 'use', 'ai', 'examples', 'known', 'observations', 'patterns', 'supervised', 'learning', 'pattern', 'belongs', 'certain', 'predefined', 'class', 'class', 'decision', 'made', 'observations', 'combined', 'class', 'labels', 'known', 'data', 'set', 'new', 'observation', 'received', 'observation', 'classified', 'based', 'previous', 'experience', 'classifier', 'trained', 'various', 'ways', 'many', 'statistical', 'machine', 'learning', 'approaches', 'decision', 'tree', 'simplest', 'widely', 'used', 'symbolic', 'machine', 'learning', 'algorithm', 'k', 'nearest', 'neighbor', 'algorithm', 'widely', 'used', 'analogical', 'ai', 'mid', 'kernel', 'methods', 'support', 'vector', 'machine', 'svm', 'displaced', 'k', 'nearest', 'neighbor', 'naive', 'bayes', 'classifier', 'reportedly', 'widely', 'used', 'learner', 'google', 'due', 'part', 'scalability', 'neural', 'networks', 'also', 'used', 'classification', 'classifier', 'performance', 'depends', 'greatly', 'characteristics', 'data', 'classified', 'dataset', 'size', 'distribution', 'samples', 'across', 'classes', 'dimensionality', 'level', 'noise', 'model', 'based', 'classifiers', 'perform', 'well', 'assumed', 'model', 'extremely', 'good', 'fit', 'actual', 'data', 'otherwise', 'matching', 'model', 'available', 'accuracy', 'rather', 'speed', 'scalability', 'sole', 'concern', 'conventional', 'wisdom', 'discriminative', 'classifiers', 'especially', 'svm', 'tend', 'accurate', 'model', 'based', 'classifiers', 'naive', 'bayes', 'practical', 'data', 'sets', 'neural', 'networks', 'inspired', 'architecture', 'neurons', 'human', 'brain', 'simple', 'neuron', 'n', 'accepts', 'input', 'neurons', 'activated', 'fired', 'casts', 'weighted', 'vote', 'whether', 'neuron', 'n', 'activate', 'learning', 'requires', 'algorithm', 'adjust', 'weights', 'based', 'training', 'data', 'one', 'simple', 'algorithm', 'dubbed', 'fire', 'together', 'wire', 'together', 'increase', 'weight', 'two', 'connected', 'neurons', 'activation', 'one', 'triggers', 'successful', 'activation', 'another', 'neurons', 'continuous', 'spectrum', 'activation', 'addition', 'neurons', 'process', 'inputs', 'nonlinear', 'way', 'rather', 'weighing', 'straightforward', 'votes', 'modern', 'neural', 'networks', 'model', 'complex', 'relationships', 'inputs', 'outputs', 'find', 'patterns', 'data', 'learn', 'continuous', 'functions', 'even', 'digital', 'logical', 'operations', 'neural', 'networks', 'viewed', 'type', 'mathematical', 'optimization', 'perform', 'gradient', 'descent', 'multi', 'dimensional', 'topology', 'created', 'training', 'network', 'common', 'training', 'technique', 'backpropagation', 'algorithm', 'learning', 'techniques', 'neural', 'networks', 'hebbian', 'learning', 'fire', 'together', 'wire', 'together', 'gmdh', 'competitive', 'learning', 'main', 'categories', 'networks', 'acyclic', 'feedforward', 'neural', 'networks', 'signal', 'passes', 'one', 'direction', 'recurrent', 'neural', 'networks', 'allow', 'feedback', 'short', 'term', 'memories', 'previous', 'input', 'events', 'among', 'popular', 'feedforward', 'networks', 'perceptrons', 'multi', 'layer', 'perceptrons', 'radial', 'basis', 'networks', 'deep', 'learning', 'uses', 'several', 'layers', 'neurons', 'network', 'inputs', 'outputs', 'multiple', 'layers', 'progressively', 'extract', 'higher', 'level', 'features', 'raw', 'input', 'example', 'image', 'processing', 'lower', 'layers', 'may', 'identify', 'edges', 'higher', 'layers', 'may', 'identify', 'concepts', 'relevant', 'human', 'digits', 'letters', 'faces', 'deep', 'learning', 'drastically', 'improved', 'performance', 'programs', 'many', 'important', 'subfields', 'artificial', 'intelligence', 'including', 'computer', 'vision', 'speech', 'recognition', 'image', 'classification', 'others', 'deep', 'learning', 'often', 'uses', 'convolutional', 'neural', 'networks', 'many', 'layers', 'convolutional', 'layer', 'neuron', 'receives', 'input', 'restricted', 'area', 'previous', 'layer', 'called', 'neuron', 'receptive', 'field', 'substantially', 'reduce', 'number', 'weighted', 'connections', 'neurons', 'creates', 'hierarchy', 'similar', 'organization', 'animal', 'visual', 'cortex', 'recurrent', 'neural', 'network', 'signal', 'propagate', 'layer', 'thus', 'rnn', 'example', 'deep', 'learning', 'rnns', 'trained', 'gradient', 'descent', 'however', 'long', 'term', 'gradients', 'back', 'propagated', 'vanish', 'tend', 'zero', 'explode', 'tend', 'infinity', 'known', 'vanishing', 'gradient', 'problem', 'long', 'short', 'term', 'memory', 'lstm', 'technique', 'prevent', 'cases', 'specialized', 'languages', 'artificial', 'intelligence', 'developed', 'lisp', 'prolog', 'tensorflow', 'many', 'others', 'hardware', 'developed', 'ai', 'includes', 'ai', 'accelerators', 'neuromorphic', 'computing', 'ai', 'relevant', 'intellectual', 'task', 'modern', 'artificial', 'intelligence', 'techniques', 'pervasive', 'numerous', 'list', 'frequently', 'technique', 'reaches', 'mainstream', 'use', 'longer', 'considered', 'artificial', 'intelligence', 'phenomenon', 'described', 'ai', 'effect', 'ai', 'applications', 'heart', 'commercially', 'successful', 'areas', 'computing', 'become', 'ubiquitous', 'feature', 'daily', 'life', 'ai', 'used', 'search', 'engines', 'google', 'search', 'targeting', 'online', 'advertisements', 'non', 'primary', 'source', 'needed', 'recommendation', 'systems', 'offered', 'netflix', 'youtube', 'amazon', 'driving', 'internet', 'traffic', 'targeted', 'advertising', 'adsense', 'facebook', 'virtual', 'assistants', 'siri', 'alexa', 'autonomous', 'vehicles', 'including', 'drones', 'self', 'driving', 'cars', 'automatic', 'language', 'translation', 'microsoft', 'translator', 'google', 'translate', 'facial', 'recognition', 'apple', 'face', 'id', 'microsoft', 'deepface', 'image', 'labeling', 'used', 'facebook', 'apple', 'iphoto', 'tiktok', 'spam', 'filtering', 'also', 'thousands', 'successful', 'ai', 'applications', 'used', 'solve', 'problems', 'specific', 'industries', 'institutions', 'examples', 'energy', 'storage', 'deepfakes', 'medical', 'diagnosis', 'military', 'logistics', 'supply', 'chain', 'management', 'game', 'playing', 'test', 'ai', 'strength', 'since', 'deep', 'blue', 'became', 'first', 'computer', 'chess', 'playing', 'system', 'beat', 'reigning', 'world', 'chess', 'champion', 'garry', 'kasparov', 'may', 'jeopardy', 'quiz', 'show', 'exhibition', 'match', 'ibm', 'question', 'answering', 'system', 'watson', 'defeated', 'two', 'greatest', 'jeopardy', 'champions', 'brad', 'rutter', 'ken', 'jennings', 'significant', 'margin', 'march', 'alphago', 'games', 'go', 'match', 'go', 'champion', 'lee', 'sedol', 'becoming', 'first', 'computer', 'go', 'playing', 'system', 'beat', 'professional', 'go', 'player', 'without', 'handicaps', 'programs', 'handle', 'imperfect', 'information', 'games', 'poker', 'superhuman', 'level', 'pluribus', 'p', 'cepheus', 'deepmind', 'developed', 'generalized', 'artificial', 'intelligence', 'could', 'learn', 'many', 'diverse', 'atari', 'games', 'natural', 'language', 'processing', 'systems', 'enormous', 'gpt', 'far', 'largest', 'artificial', 'neural', 'network', 'matching', 'human', 'performance', 'pre', 'existing', 'benchmarks', 'albeit', 'without', 'system', 'attaining', 'commonsense', 'understanding', 'contents', 'benchmarks', 'deepmind', 'alphafold', 'demonstrated', 'ability', 'approximate', 'hours', 'rather', 'months', 'structure', 'protein', 'applications', 'predict', 'result', 'judicial', 'decisions', 'create', 'art', 'poetry', 'painting', 'prove', 'mathematical', 'theorems', 'alan', 'turing', 'wrote', 'propose', 'consider', 'question', 'machines', 'think', 'advised', 'changing', 'question', 'whether', 'machine', 'thinks', 'whether', 'possible', 'machinery', 'show', 'intelligent', 'behaviour', 'thing', 'visible', 'behavior', 'machine', 'matter', 'machine', 'conscious', 'mind', 'whether', 'intelligence', 'merely', 'simulation', 'real', 'thing', 'noted', 'also', 'know', 'things', 'people', 'extend', 'polite', 'convention', 'actually', 'thinking', 'idea', 'forms', 'basis', 'turing', 'test', 'q', 'ai', 'founder', 'john', 'mccarthy', 'said', 'artificial', 'intelligence', 'definition', 'simulation', 'human', 'intelligence', 'russell', 'norvig', 'agree', 'criticize', 'turing', 'test', 'wrote', 'aeronautical', 'engineering', 'texts', 'define', 'goal', 'field', 'making', 'machines', 'fly', 'exactly', 'like', 'pigeons', 'fool', 'pigeons', 'researchers', 'analysts', 'disagree', 'argued', 'ai', 'simulate', 'natural', 'intelligence', 'studying', 'psychology', 'neurobiology', 'r', 'intelligent', 'agent', 'paradigm', 'defines', 'intelligent', 'behavior', 'general', 'without', 'reference', 'human', 'beings', 'intelligent', 'agent', 'system', 'perceives', 'environment', 'takes', 'actions', 'maximize', 'chances', 'success', 'system', 'goal', 'directed', 'behavior', 'analyzed', 'intelligent', 'agent', 'something', 'simple', 'thermostat', 'complex', 'human', 'well', 'large', 'systems', 'firms', 'biomes', 'nations', 'intelligent', 'agent', 'paradigm', 'became', 'widely', 'accepted', 'currently', 'serves', 'definition', 'field', 'paradigm', 'advantages', 'ai', 'provides', 'reliable', 'scientific', 'way', 'test', 'programs', 'researchers', 'directly', 'compare', 'even', 'combine', 'different', 'approaches', 'isolated', 'problems', 'asking', 'agent', 'best', 'maximizing', 'given', 'goal', 'function', 'also', 'gives', 'common', 'language', 'communicate', 'fields', 'mathematical', 'optimization', 'defined', 'terms', 'goals', 'economics', 'uses', 'definition', 'rational', 'agent', 'established', 'unifying', 'theory', 'paradigm', 'guided', 'ai', 'research', 'history', 'unprecedented', 'success', 'statistical', 'machine', 'learning', 'eclipsed', 'approaches', 'much', 'sources', 'especially', 'business', 'world', 'use', 'term', 'artificial', 'intelligence', 'mean', 'machine', 'learning', 'neural', 'networks', 'approach', 'mostly', 'sub', 'symbolic', 'neat', 'soft', 'narrow', 'see', 'critics', 'argue', 'questions', 'may', 'revisited', 'future', 'generations', 'ai', 'researchers', 'symbolic', 'ai', 'gofai', 'simulated', 'high', 'level', 'conscious', 'reasoning', 'people', 'use', 'solve', 'puzzles', 'express', 'legal', 'reasoning', 'mathematics', 'highly', 'successful', 'intelligent', 'tasks', 'algebra', 'iq', 'tests', 'newell', 'simon', 'proposed', 'physical', 'symbol', 'systems', 'hypothesis', 'physical', 'symbol', 'system', 'necessary', 'sufficient', 'means', 'general', 'intelligent', 'action', 'however', 'symbolic', 'approach', 'failed', 'dismally', 'many', 'tasks', 'humans', 'solve', 'easily', 'learning', 'recognizing', 'object', 'commonsense', 'reasoning', 'moravec', 'paradox', 'discovery', 'high', 'level', 'intelligent', 'tasks', 'easy', 'ai', 'low', 'level', 'instinctive', 'tasks', 'extremely', 'difficult', 'philosopher', 'hubert', 'dreyfus', 'argued', 'since', 'human', 'expertise', 'depends', 'unconscious', 'instinct', 'rather', 'conscious', 'symbol', 'manipulation', 'feel', 'situation', 'rather', 'explicit', 'symbolic', 'knowledge', 'although', 'arguments', 'ridiculed', 'ignored', 'first', 'presented', 'eventually', 'ai', 'research', 'came', 'agree', 'issue', 'resolved', 'sub', 'symbolic', 'reasoning', 'make', 'many', 'inscrutable', 'mistakes', 'human', 'intuition', 'algorithmic', 'bias', 'critics', 'noam', 'chomsky', 'argue', 'continuing', 'research', 'symbolic', 'ai', 'still', 'necessary', 'attain', 'general', 'intelligence', 'part', 'sub', 'symbolic', 'ai', 'move', 'away', 'explainable', 'ai', 'difficult', 'impossible', 'understand', 'modern', 'statistical', 'ai', 'program', 'made', 'particular', 'decision', 'neats', 'hope', 'intelligent', 'behavior', 'described', 'using', 'simple', 'elegant', 'principles', 'logic', 'optimization', 'neural', 'networks', 'scruffies', 'expect', 'necessarily', 'requires', 'solving', 'large', 'number', 'unrelated', 'problems', 'issue', 'actively', 'discussed', 'mathematical', 'methods', 'solid', 'scientific', 'standards', 'became', 'norm', 'transition', 'russell', 'norvig', 'termed', 'victory', 'neats', 'finding', 'provably', 'correct', 'optimal', 'solution', 'intractable', 'many', 'important', 'problems', 'soft', 'computing', 'set', 'techniques', 'including', 'genetic', 'algorithms', 'fuzzy', 'logic', 'neural', 'networks', 'tolerant', 'imprecision', 'uncertainty', 'partial', 'truth', 'approximation', 'soft', 'computing', 'introduced', 'late', 'successful', 'ai', 'programs', 'st', 'century', 'examples', 'soft', 'computing', 'neural', 'networks', 'ai', 'researchers', 'divided', 'whether', 'pursue', 'goals', 'artificial', 'general', 'intelligence', 'superintelligence', 'general', 'ai', 'directly', 'solve', 'many', 'specific', 'problems', 'possible', 'narrow', 'ai', 'hopes', 'solutions', 'lead', 'indirectly', 'field', 'long', 'term', 'goals', 'general', 'intelligence', 'difficult', 'define', 'difficult', 'measure', 'modern', 'ai', 'verifiable', 'successes', 'focussing', 'specific', 'problems', 'specific', 'solutions', 'experimental', 'sub', 'field', 'artificial', 'general', 'intelligence', 'studies', 'area', 'exclusively', 'philosophy', 'mind', 'know', 'whether', 'machine', 'mind', 'consciousness', 'mental', 'states', 'sense', 'human', 'beings', 'issue', 'considers', 'internal', 'experiences', 'machine', 'rather', 'external', 'behavior', 'mainstream', 'ai', 'research', 'considers', 'issue', 'irrelevant', 'effect', 'goals', 'field', 'stuart', 'russell', 'peter', 'norvig', 'observe', 'ai', 'researchers', 'care', 'philosophy', 'ai', 'long', 'program', 'works', 'care', 'whether', 'call', 'simulation', 'intelligence', 'real', 'intelligence', 'however', 'question', 'become', 'central', 'philosophy', 'mind', 'also', 'typically', 'central', 'question', 'issue', 'artificial', 'intelligence', 'fiction', 'david', 'chalmers', 'identified', 'two', 'problems', 'understanding', 'mind', 'named', 'hard', 'easy', 'problems', 'consciousness', 'easy', 'problem', 'understanding', 'brain', 'processes', 'signals', 'makes', 'plans', 'controls', 'behavior', 'hard', 'problem', 'explaining', 'feels', 'feel', 'like', 'anything', 'human', 'information', 'processing', 'easy', 'explain', 'however', 'human', 'subjective', 'experience', 'difficult', 'explain', 'example', 'easy', 'imagine', 'color', 'blind', 'person', 'learned', 'identify', 'objects', 'field', 'view', 'red', 'clear', 'would', 'required', 'person', 'know', 'red', 'looks', 'like', 'computationalism', 'position', 'philosophy', 'mind', 'human', 'mind', 'information', 'processing', 'system', 'thinking', 'form', 'computing', 'computationalism', 'argues', 'relationship', 'mind', 'body', 'similar', 'identical', 'relationship', 'software', 'hardware', 'thus', 'may', 'solution', 'mind', 'body', 'problem', 'philosophical', 'position', 'inspired', 'work', 'ai', 'researchers', 'cognitive', 'scientists', 'originally', 'proposed', 'philosophers', 'jerry', 'fodor', 'hilary', 'putnam', 'philosopher', 'john', 'searle', 'characterized', 'position', 'strong', 'ai', 'appropriately', 'programmed', 'computer', 'right', 'inputs', 'outputs', 'would', 'thereby', 'mind', 'exactly', 'sense', 'human', 'beings', 'minds', 'u', 'searle', 'counters', 'assertion', 'chinese', 'room', 'argument', 'attempts', 'show', 'even', 'machine', 'perfectly', 'simulates', 'human', 'behavior', 'still', 'reason', 'suppose', 'also', 'mind', 'machine', 'mind', 'subjective', 'experience', 'may', 'also', 'sentience', 'ability', 'feel', 'could', 'also', 'suffer', 'thus', 'would', 'entitled', 'certain', 'rights', 'hypothetical', 'robot', 'rights', 'would', 'lie', 'spectrum', 'animal', 'rights', 'human', 'rights', 'issue', 'considered', 'fiction', 'centuries', 'considered', 'example', 'california', 'institute', 'future', 'however', 'critics', 'argue', 'discussion', 'premature', 'superintelligence', 'hyperintelligence', 'superhuman', 'intelligence', 'hypothetical', 'agent', 'would', 'possess', 'intelligence', 'far', 'surpassing', 'brightest', 'gifted', 'human', 'mind', 'superintelligence', 'may', 'also', 'refer', 'form', 'degree', 'intelligence', 'possessed', 'agent', 'research', 'artificial', 'general', 'intelligence', 'produced', 'sufficiently', 'intelligent', 'software', 'might', 'able', 'reprogram', 'improve', 'improved', 'software', 'would', 'even', 'better', 'improving', 'leading', 'recursive', 'self', 'improvement', 'intelligence', 'would', 'increase', 'exponentially', 'intelligence', 'explosion', 'could', 'dramatically', 'surpass', 'humans', 'science', 'fiction', 'writer', 'vernor', 'vinge', 'named', 'scenario', 'singularity', 'difficult', 'impossible', 'know', 'limits', 'intelligence', 'capabilities', 'superintelligent', 'machines', 'technological', 'singularity', 'occurrence', 'beyond', 'events', 'unpredictable', 'even', 'unfathomable', 'robot', 'designer', 'hans', 'moravec', 'cyberneticist', 'kevin', 'warwick', 'inventor', 'ray', 'kurzweil', 'predicted', 'humans', 'machines', 'merge', 'future', 'cyborgs', 'capable', 'powerful', 'either', 'idea', 'called', 'transhumanism', 'roots', 'aldous', 'huxley', 'robert', 'ettinger', 'edward', 'fredkin', 'argues', 'artificial', 'intelligence', 'next', 'stage', 'evolution', 'idea', 'first', 'proposed', 'samuel', 'butler', 'darwin', 'among', 'machines', 'far', 'back', 'expanded', 'upon', 'george', 'dyson', 'book', 'name', 'past', 'technology', 'tended', 'increase', 'rather', 'reduce', 'total', 'employment', 'economists', 'acknowledge', 'uncharted', 'territory', 'ai', 'survey', 'economists', 'showed', 'disagreement', 'whether', 'increasing', 'use', 'robots', 'ai', 'cause', 'substantial', 'increase', 'long', 'term', 'unemployment', 'generally', 'agree', 'could', 'net', 'benefit', 'productivity', 'gains', 'redistributed', 'subjective', 'estimates', 'risk', 'vary', 'widely', 'example', 'michael', 'osborne', 'carl', 'benedikt', 'frey', 'estimate', 'u', 'jobs', 'high', 'risk', 'potential', 'automation', 'oecd', 'report', 'classifies', 'u', 'jobs', 'high', 'risk', 'v', 'unlike', 'previous', 'waves', 'automation', 'many', 'middle', 'class', 'jobs', 'may', 'eliminated', 'artificial', 'intelligence', 'economist', 'states', 'worry', 'ai', 'could', 'white', 'collar', 'jobs', 'steam', 'power', 'blue', 'collar', 'ones', 'industrial', 'revolution', 'worth', 'taking', 'seriously', 'jobs', 'extreme', 'risk', 'range', 'paralegals', 'fast', 'food', 'cooks', 'job', 'demand', 'likely', 'increase', 'care', 'related', 'professions', 'ranging', 'personal', 'healthcare', 'clergy', 'ai', 'provides', 'number', 'tools', 'particularly', 'useful', 'authoritarian', 'governments', 'smart', 'spyware', 'face', 'recognition', 'voice', 'recognition', 'allow', 'widespread', 'surveillance', 'surveillance', 'allows', 'machine', 'learning', 'classify', 'potential', 'enemies', 'state', 'prevent', 'hiding', 'recommendation', 'systems', 'precisely', 'target', 'propaganda', 'misinformation', 'maximum', 'effect', 'deepfakes', 'aid', 'producing', 'misinformation', 'advanced', 'ai', 'make', 'centralized', 'decision', 'making', 'competitive', 'liberal', 'decentralized', 'systems', 'markets', 'terrorists', 'criminals', 'rogue', 'states', 'may', 'use', 'forms', 'weaponized', 'ai', 'advanced', 'digital', 'warfare', 'lethal', 'autonomous', 'weapons', 'fifty', 'countries', 'reported', 'researching', 'battlefield', 'robots', 'ai', 'programs', 'become', 'biased', 'learning', 'real', 'world', 'data', 'typically', 'introduced', 'system', 'designers', 'learned', 'program', 'thus', 'programmers', 'often', 'unaware', 'bias', 'exists', 'bias', 'inadvertently', 'introduced', 'way', 'training', 'data', 'selected', 'also', 'emerge', 'correlations', 'ai', 'used', 'classify', 'individuals', 'groups', 'make', 'predictions', 'assuming', 'individual', 'resemble', 'members', 'group', 'cases', 'assumption', 'may', 'unfair', 'example', 'compas', 'commercial', 'program', 'widely', 'used', 'u', 'courts', 'assess', 'likelihood', 'defendant', 'becoming', 'recidivist', 'propublica', 'claims', 'compas', 'assigned', 'recidivism', 'risk', 'level', 'black', 'defendants', 'far', 'likely', 'overestimate', 'white', 'defendants', 'despite', 'fact', 'program', 'told', 'races', 'defendants', 'examples', 'algorithmic', 'bias', 'lead', 'unfair', 'outcomes', 'ai', 'used', 'credit', 'rating', 'hiring', 'superintelligent', 'ai', 'may', 'able', 'improve', 'point', 'humans', 'could', 'control', 'could', 'physicist', 'stephen', 'hawking', 'puts', 'spell', 'end', 'human', 'race', 'philosopher', 'nick', 'bostrom', 'argues', 'sufficiently', 'intelligent', 'ai', 'chooses', 'actions', 'based', 'achieving', 'goal', 'exhibit', 'convergent', 'behavior', 'acquiring', 'resources', 'protecting', 'shut', 'ai', 'goals', 'fully', 'reflect', 'humanity', 'might', 'need', 'harm', 'humanity', 'acquire', 'resources', 'prevent', 'shut', 'ultimately', 'better', 'achieve', 'goal', 'concludes', 'ai', 'poses', 'risk', 'mankind', 'however', 'humble', 'friendly', 'stated', 'goals', 'might', 'political', 'scientist', 'charles', 'rubin', 'argues', 'sufficiently', 'advanced', 'benevolence', 'may', 'indistinguishable', 'malevolence', 'humans', 'assume', 'machines', 'robots', 'would', 'treat', 'us', 'favorably', 'priori', 'reason', 'believe', 'would', 'share', 'system', 'morality', 'opinion', 'experts', 'industry', 'insiders', 'mixed', 'sizable', 'fractions', 'concerned', 'unconcerned', 'risk', 'eventual', 'superhumanly', 'capable', 'ai', 'stephen', 'hawking', 'microsoft', 'founder', 'bill', 'gates', 'history', 'professor', 'yuval', 'noah', 'harari', 'spacex', 'founder', 'elon', 'musk', 'expressed', 'serious', 'misgivings', 'future', 'ai', 'prominent', 'tech', 'titans', 'including', 'peter', 'thiel', 'amazon', 'web', 'services', 'musk', 'committed', 'billion', 'nonprofit', 'companies', 'champion', 'responsible', 'ai', 'development', 'openai', 'future', 'life', 'institute', 'mark', 'zuckerberg', 'ceo', 'facebook', 'said', 'artificial', 'intelligence', 'helpful', 'current', 'form', 'continue', 'assist', 'humans', 'experts', 'argue', 'risks', 'far', 'enough', 'future', 'worth', 'researching', 'humans', 'valuable', 'perspective', 'superintelligent', 'machine', 'rodney', 'brooks', 'particular', 'said', 'malevolent', 'ai', 'still', 'centuries', 'away', 'w', 'friendly', 'ai', 'machines', 'designed', 'beginning', 'minimize', 'risks', 'make', 'choices', 'benefit', 'humans', 'eliezer', 'yudkowsky', 'coined', 'term', 'argues', 'developing', 'friendly', 'ai', 'higher', 'research', 'priority', 'may', 'require', 'large', 'investment', 'must', 'completed', 'ai', 'becomes', 'existential', 'risk', 'machines', 'intelligence', 'potential', 'use', 'intelligence', 'make', 'ethical', 'decisions', 'field', 'machine', 'ethics', 'provides', 'machines', 'ethical', 'principles', 'procedures', 'resolving', 'ethical', 'dilemmas', 'machine', 'ethics', 'also', 'called', 'machine', 'morality', 'computational', 'ethics', 'computational', 'morality', 'founded', 'aaai', 'symposium', 'others', 'approaches', 'include', 'wendell', 'wallach', 'artificial', 'moral', 'agents', 'stuart', 'j', 'russell', 'three', 'principles', 'developing', 'provably', 'beneficial', 'machines', 'regulation', 'artificial', 'intelligence', 'development', 'public', 'sector', 'policies', 'laws', 'promoting', 'regulating', 'artificial', 'intelligence', 'ai', 'therefore', 'related', 'broader', 'regulation', 'algorithms', 'regulatory', 'policy', 'landscape', 'ai', 'emerging', 'issue', 'jurisdictions', 'globally', 'countries', 'adopted', 'dedicated', 'strategies', 'ai', 'eu', 'member', 'states', 'released', 'national', 'ai', 'strategies', 'canada', 'china', 'india', 'japan', 'mauritius', 'russian', 'federation', 'saudi', 'arabia', 'united', 'arab', 'emirates', 'usa', 'vietnam', 'others', 'process', 'elaborating', 'ai', 'strategy', 'including', 'bangladesh', 'malaysia', 'tunisia', 'global', 'partnership', 'artificial', 'intelligence', 'launched', 'june', 'stating', 'need', 'ai', 'developed', 'accordance', 'human', 'rights', 'democratic', 'values', 'ensure', 'public', 'confidence', 'trust', 'technology', 'henry', 'kissinger', 'eric', 'schmidt', 'daniel', 'huttenlocher', 'published', 'joint', 'statement', 'november', 'calling', 'government', 'commission', 'regulate', 'ai', 'thought', 'capable', 'artificial', 'beings', 'appeared', 'storytelling', 'devices', 'since', 'antiquity', 'persistent', 'theme', 'science', 'fiction', 'common', 'trope', 'works', 'began', 'mary', 'shelley', 'frankenstein', 'human', 'creation', 'becomes', 'threat', 'masters', 'includes', 'works', 'arthur', 'c', 'clarke', 'stanley', 'kubrick', 'space', 'odyssey', 'hal', 'murderous', 'computer', 'charge', 'discovery', 'one', 'spaceship', 'well', 'terminator', 'matrix', 'contrast', 'rare', 'loyal', 'robots', 'gort', 'day', 'earth', 'stood', 'still', 'bishop', 'aliens', 'less', 'prominent', 'popular', 'culture', 'isaac', 'asimov', 'introduced', 'three', 'laws', 'robotics', 'many', 'books', 'stories', 'notably', 'multivac', 'series', 'super', 'intelligent', 'computer', 'name', 'asimov', 'laws', 'often', 'brought', 'lay', 'discussions', 'machine', 'ethics', 'almost', 'artificial', 'intelligence', 'researchers', 'familiar', 'asimov', 'laws', 'popular', 'culture', 'generally', 'consider', 'laws', 'useless', 'many', 'reasons', 'one', 'ambiguity', 'transhumanism', 'merging', 'humans', 'machines', 'explored', 'manga', 'ghost', 'shell', 'science', 'fiction', 'series', 'dune', 'several', 'works', 'use', 'ai', 'force', 'us', 'confront', 'fundamental', 'question', 'makes', 'us', 'human', 'showing', 'us', 'artificial', 'beings', 'ability', 'feel', 'thus', 'suffer', 'appears', 'karel', 'apek', 'r', 'u', 'r', 'films', 'artificial', 'intelligence', 'ex', 'machina', 'well', 'novel', 'androids', 'dream', 'electric', 'sheep', 'philip', 'k', 'dick', 'dick', 'considers', 'idea', 'understanding', 'human', 'subjectivity', 'altered', 'technology', 'created', 'artificial', 'intelligence', 'four', 'widely', 'used', 'ai', 'textbooks', 'later', 'editions', 'two', 'widely', 'used', 'textbooks', 'see', 'also', 'logic', 'machines', 'fiction', 'list', 'fictional', 'computers']]\n"
     ]
    }
   ],
   "source": [
    "print(all_words[:100])"
   ]
  },
  {
   "cell_type": "markdown",
   "id": "f96c4b32",
   "metadata": {},
   "source": [
    "**3. Optain a dictionary of unique words**"
   ]
  },
  {
   "cell_type": "code",
   "execution_count": 40,
   "id": "c957d553",
   "metadata": {},
   "outputs": [],
   "source": [
    "from gensim.models import Word2Vec"
   ]
  },
  {
   "cell_type": "code",
   "execution_count": 41,
   "id": "233fd4e9",
   "metadata": {},
   "outputs": [],
   "source": [
    "word2vec = Word2Vec(all_words, min_count=2)\n",
    "#A value of 2 for min_count specifies to include only those words in the Word2Vec model \n",
    "#that appear at least twice in the corpus"
   ]
  },
  {
   "cell_type": "code",
   "execution_count": 42,
   "id": "aa50e5af",
   "metadata": {},
   "outputs": [
    {
     "data": {
      "text/plain": [
       "<gensim.models.word2vec.Word2Vec at 0x23e439548b0>"
      ]
     },
     "execution_count": 42,
     "metadata": {},
     "output_type": "execute_result"
    }
   ],
   "source": [
    "word2vec"
   ]
  },
  {
   "cell_type": "code",
   "execution_count": 43,
   "id": "1c937b63",
   "metadata": {},
   "outputs": [
    {
     "data": {
      "text/plain": [
       "750"
      ]
     },
     "execution_count": 43,
     "metadata": {},
     "output_type": "execute_result"
    }
   ],
   "source": [
    "len(word2vec.wv)\n",
    "# 750 unique words that exist at least twice in the corpus"
   ]
  },
  {
   "cell_type": "code",
   "execution_count": 44,
   "id": "e4c45f3c",
   "metadata": {},
   "outputs": [
    {
     "data": {
      "text/plain": [
       "{'ai': 0,\n",
       " 'intelligence': 1,\n",
       " 'artificial': 2,\n",
       " 'human': 3,\n",
       " 'learning': 4,\n",
       " 'problems': 5,\n",
       " 'machine': 6,\n",
       " 'many': 7,\n",
       " 'used': 8,\n",
       " 'research': 9,\n",
       " 'networks': 10,\n",
       " 'knowledge': 11,\n",
       " 'agent': 12,\n",
       " 'intelligent': 13,\n",
       " 'researchers': 14,\n",
       " 'also': 15,\n",
       " 'neural': 16,\n",
       " 'search': 17,\n",
       " 'general': 18,\n",
       " 'logic': 19,\n",
       " 'machines': 20,\n",
       " 'use': 21,\n",
       " 'system': 22,\n",
       " 'field': 23,\n",
       " 'symbolic': 24,\n",
       " 'algorithms': 25,\n",
       " 'would': 26,\n",
       " 'may': 27,\n",
       " 'problem': 28,\n",
       " 'mind': 29,\n",
       " 'systems': 30,\n",
       " 'humans': 31,\n",
       " 'reasoning': 32,\n",
       " 'data': 33,\n",
       " 'could': 34,\n",
       " 'mathematical': 35,\n",
       " 'solve': 36,\n",
       " 'computer': 37,\n",
       " 'optimization': 38,\n",
       " 'however': 39,\n",
       " 'specific': 40,\n",
       " 'goals': 41,\n",
       " 'goal': 42,\n",
       " 'example': 43,\n",
       " 'decision': 44,\n",
       " 'developed': 45,\n",
       " 'number': 46,\n",
       " 'based': 47,\n",
       " 'behavior': 48,\n",
       " 'theory': 49,\n",
       " 'computing': 50,\n",
       " 'even': 51,\n",
       " 'algorithm': 52,\n",
       " 'information': 53,\n",
       " 'world': 54,\n",
       " 'fiction': 55,\n",
       " 'one': 56,\n",
       " 'program': 57,\n",
       " 'level': 58,\n",
       " 'deep': 59,\n",
       " 'approaches': 60,\n",
       " 'recognition': 61,\n",
       " 'term': 62,\n",
       " 'difficult': 63,\n",
       " 'u': 64,\n",
       " 'language': 65,\n",
       " 'risk': 66,\n",
       " 'tools': 67,\n",
       " 'include': 68,\n",
       " 'widely': 69,\n",
       " 'whether': 70,\n",
       " 'several': 71,\n",
       " 'first': 72,\n",
       " 'neurons': 73,\n",
       " 'two': 74,\n",
       " 'including': 75,\n",
       " 'using': 76,\n",
       " 'input': 77,\n",
       " 'sub': 78,\n",
       " 'planning': 79,\n",
       " 'make': 80,\n",
       " 'applications': 81,\n",
       " 'form': 82,\n",
       " 'particular': 83,\n",
       " 'methods': 84,\n",
       " 'large': 85,\n",
       " 'increase': 86,\n",
       " 'step': 87,\n",
       " 'process': 88,\n",
       " 'objects': 89,\n",
       " 'formal': 90,\n",
       " 'perception': 91,\n",
       " 'inputs': 92,\n",
       " 'question': 93,\n",
       " 'since': 94,\n",
       " 'solving': 95,\n",
       " 'rather': 96,\n",
       " 'called': 97,\n",
       " 'know': 98,\n",
       " 'known': 99,\n",
       " 'model': 100,\n",
       " 'others': 101,\n",
       " 'ability': 102,\n",
       " 'successful': 103,\n",
       " 'programs': 104,\n",
       " 'beings': 105,\n",
       " 'became': 106,\n",
       " 'issue': 107,\n",
       " 'turing': 108,\n",
       " 'described': 109,\n",
       " 'natural': 110,\n",
       " 'well': 111,\n",
       " 'processing': 112,\n",
       " 'classifiers': 113,\n",
       " 'began': 114,\n",
       " 'examples': 115,\n",
       " 'economics': 116,\n",
       " 'long': 117,\n",
       " 'techniques': 118,\n",
       " 'robotics': 119,\n",
       " 'processes': 120,\n",
       " 'ethics': 121,\n",
       " 'easy': 122,\n",
       " 'philosophy': 123,\n",
       " 'science': 124,\n",
       " 'statistical': 125,\n",
       " 'logics': 126,\n",
       " 'learn': 127,\n",
       " 'choices': 128,\n",
       " 'makes': 129,\n",
       " 'often': 130,\n",
       " 'simple': 131,\n",
       " 'uses': 132,\n",
       " 'become': 133,\n",
       " 'robots': 134,\n",
       " 'commonsense': 135,\n",
       " 'facts': 136,\n",
       " 'tasks': 137,\n",
       " 'considered': 138,\n",
       " 'solutions': 139,\n",
       " 'future': 140,\n",
       " 'environment': 141,\n",
       " 'actions': 142,\n",
       " 'states': 143,\n",
       " 'computers': 144,\n",
       " 'brain': 145,\n",
       " 'far': 146,\n",
       " 'like': 147,\n",
       " 'advanced': 148,\n",
       " 'thus': 149,\n",
       " 'software': 150,\n",
       " 'creating': 151,\n",
       " 'modern': 152,\n",
       " 'simulate': 153,\n",
       " 'calculus': 154,\n",
       " 'understanding': 155,\n",
       " 'real': 156,\n",
       " 'possible': 157,\n",
       " 'google': 158,\n",
       " 'agents': 159,\n",
       " 'allow': 160,\n",
       " 'different': 161,\n",
       " 'forms': 162,\n",
       " 'argues': 163,\n",
       " 'classification': 164,\n",
       " 'experience': 165,\n",
       " 'soft': 166,\n",
       " 'function': 167,\n",
       " 'layers': 168,\n",
       " 'outputs': 169,\n",
       " 'popular': 170,\n",
       " 'capable': 171,\n",
       " 'jobs': 172,\n",
       " 'rights': 173,\n",
       " 'argue': 174,\n",
       " 'r': 175,\n",
       " 'definition': 176,\n",
       " 'representation': 177,\n",
       " 'laws': 178,\n",
       " 'multi': 179,\n",
       " 'go': 180,\n",
       " 'us': 181,\n",
       " 'requires': 182,\n",
       " 'inspired': 183,\n",
       " 'simulated': 184,\n",
       " 'logical': 185,\n",
       " 'much': 186,\n",
       " 'lead': 187,\n",
       " 'evolutionary': 188,\n",
       " 'solution': 189,\n",
       " 'among': 190,\n",
       " 'patterns': 191,\n",
       " 'projects': 192,\n",
       " 'heuristics': 193,\n",
       " 'directly': 194,\n",
       " 'classify': 195,\n",
       " 'k': 196,\n",
       " 'viewed': 197,\n",
       " 'swarm': 198,\n",
       " 'spam': 199,\n",
       " 'classifier': 200,\n",
       " 'space': 201,\n",
       " 'computational': 202,\n",
       " 'common': 203,\n",
       " 'sufficiently': 204,\n",
       " 'digital': 205,\n",
       " 'analysis': 206,\n",
       " 'potential': 207,\n",
       " 'antiquity': 208,\n",
       " 'time': 209,\n",
       " 'people': 210,\n",
       " 'events': 211,\n",
       " 'domains': 212,\n",
       " 'work': 213,\n",
       " 'made': 214,\n",
       " 'person': 215,\n",
       " 'set': 216,\n",
       " 'symbol': 217,\n",
       " 'categories': 218,\n",
       " 'early': 219,\n",
       " 'works': 220,\n",
       " 'functions': 221,\n",
       " 'idea': 222,\n",
       " 'highly': 223,\n",
       " 'class': 224,\n",
       " 'layer': 225,\n",
       " 'years': 226,\n",
       " 'russell': 227,\n",
       " 'network': 228,\n",
       " 'funding': 229,\n",
       " 'previous': 230,\n",
       " 'e': 231,\n",
       " 'introduced': 232,\n",
       " 'g': 233,\n",
       " 'still': 234,\n",
       " 'bias': 235,\n",
       " 'new': 236,\n",
       " 'neuron': 237,\n",
       " 'training': 238,\n",
       " 'feel': 239,\n",
       " 'together': 240,\n",
       " 'paradigm': 241,\n",
       " 'high': 242,\n",
       " 'technique': 243,\n",
       " 'success': 244,\n",
       " 'designed': 245,\n",
       " 'test': 246,\n",
       " 'technology': 247,\n",
       " 'fields': 248,\n",
       " 'study': 249,\n",
       " 'effect': 250,\n",
       " 'making': 251,\n",
       " 'things': 252,\n",
       " 'guess': 253,\n",
       " 'move': 254,\n",
       " 'certain': 255,\n",
       " 'relations': 256,\n",
       " 'c': 257,\n",
       " 'provides': 258,\n",
       " 'ontologies': 259,\n",
       " 'access': 260,\n",
       " 'properties': 261,\n",
       " 'without': 262,\n",
       " 'agree': 263,\n",
       " 'speech': 264,\n",
       " 'norvig': 265,\n",
       " 'change': 266,\n",
       " 'show': 267,\n",
       " 'ontology': 268,\n",
       " 'game': 269,\n",
       " 'games': 270,\n",
       " 'assume': 271,\n",
       " 'discovery': 272,\n",
       " 'express': 273,\n",
       " 'default': 274,\n",
       " 'driving': 275,\n",
       " 'conscious': 276,\n",
       " 'simulation': 277,\n",
       " 'self': 278,\n",
       " 'true': 279,\n",
       " 'founder': 280,\n",
       " 'typically': 281,\n",
       " 'amazon': 282,\n",
       " 'consider': 283,\n",
       " 'knows': 284,\n",
       " 'breadth': 285,\n",
       " 'said': 286,\n",
       " 'generally': 287,\n",
       " 'statements': 288,\n",
       " 'need': 289,\n",
       " 'area': 290,\n",
       " 'likely': 291,\n",
       " 'word': 292,\n",
       " 'critics': 293,\n",
       " 'define': 294,\n",
       " 'fuzzy': 295,\n",
       " 'position': 296,\n",
       " 'might': 297,\n",
       " 'superintelligent': 298,\n",
       " 'failed': 299,\n",
       " 'cognitive': 300,\n",
       " 'maximize': 301,\n",
       " 'engineering': 302,\n",
       " 'defendants': 303,\n",
       " 'pattern': 304,\n",
       " 'especially': 305,\n",
       " 'concepts': 306,\n",
       " 'textbooks': 307,\n",
       " 'able': 308,\n",
       " 'approach': 309,\n",
       " 'longer': 310,\n",
       " 'governments': 311,\n",
       " 'friendly': 312,\n",
       " 'morality': 313,\n",
       " 'experts': 314,\n",
       " 'ethical': 315,\n",
       " 'asimov': 316,\n",
       " 'late': 317,\n",
       " 'finding': 318,\n",
       " 'subjective': 319,\n",
       " 'narrow': 320,\n",
       " 'proposed': 321,\n",
       " 'philosopher': 322,\n",
       " 'strategies': 323,\n",
       " 'reason': 324,\n",
       " 'concern': 325,\n",
       " 'recommendation': 326,\n",
       " 'involves': 327,\n",
       " 'middle': 328,\n",
       " 'principles': 329,\n",
       " 'superintelligence': 330,\n",
       " 'due': 331,\n",
       " 'within': 332,\n",
       " 'considers': 333,\n",
       " 'benchmarks': 334,\n",
       " 'accuracy': 335,\n",
       " 'web': 336,\n",
       " 'care': 337,\n",
       " 'algorithmic': 338,\n",
       " 'rarely': 339,\n",
       " 'generation': 340,\n",
       " 'produce': 341,\n",
       " 'champion': 342,\n",
       " 'probability': 343,\n",
       " 'chess': 344,\n",
       " 'various': 345,\n",
       " 'activation': 346,\n",
       " 'central': 347,\n",
       " 'humanity': 348,\n",
       " 'powerful': 349,\n",
       " 'related': 350,\n",
       " 'similar': 351,\n",
       " 'way': 352,\n",
       " 'moravec': 353,\n",
       " 'dynamic': 354,\n",
       " 'gradient': 355,\n",
       " 'classifies': 356,\n",
       " 'statistics': 357,\n",
       " 'winter': 358,\n",
       " 'n': 359,\n",
       " 'text': 360,\n",
       " 'straightforward': 361,\n",
       " 'part': 362,\n",
       " 'enormous': 363,\n",
       " 'object': 364,\n",
       " 'st': 365,\n",
       " 'body': 366,\n",
       " 'robot': 367,\n",
       " 'analyze': 368,\n",
       " 'animal': 369,\n",
       " 'movement': 370,\n",
       " 'individual': 371,\n",
       " 'matching': 372,\n",
       " 'physical': 373,\n",
       " 'match': 374,\n",
       " 'searching': 375,\n",
       " 'performance': 376,\n",
       " 'assess': 377,\n",
       " 'tend': 378,\n",
       " 'bayesian': 379,\n",
       " 'century': 380,\n",
       " 'development': 381,\n",
       " 'facebook': 382,\n",
       " 'regression': 383,\n",
       " 'truth': 384,\n",
       " 'reach': 385,\n",
       " 'prevent': 386,\n",
       " 'require': 387,\n",
       " 'improve': 388,\n",
       " 'microsoft': 389,\n",
       " 'something': 390,\n",
       " 'computation': 391,\n",
       " 'needed': 392,\n",
       " 'given': 393,\n",
       " 'genetic': 394,\n",
       " 'playing': 395,\n",
       " 'begin': 396,\n",
       " 'led': 397,\n",
       " 'programming': 398,\n",
       " 'founded': 399,\n",
       " 'identify': 400,\n",
       " 'around': 401,\n",
       " 'academic': 402,\n",
       " 'relationship': 403,\n",
       " 'image': 404,\n",
       " 'point': 405,\n",
       " 'path': 406,\n",
       " 'higher': 407,\n",
       " 'industry': 408,\n",
       " 'wide': 409,\n",
       " 'philosophical': 410,\n",
       " 'proved': 411,\n",
       " 'british': 412,\n",
       " 'solved': 413,\n",
       " 'minsky': 414,\n",
       " 'arguments': 415,\n",
       " 'demonstrated': 416,\n",
       " 'substantially': 417,\n",
       " 'takes': 418,\n",
       " 'displayed': 419,\n",
       " 'helping': 420,\n",
       " 'leading': 421,\n",
       " 'precisely': 422,\n",
       " 'assumption': 423,\n",
       " 'range': 424,\n",
       " 'later': 425,\n",
       " 'psychology': 426,\n",
       " 'achieving': 427,\n",
       " 'rejected': 428,\n",
       " 'next': 429,\n",
       " 'revived': 430,\n",
       " 'recognize': 431,\n",
       " 'upon': 432,\n",
       " 'perceives': 433,\n",
       " 'simulating': 434,\n",
       " 'marvin': 435,\n",
       " 'predicted': 436,\n",
       " 'shelley': 437,\n",
       " 'frankenstein': 438,\n",
       " 'karel': 439,\n",
       " 'apek': 440,\n",
       " 'design': 441,\n",
       " 'discussed': 442,\n",
       " 'followed': 443,\n",
       " 'waves': 444,\n",
       " 'experienced': 445,\n",
       " 'alexa': 446,\n",
       " 'possibility': 447,\n",
       " 'philosophers': 448,\n",
       " 'frequently': 449,\n",
       " 'alan': 450,\n",
       " 'cybernetics': 451,\n",
       " 'phenomenon': 452,\n",
       " 'cars': 453,\n",
       " 'neurobiology': 454,\n",
       " 'thesis': 455,\n",
       " 'church': 456,\n",
       " 'citation': 457,\n",
       " 'deduction': 458,\n",
       " 'act': 459,\n",
       " 'siri': 460,\n",
       " 'mary': 461,\n",
       " 'devices': 462,\n",
       " 'suggested': 463,\n",
       " 'engines': 464,\n",
       " 'simon': 465,\n",
       " 'eventually': 466,\n",
       " 'databases': 467,\n",
       " 'established': 468,\n",
       " 'funded': 469,\n",
       " 'heavily': 470,\n",
       " 'issues': 471,\n",
       " 'explored': 472,\n",
       " 'theorems': 473,\n",
       " 'algebra': 474,\n",
       " 'mid': 475,\n",
       " 'power': 476,\n",
       " 'existential': 477,\n",
       " 'produced': 478,\n",
       " 'gofai': 479,\n",
       " 'manipulation': 480,\n",
       " 'appeared': 481,\n",
       " 'youtube': 482,\n",
       " 'storytelling': 483,\n",
       " 'netflix': 484,\n",
       " 'reduced': 485,\n",
       " 'competing': 486,\n",
       " 'dick': 487,\n",
       " 'commercial': 488,\n",
       " 'weighted': 489,\n",
       " 'wire': 490,\n",
       " 'continuous': 491,\n",
       " 'spectrum': 492,\n",
       " 'complex': 493,\n",
       " 'descent': 494,\n",
       " 'created': 495,\n",
       " 'competitive': 496,\n",
       " 'feedforward': 497,\n",
       " 'signal': 498,\n",
       " 'recurrent': 499,\n",
       " 'short': 500,\n",
       " 'perceptrons': 501,\n",
       " 'basis': 502,\n",
       " 'relevant': 503,\n",
       " 'improved': 504,\n",
       " 'important': 505,\n",
       " 'convolutional': 506,\n",
       " 'reduce': 507,\n",
       " 'back': 508,\n",
       " 'cases': 509,\n",
       " 'hardware': 510,\n",
       " 'includes': 511,\n",
       " 'list': 512,\n",
       " 'mainstream': 513,\n",
       " 'life': 514,\n",
       " 'autonomous': 515,\n",
       " 'apple': 516,\n",
       " 'face': 517,\n",
       " 'deepfakes': 518,\n",
       " 'fire': 519,\n",
       " 'extremely': 520,\n",
       " 'beat': 521,\n",
       " 'perform': 522,\n",
       " 'landscape': 523,\n",
       " 'guesses': 524,\n",
       " 'ant': 525,\n",
       " 'degree': 526,\n",
       " 'non': 527,\n",
       " 'handle': 528,\n",
       " 'situation': 529,\n",
       " 'belief': 530,\n",
       " 'filtering': 531,\n",
       " 'markov': 532,\n",
       " 'models': 533,\n",
       " 'measure': 534,\n",
       " 'valuable': 535,\n",
       " 'simplest': 536,\n",
       " 'divided': 537,\n",
       " 'diamond': 538,\n",
       " 'controllers': 539,\n",
       " 'therefore': 540,\n",
       " 'observations': 541,\n",
       " 'observation': 542,\n",
       " 'classified': 543,\n",
       " 'trained': 544,\n",
       " 'nearest': 545,\n",
       " 'neighbor': 546,\n",
       " 'svm': 547,\n",
       " 'naive': 548,\n",
       " 'bayes': 549,\n",
       " 'scalability': 550,\n",
       " 'depends': 551,\n",
       " 'blue': 552,\n",
       " 'jeopardy': 553,\n",
       " 'market': 554,\n",
       " 'centuries': 555,\n",
       " 'better': 556,\n",
       " 'singularity': 557,\n",
       " 'transhumanism': 558,\n",
       " 'name': 559,\n",
       " 'economists': 560,\n",
       " 'benefit': 561,\n",
       " 'automation': 562,\n",
       " 'white': 563,\n",
       " 'collar': 564,\n",
       " 'worth': 565,\n",
       " 'surveillance': 566,\n",
       " 'misinformation': 567,\n",
       " 'countries': 568,\n",
       " 'researching': 569,\n",
       " 'unfair': 570,\n",
       " 'compas': 571,\n",
       " 'stephen': 572,\n",
       " 'hawking': 573,\n",
       " 'resources': 574,\n",
       " 'shut': 575,\n",
       " 'musk': 576,\n",
       " 'prominent': 577,\n",
       " 'risks': 578,\n",
       " 'developing': 579,\n",
       " 'becomes': 580,\n",
       " 'three': 581,\n",
       " 'regulation': 582,\n",
       " 'public': 583,\n",
       " 'culture': 584,\n",
       " 'institute': 585,\n",
       " 'hypothetical': 586,\n",
       " 'becoming': 587,\n",
       " 'suffer': 588,\n",
       " 'superhuman': 589,\n",
       " 'deepmind': 590,\n",
       " 'decisions': 591,\n",
       " 'wrote': 592,\n",
       " 'thing': 593,\n",
       " 'thinking': 594,\n",
       " 'john': 595,\n",
       " 'exactly': 596,\n",
       " 'pigeons': 597,\n",
       " 'argued': 598,\n",
       " 'scientific': 599,\n",
       " 'history': 600,\n",
       " 'see': 601,\n",
       " 'necessary': 602,\n",
       " 'away': 603,\n",
       " 'impossible': 604,\n",
       " 'neats': 605,\n",
       " 'provably': 606,\n",
       " 'consciousness': 607,\n",
       " 'sense': 608,\n",
       " 'stuart': 609,\n",
       " 'peter': 610,\n",
       " 'named': 611,\n",
       " 'hard': 612,\n",
       " 'explain': 613,\n",
       " 'learned': 614,\n",
       " 'red': 615,\n",
       " 'computationalism': 616,\n",
       " 'searle': 617,\n",
       " 'random': 618,\n",
       " 'blind': 619,\n",
       " 'came': 620,\n",
       " 'puzzles': 621,\n",
       " 'uncertain': 622,\n",
       " 'incomplete': 623,\n",
       " 'explosion': 624,\n",
       " 'exponentially': 625,\n",
       " 'fast': 626,\n",
       " 'questions': 627,\n",
       " 'intelligently': 628,\n",
       " 'exists': 629,\n",
       " 'interpret': 630,\n",
       " 'attempt': 631,\n",
       " 'domain': 632,\n",
       " 'average': 633,\n",
       " 'series': 634,\n",
       " 'description': 635,\n",
       " 'told': 636,\n",
       " 'changing': 637,\n",
       " 'retrieval': 638,\n",
       " 'support': 639,\n",
       " 'areas': 640,\n",
       " 'plan': 641,\n",
       " 'state': 642,\n",
       " 'predictions': 643,\n",
       " 'utility': 644,\n",
       " 'value': 645,\n",
       " 'available': 646,\n",
       " 'uncertainty': 647,\n",
       " 'achieve': 648,\n",
       " 'fundamental': 649,\n",
       " 'concept': 650,\n",
       " 'deductions': 651,\n",
       " 'received': 652,\n",
       " 'size': 653,\n",
       " 'expect': 654,\n",
       " 'billion': 655,\n",
       " 'japan': 656,\n",
       " 'beginning': 657,\n",
       " 'lisp': 658,\n",
       " 'rodney': 659,\n",
       " 'brooks': 660,\n",
       " 'survive': 661,\n",
       " 'interest': 662,\n",
       " 'david': 663,\n",
       " 'verifiable': 664,\n",
       " 'mathematics': 665,\n",
       " 'although': 666,\n",
       " 'hungry': 667,\n",
       " 'according': 668,\n",
       " 'increased': 669,\n",
       " 'j': 670,\n",
       " 'survey': 671,\n",
       " 'companies': 672,\n",
       " 'reported': 673,\n",
       " 'incorporated': 674,\n",
       " 'total': 675,\n",
       " 'numerous': 676,\n",
       " 'concerned': 677,\n",
       " 'fully': 678,\n",
       " 'current': 679,\n",
       " 'agi': 680,\n",
       " 'institutions': 681,\n",
       " 'traits': 682,\n",
       " 'capabilities': 683,\n",
       " 'finds': 684,\n",
       " 'supervised': 685,\n",
       " 'main': 686,\n",
       " 'determine': 687,\n",
       " 'joint': 688,\n",
       " 'despite': 689,\n",
       " 'affective': 690,\n",
       " 'virtual': 691,\n",
       " 'assistants': 692,\n",
       " 'programmed': 693,\n",
       " 'interaction': 694,\n",
       " 'otherwise': 695,\n",
       " 'existing': 696,\n",
       " 'actually': 697,\n",
       " 'successes': 698,\n",
       " 'sentiment': 699,\n",
       " 'hans': 700,\n",
       " 'architecture': 701,\n",
       " 'hopes': 702,\n",
       " 'believe': 703,\n",
       " 'features': 704,\n",
       " 'inference': 705,\n",
       " 'find': 706,\n",
       " 'target': 707,\n",
       " 'means': 708,\n",
       " 'moving': 709,\n",
       " 'searches': 710,\n",
       " 'sufficient': 711,\n",
       " 'result': 712,\n",
       " 'steps': 713,\n",
       " 'tree': 714,\n",
       " 'supply': 715,\n",
       " 'best': 716,\n",
       " 'task': 717,\n",
       " 'motion': 718,\n",
       " 'visible': 719,\n",
       " 'understand': 720,\n",
       " 'belongs': 721,\n",
       " 'learners': 722,\n",
       " 'maps': 723,\n",
       " 'good': 724,\n",
       " 'responses': 725,\n",
       " 'ones': 726,\n",
       " 'strategy': 727,\n",
       " 'applied': 728,\n",
       " 'complexity': 729,\n",
       " 'sample': 730,\n",
       " 'required': 731,\n",
       " 'nlp': 732,\n",
       " 'allows': 733,\n",
       " 'sources': 734,\n",
       " 'visual': 735,\n",
       " 'texts': 736,\n",
       " 'answering': 737,\n",
       " 'translation': 738,\n",
       " 'translate': 739,\n",
       " 'structure': 740,\n",
       " 'useful': 741,\n",
       " 'occurrence': 742,\n",
       " 'appears': 743,\n",
       " 'another': 744,\n",
       " 'sensors': 745,\n",
       " 'signals': 746,\n",
       " 'facial': 747,\n",
       " 'vision': 748,\n",
       " 'represented': 749}"
      ]
     },
     "execution_count": 44,
     "metadata": {},
     "output_type": "execute_result"
    }
   ],
   "source": [
    "#see the dictionary of unique words that exist at least twice in the corpus\n",
    "word2vec.wv.key_to_index"
   ]
  },
  {
   "cell_type": "markdown",
   "id": "9cd61777",
   "metadata": {},
   "source": [
    "**Finding Vectors for a Word**"
   ]
  },
  {
   "cell_type": "code",
   "execution_count": 45,
   "id": "de5a54ed",
   "metadata": {},
   "outputs": [],
   "source": [
    "v1 = word2vec.wv['artificial']"
   ]
  },
  {
   "cell_type": "code",
   "execution_count": 46,
   "id": "90801a0f",
   "metadata": {},
   "outputs": [
    {
     "data": {
      "text/plain": [
       "100"
      ]
     },
     "execution_count": 46,
     "metadata": {},
     "output_type": "execute_result"
    }
   ],
   "source": [
    "len(v1)"
   ]
  },
  {
   "cell_type": "code",
   "execution_count": 47,
   "id": "578d3583",
   "metadata": {},
   "outputs": [
    {
     "data": {
      "text/plain": [
       "array([-1.42290466e-03,  5.43665839e-03, -6.30422495e-03, -4.49720974e-04,\n",
       "        7.86987413e-03,  3.30994185e-03, -2.59119598e-03,  9.24328342e-03,\n",
       "       -1.01678325e-02,  4.57855454e-03, -6.20572083e-03, -6.68462971e-03,\n",
       "        9.10018198e-03,  6.25992136e-04,  7.67299067e-03, -7.07538659e-03,\n",
       "        5.52959088e-03,  7.22187571e-03, -8.77466239e-03, -1.10086938e-02,\n",
       "       -5.43525489e-03, -3.96942673e-03, -3.03092739e-03, -9.17318091e-03,\n",
       "        6.57282304e-03, -4.56776749e-03,  6.88859122e-03,  2.29814369e-03,\n",
       "       -7.92252552e-03,  4.80014551e-03,  8.98143649e-03, -6.43738825e-03,\n",
       "       -5.63387107e-03, -3.73657886e-03, -1.02189388e-02,  1.87355385e-03,\n",
       "       -2.54990387e-04,  2.52499478e-04, -7.73155480e-04, -7.27296807e-03,\n",
       "       -5.77847520e-03, -9.18835867e-04, -1.39808515e-03,  6.02497300e-03,\n",
       "        6.08967151e-03,  2.91371578e-03,  5.33135899e-05, -2.32357741e-03,\n",
       "       -3.50048952e-03, -1.44378093e-04,  2.62725679e-03, -5.62598929e-03,\n",
       "       -7.28549203e-03, -7.28721544e-03, -1.15536097e-02, -4.40779794e-03,\n",
       "       -9.00542480e-04, -4.24014265e-03, -9.85682383e-03, -2.56390544e-03,\n",
       "        4.89049545e-03, -3.14114196e-03,  7.43913231e-03, -9.32818002e-05,\n",
       "       -1.09041631e-02,  1.05621228e-02,  8.50927830e-03,  7.29777338e-03,\n",
       "       -1.01738004e-02,  8.47258698e-03,  2.00543390e-03,  5.90082118e-03,\n",
       "        6.87395409e-03,  9.78109427e-04, -2.00741284e-04,  1.00176334e-02,\n",
       "        9.18973051e-03,  2.85853934e-03, -4.75630118e-03,  2.71326560e-03,\n",
       "       -3.89149558e-04, -9.69949737e-03, -1.08380383e-02,  3.80698126e-03,\n",
       "        6.46392175e-04, -5.39508415e-03, -4.71591158e-03, -3.84700415e-03,\n",
       "        1.19544268e-02, -3.86679254e-04, -5.94755635e-04,  7.37954210e-03,\n",
       "        9.09942668e-03, -3.28657241e-03,  1.19661288e-02,  8.65752343e-03,\n",
       "        8.04531761e-03, -2.60034204e-03,  9.70046408e-03, -7.73834437e-03],\n",
       "      dtype=float32)"
      ]
     },
     "execution_count": 47,
     "metadata": {},
     "output_type": "execute_result"
    }
   ],
   "source": [
    "v1\n",
    "#The vector v1 contains the vector representation for the word \"artificial\". \n",
    "#By default, a hundred dimensional vector is created by Gensim Word2Vec. "
   ]
  },
  {
   "cell_type": "markdown",
   "id": "11daff1f",
   "metadata": {},
   "source": [
    "**Finding Similar Words**"
   ]
  },
  {
   "cell_type": "code",
   "execution_count": 48,
   "id": "4d213127",
   "metadata": {},
   "outputs": [],
   "source": [
    "sim_words = word2vec.wv.most_similar('intelligence')"
   ]
  },
  {
   "cell_type": "code",
   "execution_count": 49,
   "id": "a9114f1f",
   "metadata": {},
   "outputs": [
    {
     "data": {
      "text/plain": [
       "[('conscious', 0.3783529996871948),\n",
       " ('may', 0.30903714895248413),\n",
       " ('rather', 0.305675208568573),\n",
       " ('system', 0.3019578158855438),\n",
       " ('like', 0.2993031442165375),\n",
       " ('general', 0.2974075675010681),\n",
       " ('intelligent', 0.2964823544025421),\n",
       " ('u', 0.2839393615722656),\n",
       " ('even', 0.2829388380050659),\n",
       " ('search', 0.2755674719810486)]"
      ]
     },
     "execution_count": 49,
     "metadata": {},
     "output_type": "execute_result"
    }
   ],
   "source": [
    "sim_words\n",
    "#From the output, you can see the words similar to \"intelligence\" along with their similarity index"
   ]
  },
  {
   "cell_type": "code",
   "execution_count": null,
   "id": "9ebd52fb",
   "metadata": {},
   "outputs": [],
   "source": []
  }
 ],
 "metadata": {
  "kernelspec": {
   "display_name": "Python 3",
   "language": "python",
   "name": "python3"
  },
  "language_info": {
   "codemirror_mode": {
    "name": "ipython",
    "version": 3
   },
   "file_extension": ".py",
   "mimetype": "text/x-python",
   "name": "python",
   "nbconvert_exporter": "python",
   "pygments_lexer": "ipython3",
   "version": "3.8.6"
  }
 },
 "nbformat": 4,
 "nbformat_minor": 5
}
