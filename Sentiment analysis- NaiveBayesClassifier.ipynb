{
 "cells": [
  {
   "cell_type": "code",
   "execution_count": 1,
   "id": "f7cfc275",
   "metadata": {},
   "outputs": [],
   "source": [
    "import nltk\n",
    "from nltk.corpus import movie_reviews\n",
    "import random\n",
    "import pandas as pd"
   ]
  },
  {
   "cell_type": "markdown",
   "id": "680008bc",
   "metadata": {},
   "source": [
    "### 1.Load data"
   ]
  },
  {
   "cell_type": "code",
   "execution_count": 2,
   "id": "5d6c314c",
   "metadata": {},
   "outputs": [
    {
     "data": {
      "text/plain": [
       "nltk.corpus.util.LazyCorpusLoader"
      ]
     },
     "execution_count": 2,
     "metadata": {},
     "output_type": "execute_result"
    }
   ],
   "source": [
    "type(movie_reviews)"
   ]
  },
  {
   "cell_type": "code",
   "execution_count": 3,
   "id": "d0b15e75",
   "metadata": {},
   "outputs": [
    {
     "data": {
      "text/plain": [
       "['neg', 'pos']"
      ]
     },
     "execution_count": 3,
     "metadata": {},
     "output_type": "execute_result"
    }
   ],
   "source": [
    "movie_reviews.categories()"
   ]
  },
  {
   "cell_type": "code",
   "execution_count": 4,
   "id": "aa5ec89b",
   "metadata": {},
   "outputs": [],
   "source": [
    "documents = [(list(movie_reviews.words(fileid)), category)\n",
    "              for category in movie_reviews.categories()\n",
    "              for fileid in movie_reviews.fileids(category)]"
   ]
  },
  {
   "cell_type": "code",
   "execution_count": 5,
   "id": "9d1815b6",
   "metadata": {},
   "outputs": [],
   "source": [
    "random.shuffle(documents)"
   ]
  },
  {
   "cell_type": "code",
   "execution_count": 6,
   "id": "60f8c4bf",
   "metadata": {},
   "outputs": [
    {
     "data": {
      "text/plain": [
       "list"
      ]
     },
     "execution_count": 6,
     "metadata": {},
     "output_type": "execute_result"
    }
   ],
   "source": [
    "type(documents)"
   ]
  },
  {
   "cell_type": "code",
   "execution_count": 7,
   "id": "a0f080ca",
   "metadata": {},
   "outputs": [
    {
     "data": {
      "text/plain": [
       "2000"
      ]
     },
     "execution_count": 7,
     "metadata": {},
     "output_type": "execute_result"
    }
   ],
   "source": [
    "len(documents)"
   ]
  },
  {
   "cell_type": "code",
   "execution_count": 8,
   "id": "36f6607d",
   "metadata": {},
   "outputs": [
    {
     "name": "stdout",
     "output_type": "stream",
     "text": [
      "(['while', 'watching', 'wes', 'anderson', \"'\", 's', 'rushmore', ',', 'it', 'may', 'be', 'surprising', 'to', 'think', 'that', 'the', 'role', 'of', 'max', 'fischer', ',', 'the', 'film', \"'\", 's', 'anti', '-', 'hero', ',', 'was', 'not', 'written', 'with', 'jason', 'schwartzman', 'in', 'mind', '.', 'the', 'young', 'actor', ',', 'making', 'his', 'film', 'debut', 'as', 'a', '15', 'year', 'old', 'student', 'at', 'the', 'exclusive', 'rushmore', 'academy', 'is', 'so', 'perfect', 'in', 'the', 'role', 'that', 'it', 'comes', 'as', 'a', 'shock', 'that', 'anderson', 'auditioned', 'some', 'two', 'thousand', 'other', 'prospective', 'stars', 'before', 'discovering', 'schwarztman', '.', 'schwartzman', 'plays', 'max', ',', 'a', 'student', 'who', 'is', 'more', 'interested', 'in', 'his', 'extra', '-', 'curricular', 'activities', '(', 'such', 'as', 'writing', 'edgy', 'plays', 'like', '\"', 'serpico', '\"', 'and', 'being', 'president', 'of', 'the', 'rushmore', 'beekeepers', ')', 'but', 'sees', 'his', 'grades', 'suffer', 'as', 'a', 'result', '.', 'on', 'the', 'brink', 'of', 'being', 'thrown', 'out', ',', 'he', 'lands', 'himself', 'in', 'even', 'more', 'hot', 'water', 'when', 'he', 'falls', 'for', 'first', 'grade', 'teacher', 'rosemary', 'cross', '(', 'olivia', 'williams', ')', 'and', 'enlists', 'the', 'help', 'of', 'millionaire', 'acquaintance', 'herman', 'blume', '(', 'the', 'great', 'bill', 'murray', ')', 'to', 'build', 'an', 'aquarium', '(', 'on', 'rushmore', \"'\", 's', 'baseball', 'field', ')', 'in', 'her', 'honour', '.', 'unfortunately', 'for', 'everyone', 'involved', ',', 'blume', 'finds', 'that', 'he', 'has', 'feelings', 'for', 'miss', 'cross', 'as', 'well', ',', 'which', 'gets', 'in', 'the', 'way', 'of', 'max', \"'\", 's', 'plans', 'to', 'woo', 'her', '.', 'max', 'is', 'one', 'of', 'the', 'best', '-', 'written', 'characters', 'we', \"'\", 've', 'yet', 'seen', 'in', 'the', '90s', ',', 'and', 'schwartzman', 'plays', 'him', 'to', 'perfection', 'in', 'one', 'of', 'the', 'finest', 'comedy', 'performances', 'ever', 'given', 'by', 'someone', 'of', 'his', 'age', '.', 'as', 'everyone', 'else', 'has', 'probably', 'already', 'pointed', 'out', ',', 'he', 'is', 'reminiscent', 'of', 'a', 'young', 'dustin', 'hoffman', '(', 'although', 'i', 'was', 'reminded', 'more', 'of', 'paul', 'from', '\"', 'the', 'wonder', 'years', '\"', ',', 'from', 'a', 'visual', 'standpoint', ',', 'at', 'least', ')', '.', 'hopefully', ',', 'if', 'he', 'avoids', 'typecasting', 'as', 'weird', ',', 'quirky', 'loner', '-', 'types', 'he', 'should', 'earn', 'himself', 'a', 'good', 'career', '.', 'bill', 'murray', 'is', 'his', 'equal', 'as', 'blume', ',', 'displaying', 'a', 'depth', 'we', 'haven', \"'\", 't', 'yet', 'seen', 'from', 'him', '.', 'while', 'this', 'isn', \"'\", 't', 'his', 'best', 'performance', '(', 'that', 'honour', 'goes', 'to', 'groundhog', 'day', ')', 'he', 'is', 'still', 'terrific', 'here', '.', 'williams', 'isn', \"'\", 't', 'given', 'much', 'to', 'do', 'except', 'react', 'to', 'schwartzman', 'and', 'murray', ',', 'but', 'still', 'does', 'fine', 'work', '.', 'rushmore', 'seems', 'to', 'go', 'just', 'a', 'little', 'too', 'long', 'but', ',', 'while', 'it', 'isn', \"'\", 't', 'a', 'perfect', 'film', ',', 'it', 'is', 'a', 'definate', 'must', '-', 'see', 'for', 'anyone', 'who', 'wants', 'to', 'see', 'that', 'rarity', ',', 'an', 'american', 'coming', '-', 'of', '-', 'age', 'film', 'that', 'actually', 'works', 'well', 'without', 'an', 'excessive', 'amount', 'of', 'sentimentality', '.', 'anderson', 'has', 'created', 'a', 'modern', 'classic', 'with', 'a', 'star', 'who', 'should', ',', 'with', 'any', 'luck', ',', 'rise', 'to', 'even', 'greater', 'success', '.'], 'pos')\n"
     ]
    }
   ],
   "source": [
    "print(documents[0])\n",
    "# documents: list of 2000 tuple, each tuple contain data & target"
   ]
  },
  {
   "cell_type": "code",
   "execution_count": 9,
   "id": "26972571",
   "metadata": {},
   "outputs": [
    {
     "data": {
      "text/html": [
       "<div>\n",
       "<style scoped>\n",
       "    .dataframe tbody tr th:only-of-type {\n",
       "        vertical-align: middle;\n",
       "    }\n",
       "\n",
       "    .dataframe tbody tr th {\n",
       "        vertical-align: top;\n",
       "    }\n",
       "\n",
       "    .dataframe thead th {\n",
       "        text-align: right;\n",
       "    }\n",
       "</style>\n",
       "<table border=\"1\" class=\"dataframe\">\n",
       "  <thead>\n",
       "    <tr style=\"text-align: right;\">\n",
       "      <th></th>\n",
       "      <th>0</th>\n",
       "      <th>1</th>\n",
       "    </tr>\n",
       "  </thead>\n",
       "  <tbody>\n",
       "    <tr>\n",
       "      <th>0</th>\n",
       "      <td>[while, watching, wes, anderson, ', s, rushmor...</td>\n",
       "      <td>pos</td>\n",
       "    </tr>\n",
       "    <tr>\n",
       "      <th>1</th>\n",
       "      <td>[the, most, popular, trend, of, the, last, cou...</td>\n",
       "      <td>neg</td>\n",
       "    </tr>\n",
       "    <tr>\n",
       "      <th>2</th>\n",
       "      <td>[what, were, they, thinking, ?, nostalgia, for...</td>\n",
       "      <td>neg</td>\n",
       "    </tr>\n",
       "    <tr>\n",
       "      <th>3</th>\n",
       "      <td>[i, guess, that, if, a, very, wild, bachelor, ...</td>\n",
       "      <td>neg</td>\n",
       "    </tr>\n",
       "    <tr>\n",
       "      <th>4</th>\n",
       "      <td>[for, his, directoral, debut, ,, gary, oldman,...</td>\n",
       "      <td>neg</td>\n",
       "    </tr>\n",
       "  </tbody>\n",
       "</table>\n",
       "</div>"
      ],
      "text/plain": [
       "                                                   0    1\n",
       "0  [while, watching, wes, anderson, ', s, rushmor...  pos\n",
       "1  [the, most, popular, trend, of, the, last, cou...  neg\n",
       "2  [what, were, they, thinking, ?, nostalgia, for...  neg\n",
       "3  [i, guess, that, if, a, very, wild, bachelor, ...  neg\n",
       "4  [for, his, directoral, debut, ,, gary, oldman,...  neg"
      ]
     },
     "execution_count": 9,
     "metadata": {},
     "output_type": "execute_result"
    }
   ],
   "source": [
    "pd.DataFrame(documents).head()"
   ]
  },
  {
   "cell_type": "markdown",
   "id": "ccd21521",
   "metadata": {},
   "source": [
    "### 2. Obtain a list of the 2000 most frequent words"
   ]
  },
  {
   "cell_type": "markdown",
   "id": "27a60917",
   "metadata": {},
   "source": [
    "**Dictionary of unique words with frequency**"
   ]
  },
  {
   "cell_type": "code",
   "execution_count": 10,
   "id": "d2b01692",
   "metadata": {},
   "outputs": [],
   "source": [
    "all_words = nltk.FreqDist(w.lower() for w in movie_reviews.words())\n",
    "# Dictionary: key : unique words, values: freq of each words"
   ]
  },
  {
   "cell_type": "code",
   "execution_count": 11,
   "id": "d7ae9b8e",
   "metadata": {},
   "outputs": [
    {
     "data": {
      "text/plain": [
       "nltk.probability.FreqDist"
      ]
     },
     "execution_count": 11,
     "metadata": {},
     "output_type": "execute_result"
    }
   ],
   "source": [
    "type(all_words)"
   ]
  },
  {
   "cell_type": "code",
   "execution_count": 12,
   "id": "1b95132c",
   "metadata": {},
   "outputs": [
    {
     "data": {
      "text/plain": [
       "39768"
      ]
     },
     "execution_count": 12,
     "metadata": {},
     "output_type": "execute_result"
    }
   ],
   "source": [
    "len(all_words)"
   ]
  },
  {
   "cell_type": "code",
   "execution_count": 13,
   "id": "6e1acba8",
   "metadata": {},
   "outputs": [
    {
     "data": {
      "text/plain": [
       "FreqDist({',': 77717, 'the': 76529, '.': 65876, 'a': 38106, 'and': 35576, 'of': 34123, 'to': 31937, \"'\": 30585, 'is': 25195, 'in': 21822, ...})"
      ]
     },
     "execution_count": 13,
     "metadata": {},
     "output_type": "execute_result"
    }
   ],
   "source": [
    "all_words"
   ]
  },
  {
   "cell_type": "markdown",
   "id": "5d860f06",
   "metadata": {},
   "source": [
    "**List of 2000 most frequent words**"
   ]
  },
  {
   "cell_type": "code",
   "execution_count": 14,
   "id": "fc1d0e09",
   "metadata": {},
   "outputs": [],
   "source": [
    "word_features = list(all_words)[:2000]\n",
    "# obtain a list of the most 2000 most frequent words in the documents"
   ]
  },
  {
   "cell_type": "code",
   "execution_count": 15,
   "id": "87d71fd0",
   "metadata": {},
   "outputs": [
    {
     "name": "stdout",
     "output_type": "stream",
     "text": [
      "[',', 'the', '.', 'a', 'and', 'of', 'to', \"'\", 'is', 'in', 's', '\"', 'it', 'that', '-', ')', '(', 'as', 'with', 'for', 'his', 'this', 'film', 'i', 'he', 'but', 'on', 'are', 't', 'by', 'be', 'one', 'movie', 'an', 'who', 'not', 'you', 'from', 'at', 'was', 'have', 'they', 'has', 'her', 'all', '?', 'there', 'like', 'so', 'out', 'about', 'up', 'more', 'what', 'when', 'which', 'or', 'she', 'their', ':', 'some', 'just', 'can', 'if', 'we', 'him', 'into', 'even', 'only', 'than', 'no', 'good', 'time', 'most', 'its', 'will', 'story', 'would', 'been', 'much', 'character', 'also', 'get', 'other', 'do', 'two', 'well', 'them', 'very', 'characters', ';', 'first', '--', 'after', 'see', '!', 'way', 'because', 'make', 'life', 'off', 'too', 'any', 'does', 'really', 'had', 'while', 'films', 'how', 'plot', 'little', 'where', 'people', 'over', 'could', 'then', 'me', 'scene', 'man', 'bad', 'my', 'never', 'being', 'best', 'these', 'don', 'new', 'doesn', 'scenes', 'many', 'director', 'such', 'know', 'were', 'movies', 'through', 'here', 'action', 'great', 're', 'another', 'love', 'go', 'made', 'us', 'big', 'end', 'something', 'back', '*', 'still', 'world', 'seems', 'work', 'those', 'makes', 'now', 'before', 'however', 'between', 'few', '/', 'down', 'every', 'though', 'better', 'real', 'audience', 'enough', 'seen', 'take', 'around', 'both', 'going', 'year', 'performance', 'why', 'should', 'role', 'isn', 'same', 'old', 'gets', 'your', 'may', 'things', 'think', 'years', 'last', 'comedy', 'funny', 'actually', 've', 'long', 'look', 'almost', 'own', 'thing', 'fact', 'nothing', 'say', 'right', 'john', 'although', 'played', 'find', 'script', 'come', 'ever', 'cast', 'since', 'did', 'star', 'plays', 'young', 'show', 'comes', 'm', 'part', 'original', 'actors', 'screen', 'without', 'again', 'acting', 'three', 'day', 'each', 'point', 'lot', 'least', 'takes', 'guy', 'quite', 'himself', 'away', 'during', 'family', 'effects', 'course', 'goes', 'minutes', 'interesting', 'might', 'far', 'high', 'rather', 'once', 'must', 'anything', 'place', 'set', 'yet', 'watch', 'd', 'making', 'our', 'wife', 'hard', 'always', 'fun', 'didn', 'll', 'seem', 'special', 'bit', 'times', 'trying', 'hollywood', 'instead', 'give', 'want', 'picture', 'kind', 'american', 'job', 'sense', 'woman', 'home', 'having', 'series', 'actor', 'probably', 'help', 'half', 'along', 'men', 'everything', 'pretty', 'becomes', 'sure', 'black', 'together', 'dialogue', 'money', 'become', 'gives', 'given', 'looking', 'whole', 'watching', 'father', '`', 'feel', 'everyone', 'music', 'wants', 'sex', 'less', 'done', 'horror', 'got', 'death', 'perhaps', 'city', 'next', 'especially', 'play', 'girl', 'mind', '10', 'moments', 'looks', 'completely', '2', 'reason', 'mother', 'whose', 'line', 'night', 'human', 'until', 'rest', 'performances', 'different', 'evil', 'small', 'james', 'simply', 'couple', 'put', 'let', 'anyone', 'ending', 'case', 'several', 'dead', 'michael', 'left', 'thought', 'school', 'shows', 'humor', 'true', 'lost', 'written', 'itself', 'friend', 'entire', 'getting', 'town', 'turns', 'soon', 'someone', 'second', 'main', 'stars', 'found', 'use', 'problem', 'friends', 'tv', 'top', 'name', 'begins', 'called', 'based', 'comic', 'david', 'head', 'else', 'idea', 'either', 'wrong', 'unfortunately', 'later', 'final', 'hand', 'alien', 'house', 'group', 'full', 'used', 'tries', 'often', 'against', 'war', 'sequence', 'keep', 'turn', 'playing', 'boy', 'behind', 'named', 'certainly', 'live', 'believe', 'under', 'works', 'relationship', 'face', 'hour', 'run', 'style', 'said', 'despite', 'person', 'finally', 'shot', 'book', 'doing', 'tell', 'maybe', 'nice', 'son', 'perfect', 'side', 'seeing', 'able', 'finds', 'children', 'days', 'past', 'summer', 'camera', 'won', 'including', 'mr', 'kids', 'lives', 'directed', 'moment', 'game', 'running', 'fight', 'supposed', 'video', 'car', 'matter', 'kevin', 'joe', 'lines', 'worth', '=', 'daughter', 'earth', 'starts', 'need', 'entertaining', 'white', 'start', 'writer', 'dark', 'short', 'self', 'worst', 'nearly', 'opening', 'try', 'upon', 'care', 'early', 'violence', 'throughout', 'team', 'production', 'example', 'beautiful', 'title', 'exactly', 'jack', 'review', 'major', 'drama', '&', 'problems', 'sequences', 'obvious', 'version', 'screenplay', 'known', 'killer', 'wasn', 'robert', 'disney', 'already', 'close', 'classic', 'others', 'hit', 'kill', 'deep', 'five', 'order', 'act', 'simple', 'fine', 'themselves', 'heart', 'roles', 'jackie', 'direction', 'eyes', 'four', 'question', 'sort', 'sometimes', 'knows', 'supporting', 'coming', 'voice', 'women', 'truly', 'save', 'jokes', 'computer', 'child', 'o', 'boring', 'tom', 'level', '1', 'body', 'guys', 'genre', 'brother', 'strong', 'stop', 'room', 'space', 'lee', 'ends', 'beginning', 'ship', 'york', 'attempt', 'thriller', 'scream', 'peter', 'aren', 'husband', 'fiction', 'happens', 'hero', 'novel', 'note', 'hope', 'king', 'yes', 'says', 'tells', 'quickly', 'romantic', 'dog', 'oscar', 'stupid', 'possible', 'saw', 'lead', 'career', 'murder', 'extremely', 'manages', 'god', 'mostly', 'wonder', 'particularly', 'future', 'fans', 'sound', 'worse', 'piece', 'involving', 'de', 'appears', 'planet', 'paul', 'involved', 'mean', 'none', 'taking', 'hours', 'laugh', 'police', 'sets', 'attention', 'co', 'hell', 'eventually', 'single', 'fall', 'falls', 'material', 'emotional', 'power', 'late', 'lack', 'dr', 'van', 'result', 'elements', 'meet', 'smith', 'science', 'experience', 'bring', 'wild', 'living', 'theater', 'interest', 'leads', 'word', 'feature', 'battle', 'girls', 'alone', 'obviously', 'george', 'within', 'usually', 'enjoy', 'guess', 'among', 'taken', 'feeling', 'laughs', 'aliens', 'talk', 'chance', 'talent', '3', 'middle', 'number', 'easy', 'across', 'needs', 'attempts', 'happen', 'television', 'chris', 'deal', 'poor', 'form', 'girlfriend', 'viewer', 'release', 'killed', 'forced', 'whether', 'wonderful', 'feels', 'oh', 'tale', 'serious', 'expect', 'except', 'light', 'success', 'features', 'premise', 'happy', 'words', 'leave', 'important', 'meets', 'history', 'giving', 'crew', 'type', 'call', 'turned', 'released', 'parents', 'art', 'impressive', 'mission', 'working', 'seemed', 'score', 'told', 'recent', 'robin', 'basically', 'entertainment', 'america', '$', 'surprise', 'apparently', 'easily', 'ryan', 'cool', 'stuff', 'cop', 'change', 'williams', 'crime', 'office', 'parts', 'somehow', 'sequel', 'william', 'cut', 'die', 'jones', 'credits', 'batman', 'suspense', 'brings', 'events', 'reality', 'whom', 'local', 'talking', 'difficult', 'using', 'went', 'writing', 'remember', 'near', 'straight', 'hilarious', 'ago', 'certain', 'ben', 'kid', 'wouldn', 'slow', 'blood', 'mystery', 'complete', 'red', 'popular', 'effective', 'am', 'fast', 'flick', 'due', 'runs', 'gone', 'return', 'presence', 'quality', 'dramatic', 'filmmakers', 'age', 'brothers', 'business', 'general', 'rock', 'sexual', 'present', 'surprisingly', 'anyway', 'uses', '4', 'personal', 'figure', 'smart', 'ways', 'decides', 'annoying', 'begin', 'couldn', 'somewhat', 'shots', 'rich', 'minute', 'law', 'previous', 'jim', 'successful', 'harry', 'water', 'similar', 'absolutely', 'motion', 'former', 'strange', 'came', 'follow', 'read', 'project', 'million', 'secret', 'starring', 'clear', 'familiar', 'romance', 'intelligent', 'third', 'excellent', 'amazing', 'party', 'budget', 'eye', 'actress', 'prison', 'latest', 'means', 'company', 'towards', 'predictable', 'powerful', 'nor', 'bob', 'beyond', 'visual', 'leaves', 'r', 'nature', 'following', 'villain', 'leaving', 'animated', 'low', 'myself', 'b', 'bill', 'sam', 'filled', 'wars', 'questions', 'cinema', 'message', 'box', 'moving', 'herself', 'country', 'usual', 'martin', 'definitely', 'add', 'large', 'clever', 'create', 'felt', 'stories', 'brilliant', 'ones', 'giant', 'situation', 'murphy', 'break', 'opens', 'scary', 'doubt', 'drug', 'bunch', 'thinking', 'solid', 'effect', 'learn', 'move', 'force', 'potential', 'seriously', 'follows', 'above', 'saying', 'huge', 'class', 'plan', 'agent', 'created', 'unlike', 'pay', 'non', 'married', 'mark', 'sweet', 'perfectly', 'ex', 'realize', 'audiences', 'took', 'decent', 'likely', 'dream', 'view', 'scott', 'subject', 'understand', 'happened', 'enjoyable', 'studio', 'immediately', 'open', 'e', 'points', 'heard', 'viewers', 'cameron', 'truman', 'bruce', 'frank', 'private', 'stay', 'fails', 'impossible', 'cold', 'richard', 'overall', 'merely', 'exciting', 'mess', 'chase', 'free', 'ten', 'neither', 'wanted', 'gun', 'appear', 'carter', 'escape', 'ultimately', '+', 'fan', 'inside', 'favorite', 'haven', 'modern', 'l', 'wedding', 'stone', 'trek', 'brought', 'trouble', 'otherwise', 'tim', '5', 'allen', 'bond', 'society', 'liked', 'dumb', 'musical', 'stand', 'political', 'various', 'talented', 'particular', 'west', 'state', 'keeps', 'english', 'silly', 'u', 'situations', 'park', 'teen', 'rating', 'slightly', 'steve', 'truth', 'air', 'element', 'joke', 'spend', 'key', 'biggest', 'members', 'effort', 'government', 'focus', 'eddie', 'soundtrack', 'hands', 'earlier', 'chan', 'purpose', 'today', 'showing', 'memorable', 'six', 'cannot', 'max', 'offers', 'rated', 'mars', 'heavy', 'totally', 'control', 'credit', 'fi', 'woody', 'ideas', 'sci', 'wait', 'sit', 'female', 'ask', 'waste', 'terrible', 'depth', 'simon', 'aspect', 'list', 'mary', 'sister', 'animation', 'entirely', 'fear', 'steven', 'moves', 'actual', 'army', 'british', 'constantly', 'fire', 'convincing', 'setting', 'gave', 'tension', 'street', '8', 'brief', 'ridiculous', 'cinematography', 'typical', 'nick', 'screenwriter', 'ability', 'spent', 'quick', 'violent', 'atmosphere', 'subtle', 'expected', 'fairly', 'seven', 'killing', 'tone', 'master', 'disaster', 'lots', 'thinks', 'song', 'cheap', 'suddenly', 'background', 'club', 'willis', 'whatever', 'highly', 'sees', 'complex', 'greatest', 'impact', 'beauty', 'front', 'humans', 'indeed', 'flat', 'grace', 'wrote', 'amusing', 'ii', 'mike', 'further', 'cute', 'dull', 'minor', 'recently', 'hate', 'outside', 'plenty', 'wish', 'godzilla', 'college', 'titanic', 'sounds', 'telling', 'sight', 'double', 'cinematic', 'queen', 'hold', 'meanwhile', 'awful', 'clearly', 'theme', 'hear', 'x', 'amount', 'baby', 'approach', 'dreams', 'shown', 'island', 'reasons', 'charm', 'miss', 'longer', 'common', 'sean', 'carry', 'believable', 'realistic', 'chemistry', 'possibly', 'casting', 'carrey', 'french', 'trailer', 'tough', 'produced', 'imagine', 'choice', 'ride', 'somewhere', 'hot', 'race', 'road', 'leader', 'thin', 'jerry', 'slowly', 'delivers', 'detective', 'brown', 'jackson', 'member', 'provide', 'president', 'puts', 'asks', 'critics', 'appearance', 'famous', 'okay', 'intelligence', 'energy', 'sent', 'spielberg', 'development', 'etc', 'language', 'blue', 'proves', 'vampire', 'seemingly', 'basic', 'caught', 'decide', 'opportunity', 'incredibly', 'images', 'band', 'j', 'writers', 'knew', 'interested', 'considering', 'boys', 'thanks', 'remains', 'climax', 'event', 'directing', 'conclusion', 'leading', 'ground', 'lies', 'forget', 'alive', 'tarzan', 'century', 'provides', 'trip', 'partner', 'central', 'tarantino', 'period', 'pace', 'yourself', 'worked', 'ready', 'date', 'thus', '1998', 'terrific', 'write', 'average', 'onto', 'songs', 'occasionally', 'doctor', 'stands', 'hardly', 'monster', 'led', 'mysterious', 'details', 'wasted', 'apart', 'aside', 'store', 'billy', 'boss', 'travolta', 'producer', 'pull', 'consider', 'pictures', 'becoming', 'cage', 'loud', 'looked', 'officer', 'twenty', 'system', 'contains', 'julia', 'subplot', 'missing', 'personality', 'building', 'learns', 'hong', 'la', 'apartment', '7', 'bizarre', 'powers', 'flaws', 'catch', 'lawyer', 'shoot', 'student', 'unique', '000', 'admit', 'concept', 'needed', 'thrown', 'christopher', 'laughing', 'green', 'twists', 'matthew', 'touch', 'waiting', 'victim', 'cover', 'machine', 'danny', 'mention', 'search', '1997', 'win', 'door', 'manner', 'train', 'saving', 'share', 'image', 'discovers', 'normal', 'cross', 'fox', 'returns', 'adult', 'adds', 'answer', 'adventure', 'lame', 'male', 'odd', 'singer', 'deserves', 'gore', 'states', 'include', 'equally', 'months', 'barely', 'directors', 'introduced', 'fashion', 'social', '1999', 'news', 'hair', 'dance', 'innocent', 'camp', 'teacher', 'became', 'sad', 'witch', 'includes', 'nights', 'jason', 'julie', 'latter', 'food', 'jennifer', 'land', 'menace', 'rate', 'storyline', 'contact', 'jean', 'elizabeth', 'fellow', 'changes', 'henry', 'hill', 'pulp', 'gay', 'tried', 'surprised', 'literally', 'walk', 'standard', '90', 'forward', 'wise', 'enjoyed', 'discover', 'pop', 'anderson', 'offer', 'recommend', 'public', 'drive', 'c', 'toy', 'charming', 'fair', 'chinese', 'rescue', 'terms', 'mouth', 'lucas', 'accident', 'dies', 'decided', 'edge', 'footage', 'culture', 'weak', 'presented', 'blade', 'younger', 'douglas', 'natural', 'born', 'generally', 'teenage', 'older', 'horrible', 'addition', 'sadly', 'creates', 'disturbing', 'roger', 'detail', 'devil', 'debut', 'track', 'developed', 'week', 'russell', 'attack', 'explain', 'rarely', 'fully', 'prove', 'exception', 'jeff', 'twist', 'gang', 'winning', 'jr', 'species', 'issues', 'fresh', 'rules', 'meaning', 'inspired', 'heroes', 'desperate', 'fighting', 'filmed', 'faces', 'alan', 'bright', 'ass', 'flying', 'kong', 'rush', 'forces', 'charles', 'numerous', 'emotions', 'involves', 'patrick', 'weird', 'apparent', 'information', 'revenge', 'jay', 'toward', 'surprising', 'twice', 'editing', 'calls', 'lose', 'vegas', 'stage', 'intended', 'gags', 'opinion', 'likes', 'crazy', 'owner', 'places', 'pair', 'genuine', 'epic', 'speak', 'throw', 'appeal', 'gibson', 'captain', 'military', '20', 'blair', 'nowhere', 'length', 'nicely', 'cause', 'pass', 'episode', 'kiss', 'arnold', 'please', 'hasn', 'phone', 'filmmaking', 'formula', 'boyfriend', 'talents', 'creating', 'kelly', 'buy', 'wide', 'fantasy', 'mood', 'heads', 'pathetic', 'lacks', 'loved', 'asked', 'mrs', 'witty', 'shakespeare', 'mulan', 'generation', 'affair', 'pieces', 'task', 'rare', 'kept', 'cameo', 'fascinating', 'ed', 'fbi', 'burton', 'incredible', 'accent', 'artist', 'superior', 'academy', 'thomas', 'spirit', 'technical', 'confusing', 'poorly', 'target', 'lover', 'woo', 'mentioned', 'theaters', 'plane', 'confused', 'dennis', 'rob', 'appropriate', 'christmas', 'considered', 'legend', 'shame', 'soul', 'matt', 'campbell', 'process', 'bottom', 'sitting', 'brain', 'creepy', '13', 'forever', 'dude', 'crap', 'superb', 'speech', 'ice', 'journey', 'masterpiece', 'intriguing', 'names', 'pick', 'speaking', 'virtually', 'award', 'worthy', 'marriage', 'deliver', 'cash', 'magic', 'respect', 'product', 'necessary', 'suppose', 'silent', 'pointless', 'station', 'affleck', 'dimensional', 'charlie', 'allows', 'avoid', 'meant', 'cops', 'attitude', 'relationships', 'hits', 'stephen', 'spends', 'relief', 'physical', 'count', 'reviews', 'appreciate', 'cliches', 'holds', 'pure', 'plans', 'limited', 'failed', 'pain', 'impression', 'unless', 'sub', '[', 'total', 'creature', 'viewing', 'loves', 'princess', 'kate', 'rising', 'woods', 'baldwin', 'angry', 'drawn', 'step', 'matrix', 'themes', 'satire', 'arts', ']', 'remake', 'wall', 'moral', 'color', 'ray', 'stuck', 'touching', 'wit', 'tony', 'hanks', 'continues', 'damn', 'nobody', 'cartoon', 'keeping', 'realized', 'criminal', 'unfunny', 'comedic', 'martial', 'disappointing', 'anti', 'graphic', 'stunning', 'actions', 'floor', 'emotion', 'soldiers', 'edward', 'comedies', 'driver', 'expectations', 'added', 'mad', 'angels', 'shallow', 'suspect', 'humorous', 'phantom', 'appealing', 'device', 'design', 'industry', 'reach', 'fat', 'blame', 'united', 'sign', 'portrayal', 'rocky', 'finale', 'grand', 'opposite', 'hotel', 'match', 'damme', 'speed', 'ok', 'loving', 'field', 'larry', 'urban', 'troopers', 'compared', 'apes', 'rose', 'falling', 'era', 'loses', 'adults', 'managed', 'dad', 'therefore', 'pg', 'results', 'guns', 'radio', 'lady', 'manage', 'spice', 'naked', 'started', 'intense', 'humanity', 'wonderfully', 'slasher', 'bland', 'imagination', 'walking', 'willing', 'horse', 'rent', 'mix', 'generated', 'g', 'utterly', 'scientist', 'washington', 'notice', 'players', 'teenagers', 'moore', 'board', 'price', 'frightening', 'tommy', 'spectacular', 'bored', 'jane', 'join', 'producers', 'johnny', 'zero', 'vampires', 'adaptation', 'dollars', 'parody', 'documentary', 'dvd', 'wayne', 'post', 'exist', 'matters', 'chosen', 'mel', 'attractive', 'plain', 'trust', 'safe', 'reading', 'hoping', 'protagonist', 'feelings', 'fate', 'finding', 'feet', 'visuals', 'spawn', 'compelling', 'hall', 'sympathetic', 'featuring', 'difference', 'professional', 'drugs', 'ford', 'shooting', 'gold', 'patch', 'build', 'boat', 'cruise', 'honest', 'media', 'flicks', 'bug', 'bringing', 'dangerous', 'watched', 'grant', 'smile', 'plus', 'shouldn', 'decision', 'visually', 'allow', 'starship', 'roberts', 'dying', 'portrayed', 'turning', 'believes', 'changed', 'shock', 'destroy', '30', 'crowd', 'broken', 'tired', 'fail', 'south', 'died', 'cult', 'fake', 'vincent', 'identity', 'sexy', 'hunt', 'jedi', 'flynt', 'alex', 'engaging', 'serve', 'snake', 'yeah', 'expecting', '100', 'decade', 'ups', 'constant', 'current', 'survive', 'jimmy', 'buddy', 'send', 'brooks', 'goofy', 'likable', 'humour', 'technology', 'files', 'babe', 'aspects', 'presents', 'kills', 'supposedly', 'eight', 'sandler', 'hospital', 'test', 'hidden', 'brian', 'books', 'promise', 'determined', 'professor', 'welcome', 'pleasure', 'succeeds', 'individual', 'annie', 'mob', 'ted', 'virus', 'content', 'gary', 'direct', 'contrived', 'carpenter', 'scale', 'sick', 'nasty', 'conflict', 'haunting', 'ghost', 'filmmaker', 'japanese', 'helps', 'fare', 'lucky', 'ultimate', 'window', 'support', 'goal', 'provided', 'genius', 'winner', 'taylor', 'fantastic', 'faith', 'lynch', 'fit', 'catherine', 'ms', 'paced', 'breaks', 'al', 'frame', 'travel', 'badly', 'available', 'cares', 'reeves', 'crash', 'driving', 'press', 'seagal', 'amy', '9', 'headed', 'instance', 'excuse', 'offensive', 'narrative', 'fault', 'bus', 'f', 'extreme', 'miller', 'guilty', 'grows', 'overly', 'liners', 'forgotten', 'ahead', 'accept', 'porn', 'directly', 'helen', 'began', 'lord', 'folks', 'mediocre', 'bar', 'surface', 'super', 'failure', '6', 'acted', 'quiet', 'laughable', 'sheer', 'security', 'emotionally', 'season', 'stuart', 'jail', 'deals', 'cheesy', 'court', 'beach', 'austin', 'model', 'outstanding', 'substance', 'nudity', 'slapstick', 'joan', 'reveal', 'placed', 'check', 'beast', 'hurt', 'bloody', 'acts', 'fame', 'meeting', 'nuclear', '1996', 'strength', 'center', 'funniest', 'standing', 'damon', 'clich', 'position', 'desire', 'driven', 'seat', 'stock', 'wondering', 'realizes', 'dealing', 'taste', 'routine', 'comparison', 'cinematographer', 'seconds', 'singing', 'gangster', 'responsible', 'football', 'remarkable', 'hunting', 'adams', 'fly', 'suspects', 'treat', 'hopes', 'heaven', 'myers', 'struggle', 'costumes', 'beat', 'happening', 'skills', 'ugly', 'figures', 'thoroughly', 'ill', 'surprises', 'player', 'rival', 'guard', 'anthony', 'strike', 'community', 'streets', 'hopkins', 'ended', 'originally', 'sarah', 'creative', 'characterization', 'thankfully', 'growing', 'sharp', 'williamson', 'eccentric', 'explained', 'hey', 'claire', 'steal', 'inevitable', 'joel', 'core', 'weren', 'sorry', 'built', 'anne', 'breaking', 'villains', 'critic', 'lets', 'visit', 'followed']\n"
     ]
    }
   ],
   "source": [
    "print(word_features)"
   ]
  },
  {
   "cell_type": "markdown",
   "id": "f2d01323",
   "metadata": {},
   "source": [
    "### 3. Create features from Data:\n",
    "- a list of 2000 tuple, each tuple is have 2 elements (a dictionary of features & target)"
   ]
  },
  {
   "cell_type": "code",
   "execution_count": 16,
   "id": "8d3ca0f0",
   "metadata": {},
   "outputs": [],
   "source": [
    "def document_features(document):\n",
    "    document_words = set(document)\n",
    "    features = {}\n",
    "    for word in word_features:\n",
    "        features['contains({})'.format(word)] = (word in document_words)\n",
    "    return features"
   ]
  },
  {
   "cell_type": "code",
   "execution_count": 17,
   "id": "53228cd7",
   "metadata": {},
   "outputs": [],
   "source": [
    "featuresets = [(document_features(d), c) for (d,c) in documents]"
   ]
  },
  {
   "cell_type": "code",
   "execution_count": 18,
   "id": "b29a6501",
   "metadata": {},
   "outputs": [
    {
     "name": "stdout",
     "output_type": "stream",
     "text": [
      "<class 'list'>\n",
      "2000\n",
      "({'contains(,)': True, 'contains(the)': True, 'contains(.)': True, 'contains(a)': True, 'contains(and)': True, 'contains(of)': True, 'contains(to)': True, \"contains(')\": True, 'contains(is)': True, 'contains(in)': True, 'contains(s)': True, 'contains(\")': True, 'contains(it)': True, 'contains(that)': True, 'contains(-)': True, 'contains())': True, 'contains(()': True, 'contains(as)': True, 'contains(with)': True, 'contains(for)': True, 'contains(his)': True, 'contains(this)': True, 'contains(film)': True, 'contains(i)': True, 'contains(he)': True, 'contains(but)': True, 'contains(on)': True, 'contains(are)': False, 'contains(t)': True, 'contains(by)': True, 'contains(be)': True, 'contains(one)': True, 'contains(movie)': False, 'contains(an)': True, 'contains(who)': True, 'contains(not)': True, 'contains(you)': False, 'contains(from)': True, 'contains(at)': True, 'contains(was)': True, 'contains(have)': False, 'contains(they)': False, 'contains(has)': True, 'contains(her)': True, 'contains(all)': False, 'contains(?)': False, 'contains(there)': False, 'contains(like)': True, 'contains(so)': True, 'contains(out)': True, 'contains(about)': False, 'contains(up)': False, 'contains(more)': True, 'contains(what)': False, 'contains(when)': True, 'contains(which)': True, 'contains(or)': False, 'contains(she)': False, 'contains(their)': False, 'contains(:)': False, 'contains(some)': True, 'contains(just)': True, 'contains(can)': False, 'contains(if)': True, 'contains(we)': True, 'contains(him)': True, 'contains(into)': False, 'contains(even)': True, 'contains(only)': False, 'contains(than)': False, 'contains(no)': False, 'contains(good)': True, 'contains(time)': False, 'contains(most)': False, 'contains(its)': False, 'contains(will)': False, 'contains(story)': False, 'contains(would)': False, 'contains(been)': False, 'contains(much)': True, 'contains(character)': False, 'contains(also)': False, 'contains(get)': False, 'contains(other)': True, 'contains(do)': True, 'contains(two)': True, 'contains(well)': True, 'contains(them)': False, 'contains(very)': False, 'contains(characters)': True, 'contains(;)': False, 'contains(first)': True, 'contains(--)': False, 'contains(after)': False, 'contains(see)': True, 'contains(!)': False, 'contains(way)': True, 'contains(because)': False, 'contains(make)': False, 'contains(life)': False, 'contains(off)': False, 'contains(too)': True, 'contains(any)': True, 'contains(does)': True, 'contains(really)': False, 'contains(had)': False, 'contains(while)': True, 'contains(films)': False, 'contains(how)': False, 'contains(plot)': False, 'contains(little)': True, 'contains(where)': False, 'contains(people)': False, 'contains(over)': False, 'contains(could)': False, 'contains(then)': False, 'contains(me)': False, 'contains(scene)': False, 'contains(man)': False, 'contains(bad)': False, 'contains(my)': False, 'contains(never)': False, 'contains(being)': True, 'contains(best)': True, 'contains(these)': False, 'contains(don)': False, 'contains(new)': False, 'contains(doesn)': False, 'contains(scenes)': False, 'contains(many)': False, 'contains(director)': False, 'contains(such)': True, 'contains(know)': False, 'contains(were)': False, 'contains(movies)': False, 'contains(through)': False, 'contains(here)': True, 'contains(action)': False, 'contains(great)': True, 'contains(re)': False, 'contains(another)': False, 'contains(love)': False, 'contains(go)': True, 'contains(made)': False, 'contains(us)': False, 'contains(big)': False, 'contains(end)': False, 'contains(something)': False, 'contains(back)': False, 'contains(*)': False, 'contains(still)': True, 'contains(world)': False, 'contains(seems)': True, 'contains(work)': True, 'contains(those)': False, 'contains(makes)': False, 'contains(now)': False, 'contains(before)': True, 'contains(however)': False, 'contains(between)': False, 'contains(few)': False, 'contains(/)': False, 'contains(down)': False, 'contains(every)': False, 'contains(though)': False, 'contains(better)': False, 'contains(real)': False, 'contains(audience)': False, 'contains(enough)': False, 'contains(seen)': True, 'contains(take)': False, 'contains(around)': False, 'contains(both)': False, 'contains(going)': False, 'contains(year)': True, 'contains(performance)': True, 'contains(why)': False, 'contains(should)': True, 'contains(role)': True, 'contains(isn)': True, 'contains(same)': False, 'contains(old)': True, 'contains(gets)': True, 'contains(your)': False, 'contains(may)': True, 'contains(things)': False, 'contains(think)': True, 'contains(years)': True, 'contains(last)': False, 'contains(comedy)': True, 'contains(funny)': False, 'contains(actually)': True, 'contains(ve)': True, 'contains(long)': True, 'contains(look)': False, 'contains(almost)': False, 'contains(own)': False, 'contains(thing)': False, 'contains(fact)': False, 'contains(nothing)': False, 'contains(say)': False, 'contains(right)': False, 'contains(john)': False, 'contains(although)': True, 'contains(played)': False, 'contains(find)': False, 'contains(script)': False, 'contains(come)': False, 'contains(ever)': True, 'contains(cast)': False, 'contains(since)': False, 'contains(did)': False, 'contains(star)': True, 'contains(plays)': True, 'contains(young)': True, 'contains(show)': False, 'contains(comes)': True, 'contains(m)': False, 'contains(part)': False, 'contains(original)': False, 'contains(actors)': False, 'contains(screen)': False, 'contains(without)': True, 'contains(again)': False, 'contains(acting)': False, 'contains(three)': False, 'contains(day)': True, 'contains(each)': False, 'contains(point)': False, 'contains(lot)': False, 'contains(least)': True, 'contains(takes)': False, 'contains(guy)': False, 'contains(quite)': False, 'contains(himself)': True, 'contains(away)': False, 'contains(during)': False, 'contains(family)': False, 'contains(effects)': False, 'contains(course)': False, 'contains(goes)': True, 'contains(minutes)': False, 'contains(interesting)': False, 'contains(might)': False, 'contains(far)': False, 'contains(high)': False, 'contains(rather)': False, 'contains(once)': False, 'contains(must)': True, 'contains(anything)': False, 'contains(place)': False, 'contains(set)': False, 'contains(yet)': True, 'contains(watch)': False, 'contains(d)': False, 'contains(making)': True, 'contains(our)': False, 'contains(wife)': False, 'contains(hard)': False, 'contains(always)': False, 'contains(fun)': False, 'contains(didn)': False, 'contains(ll)': False, 'contains(seem)': False, 'contains(special)': False, 'contains(bit)': False, 'contains(times)': False, 'contains(trying)': False, 'contains(hollywood)': False, 'contains(instead)': False, 'contains(give)': False, 'contains(want)': False, 'contains(picture)': False, 'contains(kind)': False, 'contains(american)': True, 'contains(job)': False, 'contains(sense)': False, 'contains(woman)': False, 'contains(home)': False, 'contains(having)': False, 'contains(series)': False, 'contains(actor)': True, 'contains(probably)': True, 'contains(help)': True, 'contains(half)': False, 'contains(along)': False, 'contains(men)': False, 'contains(everything)': False, 'contains(pretty)': False, 'contains(becomes)': False, 'contains(sure)': False, 'contains(black)': False, 'contains(together)': False, 'contains(dialogue)': False, 'contains(money)': False, 'contains(become)': False, 'contains(gives)': False, 'contains(given)': True, 'contains(looking)': False, 'contains(whole)': False, 'contains(watching)': True, 'contains(father)': False, 'contains(`)': False, 'contains(feel)': False, 'contains(everyone)': True, 'contains(music)': False, 'contains(wants)': True, 'contains(sex)': False, 'contains(less)': False, 'contains(done)': False, 'contains(horror)': False, 'contains(got)': False, 'contains(death)': False, 'contains(perhaps)': False, 'contains(city)': False, 'contains(next)': False, 'contains(especially)': False, 'contains(play)': False, 'contains(girl)': False, 'contains(mind)': True, 'contains(10)': False, 'contains(moments)': False, 'contains(looks)': False, 'contains(completely)': False, 'contains(2)': False, 'contains(reason)': False, 'contains(mother)': False, 'contains(whose)': False, 'contains(line)': False, 'contains(night)': False, 'contains(human)': False, 'contains(until)': False, 'contains(rest)': False, 'contains(performances)': True, 'contains(different)': False, 'contains(evil)': False, 'contains(small)': False, 'contains(james)': False, 'contains(simply)': False, 'contains(couple)': False, 'contains(put)': False, 'contains(let)': False, 'contains(anyone)': True, 'contains(ending)': False, 'contains(case)': False, 'contains(several)': False, 'contains(dead)': False, 'contains(michael)': False, 'contains(left)': False, 'contains(thought)': False, 'contains(school)': False, 'contains(shows)': False, 'contains(humor)': False, 'contains(true)': False, 'contains(lost)': False, 'contains(written)': True, 'contains(itself)': False, 'contains(friend)': False, 'contains(entire)': False, 'contains(getting)': False, 'contains(town)': False, 'contains(turns)': False, 'contains(soon)': False, 'contains(someone)': True, 'contains(second)': False, 'contains(main)': False, 'contains(stars)': True, 'contains(found)': False, 'contains(use)': False, 'contains(problem)': False, 'contains(friends)': False, 'contains(tv)': False, 'contains(top)': False, 'contains(name)': False, 'contains(begins)': False, 'contains(called)': False, 'contains(based)': False, 'contains(comic)': False, 'contains(david)': False, 'contains(head)': False, 'contains(else)': True, 'contains(idea)': False, 'contains(either)': False, 'contains(wrong)': False, 'contains(unfortunately)': True, 'contains(later)': False, 'contains(final)': False, 'contains(hand)': False, 'contains(alien)': False, 'contains(house)': False, 'contains(group)': False, 'contains(full)': False, 'contains(used)': False, 'contains(tries)': False, 'contains(often)': False, 'contains(against)': False, 'contains(war)': False, 'contains(sequence)': False, 'contains(keep)': False, 'contains(turn)': False, 'contains(playing)': False, 'contains(boy)': False, 'contains(behind)': False, 'contains(named)': False, 'contains(certainly)': False, 'contains(live)': False, 'contains(believe)': False, 'contains(under)': False, 'contains(works)': True, 'contains(relationship)': False, 'contains(face)': False, 'contains(hour)': False, 'contains(run)': False, 'contains(style)': False, 'contains(said)': False, 'contains(despite)': False, 'contains(person)': False, 'contains(finally)': False, 'contains(shot)': False, 'contains(book)': False, 'contains(doing)': False, 'contains(tell)': False, 'contains(maybe)': False, 'contains(nice)': False, 'contains(son)': False, 'contains(perfect)': True, 'contains(side)': False, 'contains(seeing)': False, 'contains(able)': False, 'contains(finds)': True, 'contains(children)': False, 'contains(days)': False, 'contains(past)': False, 'contains(summer)': False, 'contains(camera)': False, 'contains(won)': False, 'contains(including)': False, 'contains(mr)': False, 'contains(kids)': False, 'contains(lives)': False, 'contains(directed)': False, 'contains(moment)': False, 'contains(game)': False, 'contains(running)': False, 'contains(fight)': False, 'contains(supposed)': False, 'contains(video)': False, 'contains(car)': False, 'contains(matter)': False, 'contains(kevin)': False, 'contains(joe)': False, 'contains(lines)': False, 'contains(worth)': False, 'contains(=)': False, 'contains(daughter)': False, 'contains(earth)': False, 'contains(starts)': False, 'contains(need)': False, 'contains(entertaining)': False, 'contains(white)': False, 'contains(start)': False, 'contains(writer)': False, 'contains(dark)': False, 'contains(short)': False, 'contains(self)': False, 'contains(worst)': False, 'contains(nearly)': False, 'contains(opening)': False, 'contains(try)': False, 'contains(upon)': False, 'contains(care)': False, 'contains(early)': False, 'contains(violence)': False, 'contains(throughout)': False, 'contains(team)': False, 'contains(production)': False, 'contains(example)': False, 'contains(beautiful)': False, 'contains(title)': False, 'contains(exactly)': False, 'contains(jack)': False, 'contains(review)': False, 'contains(major)': False, 'contains(drama)': False, 'contains(&)': False, 'contains(problems)': False, 'contains(sequences)': False, 'contains(obvious)': False, 'contains(version)': False, 'contains(screenplay)': False, 'contains(known)': False, 'contains(killer)': False, 'contains(wasn)': False, 'contains(robert)': False, 'contains(disney)': False, 'contains(already)': True, 'contains(close)': False, 'contains(classic)': True, 'contains(others)': False, 'contains(hit)': False, 'contains(kill)': False, 'contains(deep)': False, 'contains(five)': False, 'contains(order)': False, 'contains(act)': False, 'contains(simple)': False, 'contains(fine)': True, 'contains(themselves)': False, 'contains(heart)': False, 'contains(roles)': False, 'contains(jackie)': False, 'contains(direction)': False, 'contains(eyes)': False, 'contains(four)': False, 'contains(question)': False, 'contains(sort)': False, 'contains(sometimes)': False, 'contains(knows)': False, 'contains(supporting)': False, 'contains(coming)': True, 'contains(voice)': False, 'contains(women)': False, 'contains(truly)': False, 'contains(save)': False, 'contains(jokes)': False, 'contains(computer)': False, 'contains(child)': False, 'contains(o)': False, 'contains(boring)': False, 'contains(tom)': False, 'contains(level)': False, 'contains(1)': False, 'contains(body)': False, 'contains(guys)': False, 'contains(genre)': False, 'contains(brother)': False, 'contains(strong)': False, 'contains(stop)': False, 'contains(room)': False, 'contains(space)': False, 'contains(lee)': False, 'contains(ends)': False, 'contains(beginning)': False, 'contains(ship)': False, 'contains(york)': False, 'contains(attempt)': False, 'contains(thriller)': False, 'contains(scream)': False, 'contains(peter)': False, 'contains(aren)': False, 'contains(husband)': False, 'contains(fiction)': False, 'contains(happens)': False, 'contains(hero)': True, 'contains(novel)': False, 'contains(note)': False, 'contains(hope)': False, 'contains(king)': False, 'contains(yes)': False, 'contains(says)': False, 'contains(tells)': False, 'contains(quickly)': False, 'contains(romantic)': False, 'contains(dog)': False, 'contains(oscar)': False, 'contains(stupid)': False, 'contains(possible)': False, 'contains(saw)': False, 'contains(lead)': False, 'contains(career)': True, 'contains(murder)': False, 'contains(extremely)': False, 'contains(manages)': False, 'contains(god)': False, 'contains(mostly)': False, 'contains(wonder)': True, 'contains(particularly)': False, 'contains(future)': False, 'contains(fans)': False, 'contains(sound)': False, 'contains(worse)': False, 'contains(piece)': False, 'contains(involving)': False, 'contains(de)': False, 'contains(appears)': False, 'contains(planet)': False, 'contains(paul)': True, 'contains(involved)': True, 'contains(mean)': False, 'contains(none)': False, 'contains(taking)': False, 'contains(hours)': False, 'contains(laugh)': False, 'contains(police)': False, 'contains(sets)': False, 'contains(attention)': False, 'contains(co)': False, 'contains(hell)': False, 'contains(eventually)': False, 'contains(single)': False, 'contains(fall)': False, 'contains(falls)': True, 'contains(material)': False, 'contains(emotional)': False, 'contains(power)': False, 'contains(late)': False, 'contains(lack)': False, 'contains(dr)': False, 'contains(van)': False, 'contains(result)': True, 'contains(elements)': False, 'contains(meet)': False, 'contains(smith)': False, 'contains(science)': False, 'contains(experience)': False, 'contains(bring)': False, 'contains(wild)': False, 'contains(living)': False, 'contains(theater)': False, 'contains(interest)': False, 'contains(leads)': False, 'contains(word)': False, 'contains(feature)': False, 'contains(battle)': False, 'contains(girls)': False, 'contains(alone)': False, 'contains(obviously)': False, 'contains(george)': False, 'contains(within)': False, 'contains(usually)': False, 'contains(enjoy)': False, 'contains(guess)': False, 'contains(among)': False, 'contains(taken)': False, 'contains(feeling)': False, 'contains(laughs)': False, 'contains(aliens)': False, 'contains(talk)': False, 'contains(chance)': False, 'contains(talent)': False, 'contains(3)': False, 'contains(middle)': False, 'contains(number)': False, 'contains(easy)': False, 'contains(across)': False, 'contains(needs)': False, 'contains(attempts)': False, 'contains(happen)': False, 'contains(television)': False, 'contains(chris)': False, 'contains(deal)': False, 'contains(poor)': False, 'contains(form)': False, 'contains(girlfriend)': False, 'contains(viewer)': False, 'contains(release)': False, 'contains(killed)': False, 'contains(forced)': False, 'contains(whether)': False, 'contains(wonderful)': False, 'contains(feels)': False, 'contains(oh)': False, 'contains(tale)': False, 'contains(serious)': False, 'contains(expect)': False, 'contains(except)': True, 'contains(light)': False, 'contains(success)': True, 'contains(features)': False, 'contains(premise)': False, 'contains(happy)': False, 'contains(words)': False, 'contains(leave)': False, 'contains(important)': False, 'contains(meets)': False, 'contains(history)': False, 'contains(giving)': False, 'contains(crew)': False, 'contains(type)': False, 'contains(call)': False, 'contains(turned)': False, 'contains(released)': False, 'contains(parents)': False, 'contains(art)': False, 'contains(impressive)': False, 'contains(mission)': False, 'contains(working)': False, 'contains(seemed)': False, 'contains(score)': False, 'contains(told)': False, 'contains(recent)': False, 'contains(robin)': False, 'contains(basically)': False, 'contains(entertainment)': False, 'contains(america)': False, 'contains($)': False, 'contains(surprise)': False, 'contains(apparently)': False, 'contains(easily)': False, 'contains(ryan)': False, 'contains(cool)': False, 'contains(stuff)': False, 'contains(cop)': False, 'contains(change)': False, 'contains(williams)': True, 'contains(crime)': False, 'contains(office)': False, 'contains(parts)': False, 'contains(somehow)': False, 'contains(sequel)': False, 'contains(william)': False, 'contains(cut)': False, 'contains(die)': False, 'contains(jones)': False, 'contains(credits)': False, 'contains(batman)': False, 'contains(suspense)': False, 'contains(brings)': False, 'contains(events)': False, 'contains(reality)': False, 'contains(whom)': False, 'contains(local)': False, 'contains(talking)': False, 'contains(difficult)': False, 'contains(using)': False, 'contains(went)': False, 'contains(writing)': True, 'contains(remember)': False, 'contains(near)': False, 'contains(straight)': False, 'contains(hilarious)': False, 'contains(ago)': False, 'contains(certain)': False, 'contains(ben)': False, 'contains(kid)': False, 'contains(wouldn)': False, 'contains(slow)': False, 'contains(blood)': False, 'contains(mystery)': False, 'contains(complete)': False, 'contains(red)': False, 'contains(popular)': False, 'contains(effective)': False, 'contains(am)': False, 'contains(fast)': False, 'contains(flick)': False, 'contains(due)': False, 'contains(runs)': False, 'contains(gone)': False, 'contains(return)': False, 'contains(presence)': False, 'contains(quality)': False, 'contains(dramatic)': False, 'contains(filmmakers)': False, 'contains(age)': True, 'contains(brothers)': False, 'contains(business)': False, 'contains(general)': False, 'contains(rock)': False, 'contains(sexual)': False, 'contains(present)': False, 'contains(surprisingly)': False, 'contains(anyway)': False, 'contains(uses)': False, 'contains(4)': False, 'contains(personal)': False, 'contains(figure)': False, 'contains(smart)': False, 'contains(ways)': False, 'contains(decides)': False, 'contains(annoying)': False, 'contains(begin)': False, 'contains(couldn)': False, 'contains(somewhat)': False, 'contains(shots)': False, 'contains(rich)': False, 'contains(minute)': False, 'contains(law)': False, 'contains(previous)': False, 'contains(jim)': False, 'contains(successful)': False, 'contains(harry)': False, 'contains(water)': True, 'contains(similar)': False, 'contains(absolutely)': False, 'contains(motion)': False, 'contains(former)': False, 'contains(strange)': False, 'contains(came)': False, 'contains(follow)': False, 'contains(read)': False, 'contains(project)': False, 'contains(million)': False, 'contains(secret)': False, 'contains(starring)': False, 'contains(clear)': False, 'contains(familiar)': False, 'contains(romance)': False, 'contains(intelligent)': False, 'contains(third)': False, 'contains(excellent)': False, 'contains(amazing)': False, 'contains(party)': False, 'contains(budget)': False, 'contains(eye)': False, 'contains(actress)': False, 'contains(prison)': False, 'contains(latest)': False, 'contains(means)': False, 'contains(company)': False, 'contains(towards)': False, 'contains(predictable)': False, 'contains(powerful)': False, 'contains(nor)': False, 'contains(bob)': False, 'contains(beyond)': False, 'contains(visual)': True, 'contains(leaves)': False, 'contains(r)': False, 'contains(nature)': False, 'contains(following)': False, 'contains(villain)': False, 'contains(leaving)': False, 'contains(animated)': False, 'contains(low)': False, 'contains(myself)': False, 'contains(b)': False, 'contains(bill)': True, 'contains(sam)': False, 'contains(filled)': False, 'contains(wars)': False, 'contains(questions)': False, 'contains(cinema)': False, 'contains(message)': False, 'contains(box)': False, 'contains(moving)': False, 'contains(herself)': False, 'contains(country)': False, 'contains(usual)': False, 'contains(martin)': False, 'contains(definitely)': False, 'contains(add)': False, 'contains(large)': False, 'contains(clever)': False, 'contains(create)': False, 'contains(felt)': False, 'contains(stories)': False, 'contains(brilliant)': False, 'contains(ones)': False, 'contains(giant)': False, 'contains(situation)': False, 'contains(murphy)': False, 'contains(break)': False, 'contains(opens)': False, 'contains(scary)': False, 'contains(doubt)': False, 'contains(drug)': False, 'contains(bunch)': False, 'contains(thinking)': False, 'contains(solid)': False, 'contains(effect)': False, 'contains(learn)': False, 'contains(move)': False, 'contains(force)': False, 'contains(potential)': False, 'contains(seriously)': False, 'contains(follows)': False, 'contains(above)': False, 'contains(saying)': False, 'contains(huge)': False, 'contains(class)': False, 'contains(plan)': False, 'contains(agent)': False, 'contains(created)': True, 'contains(unlike)': False, 'contains(pay)': False, 'contains(non)': False, 'contains(married)': False, 'contains(mark)': False, 'contains(sweet)': False, 'contains(perfectly)': False, 'contains(ex)': False, 'contains(realize)': False, 'contains(audiences)': False, 'contains(took)': False, 'contains(decent)': False, 'contains(likely)': False, 'contains(dream)': False, 'contains(view)': False, 'contains(scott)': False, 'contains(subject)': False, 'contains(understand)': False, 'contains(happened)': False, 'contains(enjoyable)': False, 'contains(studio)': False, 'contains(immediately)': False, 'contains(open)': False, 'contains(e)': False, 'contains(points)': False, 'contains(heard)': False, 'contains(viewers)': False, 'contains(cameron)': False, 'contains(truman)': False, 'contains(bruce)': False, 'contains(frank)': False, 'contains(private)': False, 'contains(stay)': False, 'contains(fails)': False, 'contains(impossible)': False, 'contains(cold)': False, 'contains(richard)': False, 'contains(overall)': False, 'contains(merely)': False, 'contains(exciting)': False, 'contains(mess)': False, 'contains(chase)': False, 'contains(free)': False, 'contains(ten)': False, 'contains(neither)': False, 'contains(wanted)': False, 'contains(gun)': False, 'contains(appear)': False, 'contains(carter)': False, 'contains(escape)': False, 'contains(ultimately)': False, 'contains(+)': False, 'contains(fan)': False, 'contains(inside)': False, 'contains(favorite)': False, 'contains(haven)': True, 'contains(modern)': True, 'contains(l)': False, 'contains(wedding)': False, 'contains(stone)': False, 'contains(trek)': False, 'contains(brought)': False, 'contains(trouble)': False, 'contains(otherwise)': False, 'contains(tim)': False, 'contains(5)': False, 'contains(allen)': False, 'contains(bond)': False, 'contains(society)': False, 'contains(liked)': False, 'contains(dumb)': False, 'contains(musical)': False, 'contains(stand)': False, 'contains(political)': False, 'contains(various)': False, 'contains(talented)': False, 'contains(particular)': False, 'contains(west)': False, 'contains(state)': False, 'contains(keeps)': False, 'contains(english)': False, 'contains(silly)': False, 'contains(u)': False, 'contains(situations)': False, 'contains(park)': False, 'contains(teen)': False, 'contains(rating)': False, 'contains(slightly)': False, 'contains(steve)': False, 'contains(truth)': False, 'contains(air)': False, 'contains(element)': False, 'contains(joke)': False, 'contains(spend)': False, 'contains(key)': False, 'contains(biggest)': False, 'contains(members)': False, 'contains(effort)': False, 'contains(government)': False, 'contains(focus)': False, 'contains(eddie)': False, 'contains(soundtrack)': False, 'contains(hands)': False, 'contains(earlier)': False, 'contains(chan)': False, 'contains(purpose)': False, 'contains(today)': False, 'contains(showing)': False, 'contains(memorable)': False, 'contains(six)': False, 'contains(cannot)': False, 'contains(max)': True, 'contains(offers)': False, 'contains(rated)': False, 'contains(mars)': False, 'contains(heavy)': False, 'contains(totally)': False, 'contains(control)': False, 'contains(credit)': False, 'contains(fi)': False, 'contains(woody)': False, 'contains(ideas)': False, 'contains(sci)': False, 'contains(wait)': False, 'contains(sit)': False, 'contains(female)': False, 'contains(ask)': False, 'contains(waste)': False, 'contains(terrible)': False, 'contains(depth)': True, 'contains(simon)': False, 'contains(aspect)': False, 'contains(list)': False, 'contains(mary)': False, 'contains(sister)': False, 'contains(animation)': False, 'contains(entirely)': False, 'contains(fear)': False, 'contains(steven)': False, 'contains(moves)': False, 'contains(actual)': False, 'contains(army)': False, 'contains(british)': False, 'contains(constantly)': False, 'contains(fire)': False, 'contains(convincing)': False, 'contains(setting)': False, 'contains(gave)': False, 'contains(tension)': False, 'contains(street)': False, 'contains(8)': False, 'contains(brief)': False, 'contains(ridiculous)': False, 'contains(cinematography)': False, 'contains(typical)': False, 'contains(nick)': False, 'contains(screenwriter)': False, 'contains(ability)': False, 'contains(spent)': False, 'contains(quick)': False, 'contains(violent)': False, 'contains(atmosphere)': False, 'contains(subtle)': False, 'contains(expected)': False, 'contains(fairly)': False, 'contains(seven)': False, 'contains(killing)': False, 'contains(tone)': False, 'contains(master)': False, 'contains(disaster)': False, 'contains(lots)': False, 'contains(thinks)': False, 'contains(song)': False, 'contains(cheap)': False, 'contains(suddenly)': False, 'contains(background)': False, 'contains(club)': False, 'contains(willis)': False, 'contains(whatever)': False, 'contains(highly)': False, 'contains(sees)': True, 'contains(complex)': False, 'contains(greatest)': False, 'contains(impact)': False, 'contains(beauty)': False, 'contains(front)': False, 'contains(humans)': False, 'contains(indeed)': False, 'contains(flat)': False, 'contains(grace)': False, 'contains(wrote)': False, 'contains(amusing)': False, 'contains(ii)': False, 'contains(mike)': False, 'contains(further)': False, 'contains(cute)': False, 'contains(dull)': False, 'contains(minor)': False, 'contains(recently)': False, 'contains(hate)': False, 'contains(outside)': False, 'contains(plenty)': False, 'contains(wish)': False, 'contains(godzilla)': False, 'contains(college)': False, 'contains(titanic)': False, 'contains(sounds)': False, 'contains(telling)': False, 'contains(sight)': False, 'contains(double)': False, 'contains(cinematic)': False, 'contains(queen)': False, 'contains(hold)': False, 'contains(meanwhile)': False, 'contains(awful)': False, 'contains(clearly)': False, 'contains(theme)': False, 'contains(hear)': False, 'contains(x)': False, 'contains(amount)': True, 'contains(baby)': False, 'contains(approach)': False, 'contains(dreams)': False, 'contains(shown)': False, 'contains(island)': False, 'contains(reasons)': False, 'contains(charm)': False, 'contains(miss)': True, 'contains(longer)': False, 'contains(common)': False, 'contains(sean)': False, 'contains(carry)': False, 'contains(believable)': False, 'contains(realistic)': False, 'contains(chemistry)': False, 'contains(possibly)': False, 'contains(casting)': False, 'contains(carrey)': False, 'contains(french)': False, 'contains(trailer)': False, 'contains(tough)': False, 'contains(produced)': False, 'contains(imagine)': False, 'contains(choice)': False, 'contains(ride)': False, 'contains(somewhere)': False, 'contains(hot)': True, 'contains(race)': False, 'contains(road)': False, 'contains(leader)': False, 'contains(thin)': False, 'contains(jerry)': False, 'contains(slowly)': False, 'contains(delivers)': False, 'contains(detective)': False, 'contains(brown)': False, 'contains(jackson)': False, 'contains(member)': False, 'contains(provide)': False, 'contains(president)': True, 'contains(puts)': False, 'contains(asks)': False, 'contains(critics)': False, 'contains(appearance)': False, 'contains(famous)': False, 'contains(okay)': False, 'contains(intelligence)': False, 'contains(energy)': False, 'contains(sent)': False, 'contains(spielberg)': False, 'contains(development)': False, 'contains(etc)': False, 'contains(language)': False, 'contains(blue)': False, 'contains(proves)': False, 'contains(vampire)': False, 'contains(seemingly)': False, 'contains(basic)': False, 'contains(caught)': False, 'contains(decide)': False, 'contains(opportunity)': False, 'contains(incredibly)': False, 'contains(images)': False, 'contains(band)': False, 'contains(j)': False, 'contains(writers)': False, 'contains(knew)': False, 'contains(interested)': True, 'contains(considering)': False, 'contains(boys)': False, 'contains(thanks)': False, 'contains(remains)': False, 'contains(climax)': False, 'contains(event)': False, 'contains(directing)': False, 'contains(conclusion)': False, 'contains(leading)': False, 'contains(ground)': False, 'contains(lies)': False, 'contains(forget)': False, 'contains(alive)': False, 'contains(tarzan)': False, 'contains(century)': False, 'contains(provides)': False, 'contains(trip)': False, 'contains(partner)': False, 'contains(central)': False, 'contains(tarantino)': False, 'contains(period)': False, 'contains(pace)': False, 'contains(yourself)': False, 'contains(worked)': False, 'contains(ready)': False, 'contains(date)': False, 'contains(thus)': False, 'contains(1998)': False, 'contains(terrific)': True, 'contains(write)': False, 'contains(average)': False, 'contains(onto)': False, 'contains(songs)': False, 'contains(occasionally)': False, 'contains(doctor)': False, 'contains(stands)': False, 'contains(hardly)': False, 'contains(monster)': False, 'contains(led)': False, 'contains(mysterious)': False, 'contains(details)': False, 'contains(wasted)': False, 'contains(apart)': False, 'contains(aside)': False, 'contains(store)': False, 'contains(billy)': False, 'contains(boss)': False, 'contains(travolta)': False, 'contains(producer)': False, 'contains(pull)': False, 'contains(consider)': False, 'contains(pictures)': False, 'contains(becoming)': False, 'contains(cage)': False, 'contains(loud)': False, 'contains(looked)': False, 'contains(officer)': False, 'contains(twenty)': False, 'contains(system)': False, 'contains(contains)': False, 'contains(julia)': False, 'contains(subplot)': False, 'contains(missing)': False, 'contains(personality)': False, 'contains(building)': False, 'contains(learns)': False, 'contains(hong)': False, 'contains(la)': False, 'contains(apartment)': False, 'contains(7)': False, 'contains(bizarre)': False, 'contains(powers)': False, 'contains(flaws)': False, 'contains(catch)': False, 'contains(lawyer)': False, 'contains(shoot)': False, 'contains(student)': True, 'contains(unique)': False, 'contains(000)': False, 'contains(admit)': False, 'contains(concept)': False, 'contains(needed)': False, 'contains(thrown)': True, 'contains(christopher)': False, 'contains(laughing)': False, 'contains(green)': False, 'contains(twists)': False, 'contains(matthew)': False, 'contains(touch)': False, 'contains(waiting)': False, 'contains(victim)': False, 'contains(cover)': False, 'contains(machine)': False, 'contains(danny)': False, 'contains(mention)': False, 'contains(search)': False, 'contains(1997)': False, 'contains(win)': False, 'contains(door)': False, 'contains(manner)': False, 'contains(train)': False, 'contains(saving)': False, 'contains(share)': False, 'contains(image)': False, 'contains(discovers)': False, 'contains(normal)': False, 'contains(cross)': True, 'contains(fox)': False, 'contains(returns)': False, 'contains(adult)': False, 'contains(adds)': False, 'contains(answer)': False, 'contains(adventure)': False, 'contains(lame)': False, 'contains(male)': False, 'contains(odd)': False, 'contains(singer)': False, 'contains(deserves)': False, 'contains(gore)': False, 'contains(states)': False, 'contains(include)': False, 'contains(equally)': False, 'contains(months)': False, 'contains(barely)': False, 'contains(directors)': False, 'contains(introduced)': False, 'contains(fashion)': False, 'contains(social)': False, 'contains(1999)': False, 'contains(news)': False, 'contains(hair)': False, 'contains(dance)': False, 'contains(innocent)': False, 'contains(camp)': False, 'contains(teacher)': True, 'contains(became)': False, 'contains(sad)': False, 'contains(witch)': False, 'contains(includes)': False, 'contains(nights)': False, 'contains(jason)': True, 'contains(julie)': False, 'contains(latter)': False, 'contains(food)': False, 'contains(jennifer)': False, 'contains(land)': False, 'contains(menace)': False, 'contains(rate)': False, 'contains(storyline)': False, 'contains(contact)': False, 'contains(jean)': False, 'contains(elizabeth)': False, 'contains(fellow)': False, 'contains(changes)': False, 'contains(henry)': False, 'contains(hill)': False, 'contains(pulp)': False, 'contains(gay)': False, 'contains(tried)': False, 'contains(surprised)': False, 'contains(literally)': False, 'contains(walk)': False, 'contains(standard)': False, 'contains(90)': False, 'contains(forward)': False, 'contains(wise)': False, 'contains(enjoyed)': False, 'contains(discover)': False, 'contains(pop)': False, 'contains(anderson)': True, 'contains(offer)': False, 'contains(recommend)': False, 'contains(public)': False, 'contains(drive)': False, 'contains(c)': False, 'contains(toy)': False, 'contains(charming)': False, 'contains(fair)': False, 'contains(chinese)': False, 'contains(rescue)': False, 'contains(terms)': False, 'contains(mouth)': False, 'contains(lucas)': False, 'contains(accident)': False, 'contains(dies)': False, 'contains(decided)': False, 'contains(edge)': False, 'contains(footage)': False, 'contains(culture)': False, 'contains(weak)': False, 'contains(presented)': False, 'contains(blade)': False, 'contains(younger)': False, 'contains(douglas)': False, 'contains(natural)': False, 'contains(born)': False, 'contains(generally)': False, 'contains(teenage)': False, 'contains(older)': False, 'contains(horrible)': False, 'contains(addition)': False, 'contains(sadly)': False, 'contains(creates)': False, 'contains(disturbing)': False, 'contains(roger)': False, 'contains(detail)': False, 'contains(devil)': False, 'contains(debut)': True, 'contains(track)': False, 'contains(developed)': False, 'contains(week)': False, 'contains(russell)': False, 'contains(attack)': False, 'contains(explain)': False, 'contains(rarely)': False, 'contains(fully)': False, 'contains(prove)': False, 'contains(exception)': False, 'contains(jeff)': False, 'contains(twist)': False, 'contains(gang)': False, 'contains(winning)': False, 'contains(jr)': False, 'contains(species)': False, 'contains(issues)': False, 'contains(fresh)': False, 'contains(rules)': False, 'contains(meaning)': False, 'contains(inspired)': False, 'contains(heroes)': False, 'contains(desperate)': False, 'contains(fighting)': False, 'contains(filmed)': False, 'contains(faces)': False, 'contains(alan)': False, 'contains(bright)': False, 'contains(ass)': False, 'contains(flying)': False, 'contains(kong)': False, 'contains(rush)': False, 'contains(forces)': False, 'contains(charles)': False, 'contains(numerous)': False, 'contains(emotions)': False, 'contains(involves)': False, 'contains(patrick)': False, 'contains(weird)': True, 'contains(apparent)': False, 'contains(information)': False, 'contains(revenge)': False, 'contains(jay)': False, 'contains(toward)': False, 'contains(surprising)': True, 'contains(twice)': False, 'contains(editing)': False, 'contains(calls)': False, 'contains(lose)': False, 'contains(vegas)': False, 'contains(stage)': False, 'contains(intended)': False, 'contains(gags)': False, 'contains(opinion)': False, 'contains(likes)': False, 'contains(crazy)': False, 'contains(owner)': False, 'contains(places)': False, 'contains(pair)': False, 'contains(genuine)': False, 'contains(epic)': False, 'contains(speak)': False, 'contains(throw)': False, 'contains(appeal)': False, 'contains(gibson)': False, 'contains(captain)': False, 'contains(military)': False, 'contains(20)': False, 'contains(blair)': False, 'contains(nowhere)': False, 'contains(length)': False, 'contains(nicely)': False, 'contains(cause)': False, 'contains(pass)': False, 'contains(episode)': False, 'contains(kiss)': False, 'contains(arnold)': False, 'contains(please)': False, 'contains(hasn)': False, 'contains(phone)': False, 'contains(filmmaking)': False, 'contains(formula)': False, 'contains(boyfriend)': False, 'contains(talents)': False, 'contains(creating)': False, 'contains(kelly)': False, 'contains(buy)': False, 'contains(wide)': False, 'contains(fantasy)': False, 'contains(mood)': False, 'contains(heads)': False, 'contains(pathetic)': False, 'contains(lacks)': False, 'contains(loved)': False, 'contains(asked)': False, 'contains(mrs)': False, 'contains(witty)': False, 'contains(shakespeare)': False, 'contains(mulan)': False, 'contains(generation)': False, 'contains(affair)': False, 'contains(pieces)': False, 'contains(task)': False, 'contains(rare)': False, 'contains(kept)': False, 'contains(cameo)': False, 'contains(fascinating)': False, 'contains(ed)': False, 'contains(fbi)': False, 'contains(burton)': False, 'contains(incredible)': False, 'contains(accent)': False, 'contains(artist)': False, 'contains(superior)': False, 'contains(academy)': True, 'contains(thomas)': False, 'contains(spirit)': False, 'contains(technical)': False, 'contains(confusing)': False, 'contains(poorly)': False, 'contains(target)': False, 'contains(lover)': False, 'contains(woo)': True, 'contains(mentioned)': False, 'contains(theaters)': False, 'contains(plane)': False, 'contains(confused)': False, 'contains(dennis)': False, 'contains(rob)': False, 'contains(appropriate)': False, 'contains(christmas)': False, 'contains(considered)': False, 'contains(legend)': False, 'contains(shame)': False, 'contains(soul)': False, 'contains(matt)': False, 'contains(campbell)': False, 'contains(process)': False, 'contains(bottom)': False, 'contains(sitting)': False, 'contains(brain)': False, 'contains(creepy)': False, 'contains(13)': False, 'contains(forever)': False, 'contains(dude)': False, 'contains(crap)': False, 'contains(superb)': False, 'contains(speech)': False, 'contains(ice)': False, 'contains(journey)': False, 'contains(masterpiece)': False, 'contains(intriguing)': False, 'contains(names)': False, 'contains(pick)': False, 'contains(speaking)': False, 'contains(virtually)': False, 'contains(award)': False, 'contains(worthy)': False, 'contains(marriage)': False, 'contains(deliver)': False, 'contains(cash)': False, 'contains(magic)': False, 'contains(respect)': False, 'contains(product)': False, 'contains(necessary)': False, 'contains(suppose)': False, 'contains(silent)': False, 'contains(pointless)': False, 'contains(station)': False, 'contains(affleck)': False, 'contains(dimensional)': False, 'contains(charlie)': False, 'contains(allows)': False, 'contains(avoid)': False, 'contains(meant)': False, 'contains(cops)': False, 'contains(attitude)': False, 'contains(relationships)': False, 'contains(hits)': False, 'contains(stephen)': False, 'contains(spends)': False, 'contains(relief)': False, 'contains(physical)': False, 'contains(count)': False, 'contains(reviews)': False, 'contains(appreciate)': False, 'contains(cliches)': False, 'contains(holds)': False, 'contains(pure)': False, 'contains(plans)': True, 'contains(limited)': False, 'contains(failed)': False, 'contains(pain)': False, 'contains(impression)': False, 'contains(unless)': False, 'contains(sub)': False, 'contains([)': False, 'contains(total)': False, 'contains(creature)': False, 'contains(viewing)': False, 'contains(loves)': False, 'contains(princess)': False, 'contains(kate)': False, 'contains(rising)': False, 'contains(woods)': False, 'contains(baldwin)': False, 'contains(angry)': False, 'contains(drawn)': False, 'contains(step)': False, 'contains(matrix)': False, 'contains(themes)': False, 'contains(satire)': False, 'contains(arts)': False, 'contains(])': False, 'contains(remake)': False, 'contains(wall)': False, 'contains(moral)': False, 'contains(color)': False, 'contains(ray)': False, 'contains(stuck)': False, 'contains(touching)': False, 'contains(wit)': False, 'contains(tony)': False, 'contains(hanks)': False, 'contains(continues)': False, 'contains(damn)': False, 'contains(nobody)': False, 'contains(cartoon)': False, 'contains(keeping)': False, 'contains(realized)': False, 'contains(criminal)': False, 'contains(unfunny)': False, 'contains(comedic)': False, 'contains(martial)': False, 'contains(disappointing)': False, 'contains(anti)': True, 'contains(graphic)': False, 'contains(stunning)': False, 'contains(actions)': False, 'contains(floor)': False, 'contains(emotion)': False, 'contains(soldiers)': False, 'contains(edward)': False, 'contains(comedies)': False, 'contains(driver)': False, 'contains(expectations)': False, 'contains(added)': False, 'contains(mad)': False, 'contains(angels)': False, 'contains(shallow)': False, 'contains(suspect)': False, 'contains(humorous)': False, 'contains(phantom)': False, 'contains(appealing)': False, 'contains(device)': False, 'contains(design)': False, 'contains(industry)': False, 'contains(reach)': False, 'contains(fat)': False, 'contains(blame)': False, 'contains(united)': False, 'contains(sign)': False, 'contains(portrayal)': False, 'contains(rocky)': False, 'contains(finale)': False, 'contains(grand)': False, 'contains(opposite)': False, 'contains(hotel)': False, 'contains(match)': False, 'contains(damme)': False, 'contains(speed)': False, 'contains(ok)': False, 'contains(loving)': False, 'contains(field)': True, 'contains(larry)': False, 'contains(urban)': False, 'contains(troopers)': False, 'contains(compared)': False, 'contains(apes)': False, 'contains(rose)': False, 'contains(falling)': False, 'contains(era)': False, 'contains(loses)': False, 'contains(adults)': False, 'contains(managed)': False, 'contains(dad)': False, 'contains(therefore)': False, 'contains(pg)': False, 'contains(results)': False, 'contains(guns)': False, 'contains(radio)': False, 'contains(lady)': False, 'contains(manage)': False, 'contains(spice)': False, 'contains(naked)': False, 'contains(started)': False, 'contains(intense)': False, 'contains(humanity)': False, 'contains(wonderfully)': False, 'contains(slasher)': False, 'contains(bland)': False, 'contains(imagination)': False, 'contains(walking)': False, 'contains(willing)': False, 'contains(horse)': False, 'contains(rent)': False, 'contains(mix)': False, 'contains(generated)': False, 'contains(g)': False, 'contains(utterly)': False, 'contains(scientist)': False, 'contains(washington)': False, 'contains(notice)': False, 'contains(players)': False, 'contains(teenagers)': False, 'contains(moore)': False, 'contains(board)': False, 'contains(price)': False, 'contains(frightening)': False, 'contains(tommy)': False, 'contains(spectacular)': False, 'contains(bored)': False, 'contains(jane)': False, 'contains(join)': False, 'contains(producers)': False, 'contains(johnny)': False, 'contains(zero)': False, 'contains(vampires)': False, 'contains(adaptation)': False, 'contains(dollars)': False, 'contains(parody)': False, 'contains(documentary)': False, 'contains(dvd)': False, 'contains(wayne)': False, 'contains(post)': False, 'contains(exist)': False, 'contains(matters)': False, 'contains(chosen)': False, 'contains(mel)': False, 'contains(attractive)': False, 'contains(plain)': False, 'contains(trust)': False, 'contains(safe)': False, 'contains(reading)': False, 'contains(hoping)': False, 'contains(protagonist)': False, 'contains(feelings)': True, 'contains(fate)': False, 'contains(finding)': False, 'contains(feet)': False, 'contains(visuals)': False, 'contains(spawn)': False, 'contains(compelling)': False, 'contains(hall)': False, 'contains(sympathetic)': False, 'contains(featuring)': False, 'contains(difference)': False, 'contains(professional)': False, 'contains(drugs)': False, 'contains(ford)': False, 'contains(shooting)': False, 'contains(gold)': False, 'contains(patch)': False, 'contains(build)': True, 'contains(boat)': False, 'contains(cruise)': False, 'contains(honest)': False, 'contains(media)': False, 'contains(flicks)': False, 'contains(bug)': False, 'contains(bringing)': False, 'contains(dangerous)': False, 'contains(watched)': False, 'contains(grant)': False, 'contains(smile)': False, 'contains(plus)': False, 'contains(shouldn)': False, 'contains(decision)': False, 'contains(visually)': False, 'contains(allow)': False, 'contains(starship)': False, 'contains(roberts)': False, 'contains(dying)': False, 'contains(portrayed)': False, 'contains(turning)': False, 'contains(believes)': False, 'contains(changed)': False, 'contains(shock)': True, 'contains(destroy)': False, 'contains(30)': False, 'contains(crowd)': False, 'contains(broken)': False, 'contains(tired)': False, 'contains(fail)': False, 'contains(south)': False, 'contains(died)': False, 'contains(cult)': False, 'contains(fake)': False, 'contains(vincent)': False, 'contains(identity)': False, 'contains(sexy)': False, 'contains(hunt)': False, 'contains(jedi)': False, 'contains(flynt)': False, 'contains(alex)': False, 'contains(engaging)': False, 'contains(serve)': False, 'contains(snake)': False, 'contains(yeah)': False, 'contains(expecting)': False, 'contains(100)': False, 'contains(decade)': False, 'contains(ups)': False, 'contains(constant)': False, 'contains(current)': False, 'contains(survive)': False, 'contains(jimmy)': False, 'contains(buddy)': False, 'contains(send)': False, 'contains(brooks)': False, 'contains(goofy)': False, 'contains(likable)': False, 'contains(humour)': False, 'contains(technology)': False, 'contains(files)': False, 'contains(babe)': False, 'contains(aspects)': False, 'contains(presents)': False, 'contains(kills)': False, 'contains(supposedly)': False, 'contains(eight)': False, 'contains(sandler)': False, 'contains(hospital)': False, 'contains(test)': False, 'contains(hidden)': False, 'contains(brian)': False, 'contains(books)': False, 'contains(promise)': False, 'contains(determined)': False, 'contains(professor)': False, 'contains(welcome)': False, 'contains(pleasure)': False, 'contains(succeeds)': False, 'contains(individual)': False, 'contains(annie)': False, 'contains(mob)': False, 'contains(ted)': False, 'contains(virus)': False, 'contains(content)': False, 'contains(gary)': False, 'contains(direct)': False, 'contains(contrived)': False, 'contains(carpenter)': False, 'contains(scale)': False, 'contains(sick)': False, 'contains(nasty)': False, 'contains(conflict)': False, 'contains(haunting)': False, 'contains(ghost)': False, 'contains(filmmaker)': False, 'contains(japanese)': False, 'contains(helps)': False, 'contains(fare)': False, 'contains(lucky)': False, 'contains(ultimate)': False, 'contains(window)': False, 'contains(support)': False, 'contains(goal)': False, 'contains(provided)': False, 'contains(genius)': False, 'contains(winner)': False, 'contains(taylor)': False, 'contains(fantastic)': False, 'contains(faith)': False, 'contains(lynch)': False, 'contains(fit)': False, 'contains(catherine)': False, 'contains(ms)': False, 'contains(paced)': False, 'contains(breaks)': False, 'contains(al)': False, 'contains(frame)': False, 'contains(travel)': False, 'contains(badly)': False, 'contains(available)': False, 'contains(cares)': False, 'contains(reeves)': False, 'contains(crash)': False, 'contains(driving)': False, 'contains(press)': False, 'contains(seagal)': False, 'contains(amy)': False, 'contains(9)': False, 'contains(headed)': False, 'contains(instance)': False, 'contains(excuse)': False, 'contains(offensive)': False, 'contains(narrative)': False, 'contains(fault)': False, 'contains(bus)': False, 'contains(f)': False, 'contains(extreme)': False, 'contains(miller)': False, 'contains(guilty)': False, 'contains(grows)': False, 'contains(overly)': False, 'contains(liners)': False, 'contains(forgotten)': False, 'contains(ahead)': False, 'contains(accept)': False, 'contains(porn)': False, 'contains(directly)': False, 'contains(helen)': False, 'contains(began)': False, 'contains(lord)': False, 'contains(folks)': False, 'contains(mediocre)': False, 'contains(bar)': False, 'contains(surface)': False, 'contains(super)': False, 'contains(failure)': False, 'contains(6)': False, 'contains(acted)': False, 'contains(quiet)': False, 'contains(laughable)': False, 'contains(sheer)': False, 'contains(security)': False, 'contains(emotionally)': False, 'contains(season)': False, 'contains(stuart)': False, 'contains(jail)': False, 'contains(deals)': False, 'contains(cheesy)': False, 'contains(court)': False, 'contains(beach)': False, 'contains(austin)': False, 'contains(model)': False, 'contains(outstanding)': False, 'contains(substance)': False, 'contains(nudity)': False, 'contains(slapstick)': False, 'contains(joan)': False, 'contains(reveal)': False, 'contains(placed)': False, 'contains(check)': False, 'contains(beast)': False, 'contains(hurt)': False, 'contains(bloody)': False, 'contains(acts)': False, 'contains(fame)': False, 'contains(meeting)': False, 'contains(nuclear)': False, 'contains(1996)': False, 'contains(strength)': False, 'contains(center)': False, 'contains(funniest)': False, 'contains(standing)': False, 'contains(damon)': False, 'contains(clich)': False, 'contains(position)': False, 'contains(desire)': False, 'contains(driven)': False, 'contains(seat)': False, 'contains(stock)': False, 'contains(wondering)': False, 'contains(realizes)': False, 'contains(dealing)': False, 'contains(taste)': False, 'contains(routine)': False, 'contains(comparison)': False, 'contains(cinematographer)': False, 'contains(seconds)': False, 'contains(singing)': False, 'contains(gangster)': False, 'contains(responsible)': False, 'contains(football)': False, 'contains(remarkable)': False, 'contains(hunting)': False, 'contains(adams)': False, 'contains(fly)': False, 'contains(suspects)': False, 'contains(treat)': False, 'contains(hopes)': False, 'contains(heaven)': False, 'contains(myers)': False, 'contains(struggle)': False, 'contains(costumes)': False, 'contains(beat)': False, 'contains(happening)': False, 'contains(skills)': False, 'contains(ugly)': False, 'contains(figures)': False, 'contains(thoroughly)': False, 'contains(ill)': False, 'contains(surprises)': False, 'contains(player)': False, 'contains(rival)': False, 'contains(guard)': False, 'contains(anthony)': False, 'contains(strike)': False, 'contains(community)': False, 'contains(streets)': False, 'contains(hopkins)': False, 'contains(ended)': False, 'contains(originally)': False, 'contains(sarah)': False, 'contains(creative)': False, 'contains(characterization)': False, 'contains(thankfully)': False, 'contains(growing)': False, 'contains(sharp)': False, 'contains(williamson)': False, 'contains(eccentric)': False, 'contains(explained)': False, 'contains(hey)': False, 'contains(claire)': False, 'contains(steal)': False, 'contains(inevitable)': False, 'contains(joel)': False, 'contains(core)': False, 'contains(weren)': False, 'contains(sorry)': False, 'contains(built)': False, 'contains(anne)': False, 'contains(breaking)': False, 'contains(villains)': False, 'contains(critic)': False, 'contains(lets)': False, 'contains(visit)': False, 'contains(followed)': False}, 'pos')\n"
     ]
    }
   ],
   "source": [
    "print(type(featuresets))\n",
    "print(len(featuresets))\n",
    "print(featuresets[0])"
   ]
  },
  {
   "cell_type": "code",
   "execution_count": 19,
   "id": "02fd8eaf",
   "metadata": {},
   "outputs": [
    {
     "data": {
      "text/html": [
       "<div>\n",
       "<style scoped>\n",
       "    .dataframe tbody tr th:only-of-type {\n",
       "        vertical-align: middle;\n",
       "    }\n",
       "\n",
       "    .dataframe tbody tr th {\n",
       "        vertical-align: top;\n",
       "    }\n",
       "\n",
       "    .dataframe thead th {\n",
       "        text-align: right;\n",
       "    }\n",
       "</style>\n",
       "<table border=\"1\" class=\"dataframe\">\n",
       "  <thead>\n",
       "    <tr style=\"text-align: right;\">\n",
       "      <th></th>\n",
       "      <th>0</th>\n",
       "      <th>1</th>\n",
       "    </tr>\n",
       "  </thead>\n",
       "  <tbody>\n",
       "    <tr>\n",
       "      <th>0</th>\n",
       "      <td>{'contains(,)': True, 'contains(the)': True, '...</td>\n",
       "      <td>pos</td>\n",
       "    </tr>\n",
       "    <tr>\n",
       "      <th>1</th>\n",
       "      <td>{'contains(,)': True, 'contains(the)': True, '...</td>\n",
       "      <td>neg</td>\n",
       "    </tr>\n",
       "    <tr>\n",
       "      <th>2</th>\n",
       "      <td>{'contains(,)': True, 'contains(the)': True, '...</td>\n",
       "      <td>neg</td>\n",
       "    </tr>\n",
       "    <tr>\n",
       "      <th>3</th>\n",
       "      <td>{'contains(,)': True, 'contains(the)': True, '...</td>\n",
       "      <td>neg</td>\n",
       "    </tr>\n",
       "    <tr>\n",
       "      <th>4</th>\n",
       "      <td>{'contains(,)': True, 'contains(the)': True, '...</td>\n",
       "      <td>neg</td>\n",
       "    </tr>\n",
       "    <tr>\n",
       "      <th>...</th>\n",
       "      <td>...</td>\n",
       "      <td>...</td>\n",
       "    </tr>\n",
       "    <tr>\n",
       "      <th>1995</th>\n",
       "      <td>{'contains(,)': True, 'contains(the)': True, '...</td>\n",
       "      <td>pos</td>\n",
       "    </tr>\n",
       "    <tr>\n",
       "      <th>1996</th>\n",
       "      <td>{'contains(,)': True, 'contains(the)': True, '...</td>\n",
       "      <td>pos</td>\n",
       "    </tr>\n",
       "    <tr>\n",
       "      <th>1997</th>\n",
       "      <td>{'contains(,)': True, 'contains(the)': True, '...</td>\n",
       "      <td>neg</td>\n",
       "    </tr>\n",
       "    <tr>\n",
       "      <th>1998</th>\n",
       "      <td>{'contains(,)': True, 'contains(the)': True, '...</td>\n",
       "      <td>pos</td>\n",
       "    </tr>\n",
       "    <tr>\n",
       "      <th>1999</th>\n",
       "      <td>{'contains(,)': True, 'contains(the)': True, '...</td>\n",
       "      <td>neg</td>\n",
       "    </tr>\n",
       "  </tbody>\n",
       "</table>\n",
       "<p>2000 rows × 2 columns</p>\n",
       "</div>"
      ],
      "text/plain": [
       "                                                      0    1\n",
       "0     {'contains(,)': True, 'contains(the)': True, '...  pos\n",
       "1     {'contains(,)': True, 'contains(the)': True, '...  neg\n",
       "2     {'contains(,)': True, 'contains(the)': True, '...  neg\n",
       "3     {'contains(,)': True, 'contains(the)': True, '...  neg\n",
       "4     {'contains(,)': True, 'contains(the)': True, '...  neg\n",
       "...                                                 ...  ...\n",
       "1995  {'contains(,)': True, 'contains(the)': True, '...  pos\n",
       "1996  {'contains(,)': True, 'contains(the)': True, '...  pos\n",
       "1997  {'contains(,)': True, 'contains(the)': True, '...  neg\n",
       "1998  {'contains(,)': True, 'contains(the)': True, '...  pos\n",
       "1999  {'contains(,)': True, 'contains(the)': True, '...  neg\n",
       "\n",
       "[2000 rows x 2 columns]"
      ]
     },
     "execution_count": 19,
     "metadata": {},
     "output_type": "execute_result"
    }
   ],
   "source": [
    "pd.DataFrame(featuresets)"
   ]
  },
  {
   "cell_type": "markdown",
   "id": "5428a71e",
   "metadata": {},
   "source": [
    "### 4. Split and train model"
   ]
  },
  {
   "cell_type": "code",
   "execution_count": 20,
   "id": "83a0e1af",
   "metadata": {},
   "outputs": [],
   "source": [
    "train_set, test_set = featuresets[100:], featuresets[:100]\n",
    "classifier = nltk.NaiveBayesClassifier.train(train_set)"
   ]
  },
  {
   "cell_type": "code",
   "execution_count": 21,
   "id": "390fd4ff",
   "metadata": {},
   "outputs": [
    {
     "data": {
      "text/plain": [
       "0.82"
      ]
     },
     "execution_count": 21,
     "metadata": {},
     "output_type": "execute_result"
    }
   ],
   "source": [
    "nltk.classify.accuracy(classifier, test_set)"
   ]
  },
  {
   "cell_type": "code",
   "execution_count": 22,
   "id": "47a6709c",
   "metadata": {},
   "outputs": [
    {
     "name": "stdout",
     "output_type": "stream",
     "text": [
      "Most Informative Features\n",
      "   contains(outstanding) = True              pos : neg    =     13.4 : 1.0\n",
      "         contains(mulan) = True              pos : neg    =      9.0 : 1.0\n",
      "        contains(seagal) = True              neg : pos    =      8.2 : 1.0\n",
      "   contains(wonderfully) = True              pos : neg    =      6.8 : 1.0\n",
      "        contains(wasted) = True              neg : pos    =      6.0 : 1.0\n"
     ]
    }
   ],
   "source": [
    "classifier.show_most_informative_features(5)"
   ]
  },
  {
   "cell_type": "code",
   "execution_count": null,
   "id": "7edf0709",
   "metadata": {},
   "outputs": [],
   "source": []
  }
 ],
 "metadata": {
  "kernelspec": {
   "display_name": "Python 3",
   "language": "python",
   "name": "python3"
  },
  "language_info": {
   "codemirror_mode": {
    "name": "ipython",
    "version": 3
   },
   "file_extension": ".py",
   "mimetype": "text/x-python",
   "name": "python",
   "nbconvert_exporter": "python",
   "pygments_lexer": "ipython3",
   "version": "3.8.6"
  }
 },
 "nbformat": 4,
 "nbformat_minor": 5
}
